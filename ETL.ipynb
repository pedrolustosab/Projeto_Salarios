{
 "cells": [
  {
   "cell_type": "code",
   "execution_count": 10,
   "metadata": {},
   "outputs": [],
   "source": [
    "import json\n",
    "from functools import reduce"
   ]
  },
  {
   "cell_type": "code",
   "execution_count": 3,
   "metadata": {},
   "outputs": [],
   "source": [
    "def carrega_dados(path:str) -> list[dict]:\n",
    "    try:\n",
    "        with open(path, 'r') as arquivo: # abre o arquivo especificado pelo caminho path no modo de leitura ('r')\n",
    "            dados = arquivo.read()\n",
    "            return json.loads(dados)\n",
    "    except FileNotFoundError: # ocorre quando o arquivo especificado em open() não é encontrado\n",
    "        return []"
   ]
  },
  {
   "cell_type": "code",
   "execution_count": 6,
   "metadata": {},
   "outputs": [
    {
     "name": "stdout",
     "output_type": "stream",
     "text": [
      "{'work_year': '2023', 'experience_level': 'EX', 'employment_type': 'FT', 'job_title': 'Data Science Director', 'salary': '212000', 'salary_currency': 'USD', 'salary_in_usd': '212000', 'employee_residence': 'US', 'remote_ratio': 0, 'company_location': 'US', 'company_size': 'M'}\n",
      "8805\n"
     ]
    }
   ],
   "source": [
    "# Carregando os dados\n",
    "dados = carrega_dados('salaries_BK.json')\n",
    "print(dados[0])\n",
    "print(len(dados))"
   ]
  },
  {
   "cell_type": "code",
   "execution_count": 7,
   "metadata": {},
   "outputs": [
    {
     "name": "stdout",
     "output_type": "stream",
     "text": [
      "{'work_year': '2023', 'experience_level': 'EX', 'employment_type': 'FT', 'job_title': 'Data Science Director', 'salary': '212000', 'salary_currency': 'USD', 'salary_in_usd': '212000', 'employee_residence': 'US', 'remote_ratio': 0, 'company_location': 'US', 'company_size': 'M'}\n",
      "219\n"
     ]
    }
   ],
   "source": [
    "#Filtra apenas data science\n",
    "dados = [job for job in dados if 'data science' in job['job_title'].lower()]\n",
    "print(dados[0])\n",
    "print(len(dados))"
   ]
  },
  {
   "cell_type": "code",
   "execution_count": 9,
   "metadata": {},
   "outputs": [
    {
     "name": "stdout",
     "output_type": "stream",
     "text": [
      "{'work_year': '2023', 'experience_level': 'EX', 'employment_type': 'FT', 'job_title': 'Data Science Director', 'salary': '212000', 'salary_currency': 'USD', 'salary_in_usd': '212000', 'employee_residence': 'US', 'remote_ratio': 0, 'company_location': 'US', 'company_size': 'M', 'id': 1}\n",
      "219\n"
     ]
    }
   ],
   "source": [
    "# Adiciona o id\n",
    "for i, item in enumerate(dados, start=1):\n",
    "    item['id'] = i\n",
    "print(dados[0])\n",
    "print(len(dados))  \n"
   ]
  },
  {
   "cell_type": "code",
   "execution_count": 12,
   "metadata": {},
   "outputs": [
    {
     "name": "stdout",
     "output_type": "stream",
     "text": [
      "{'ano_de_trabalho': '2023', 'nivel_de_experiencia': 'EX', 'tipo_de_emprego': 'FT', 'cargo': 'Data Science Director', 'salario': '212000', 'moeda_do_salario': 'USD', 'salario_em_usd': '212000', 'residencia_do_funcionario': 'US', 'trabalho_remoto': 0, 'localizacao_da_empresa': 'US', 'tamanho_da_empresa': 'M', 'id': 1}\n",
      "219\n"
     ]
    }
   ],
   "source": [
    "#Traduzindo as chaves\n",
    "traducao = {\n",
    "    'work_year': 'ano_de_trabalho',\n",
    "    'experience_level': 'nivel_de_experiencia',\n",
    "    'employment_type': 'tipo_de_emprego',\n",
    "    'job_title': 'cargo',\n",
    "    'salary': 'salario',\n",
    "    'salary_currency': 'moeda_do_salario',\n",
    "    'salary_in_usd': 'salario_em_usd',\n",
    "    'employee_residence': 'residencia_do_funcionario',\n",
    "    'remote_ratio': 'trabalho_remoto',\n",
    "    'company_location': 'localizacao_da_empresa',\n",
    "    'company_size': 'tamanho_da_empresa',\n",
    "    'id': 'id'\n",
    "}\n",
    "\n",
    "dados = [{traducao[chave]: valor for chave, valor in dado.items()} for dado in dados]\n",
    "print(dados[0])\n",
    "print(len(dados))"
   ]
  },
  {
   "cell_type": "code",
   "execution_count": 21,
   "metadata": {},
   "outputs": [
    {
     "name": "stdout",
     "output_type": "stream",
     "text": [
      "{'ano_de_trabalho': '2023', 'nivel_de_experiencia': 'Executivo', 'tipo_de_emprego': 'FT', 'cargo': 'Data Science Director', 'salario': '212000', 'moeda_do_salario': 'USD', 'salario_em_usd': '212000', 'residencia_do_funcionario': 'US', 'trabalho_remoto': 0, 'localizacao_da_empresa': 'US', 'tamanho_da_empresa': 'M', 'id': 1}\n",
      "219\n"
     ]
    }
   ],
   "source": [
    "niveis_experiencia = {\n",
    "    'SE': 'Senior',\n",
    "    'MI': 'Analista',\n",
    "    'EN': 'Junior',\n",
    "    'EX': 'Executivo'\n",
    "}\n",
    "\n",
    "# Traduzindo os níveis de experiência no conjunto de dados\n",
    "for dado in dados:\n",
    "    if 'nivel_de_experiencia' in dado and dado['nivel_de_experiencia'] in niveis_experiencia:\n",
    "        dado['nivel_de_experiencia'] = niveis_experiencia[dado['nivel_de_experiencia']]\n",
    "    else:\n",
    "        print(f\"Não foi possível traduzir: {dado.get('nivel_de_experiencia', 'Chave não encontrada')}\")\n",
    "\n",
    "print(dados[0])\n",
    "print(len(dados))"
   ]
  },
  {
   "cell_type": "code",
   "execution_count": 25,
   "metadata": {},
   "outputs": [
    {
     "name": "stdout",
     "output_type": "stream",
     "text": [
      "{'ano_de_trabalho': '2023', 'nivel_de_experiencia': 'Executivo', 'cargo': 'Data Science Director', 'salario_em_usd': '212000', 'residencia_do_funcionario': 'US', 'localizacao_da_empresa': 'US', 'tamanho_da_empresa': 'M', 'id': 1}\n",
      "219\n"
     ]
    }
   ],
   "source": [
    "def remover_info(dados, *chaves) -> list[dict]:\n",
    "    return [{k: v for k, v in d.items() if k not in chaves} for d in dados]\n",
    "\n",
    "chaves_a_remover = ['moeda_do_salario', 'trabalho_remoto', 'salario','tipo_de_emprego' ]  # Pode ser uma lista com várias chaves\n",
    "dados = remover_info(dados, *chaves_a_remover)\n",
    "\n",
    "print(dados[0])\n",
    "print(len(dados))"
   ]
  },
  {
   "cell_type": "code",
   "execution_count": 26,
   "metadata": {},
   "outputs": [],
   "source": [
    "# Criar um novo arquivo com os dados\n",
    "with open('salarios.json', 'w') as arquivo_saida:\n",
    "    json.dump(dados, arquivo_saida)"
   ]
  }
 ],
 "metadata": {
  "kernelspec": {
   "display_name": "Python 3",
   "language": "python",
   "name": "python3"
  },
  "language_info": {
   "codemirror_mode": {
    "name": "ipython",
    "version": 3
   },
   "file_extension": ".py",
   "mimetype": "text/x-python",
   "name": "python",
   "nbconvert_exporter": "python",
   "pygments_lexer": "ipython3",
   "version": "3.10.9"
  }
 },
 "nbformat": 4,
 "nbformat_minor": 2
}
