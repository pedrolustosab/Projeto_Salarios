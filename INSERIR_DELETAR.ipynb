{
 "cells": [
  {
   "cell_type": "code",
   "execution_count": 36,
   "metadata": {},
   "outputs": [],
   "source": [
    "import json"
   ]
  },
  {
   "cell_type": "code",
   "execution_count": 37,
   "metadata": {},
   "outputs": [],
   "source": [
    "def carrega_dados(path:str = 'salaries.json') -> list[dict]:\n",
    "    try:\n",
    "        with open(path, 'r') as arquivo:\n",
    "            dados = arquivo.read()\n",
    "            return json.loads(dados)\n",
    "    except FileNotFoundError:\n",
    "        return []\n",
    "    \n",
    "   \n",
    "def obter_ano(anos, msg='Anos'):\n",
    "    while True:\n",
    "        try:\n",
    "            ano = input(f\"{msg} ({' | '.join(anos_unicos)}): \")\n",
    "            if ano in anos_unicos:\n",
    "                break\n",
    "            else:\n",
    "                raise ValueError('Entrada Inválida! Dado não está na lista.')\n",
    "        except ValueError as e:\n",
    "            print(f'Erro: {e}\\n')\n",
    "\n",
    "    return ano\n",
    "\n",
    "def obter_cargo(cargos_ds, msg='Cargos'):\n",
    "    while True:\n",
    "        try:\n",
    "            cargo = input(f\"{msg} ({' | '.join(cargos_ds)}): \")\n",
    "            if cargo in cargos_ds:\n",
    "                break\n",
    "            else:\n",
    "                raise ValueError('Entrada Inválida! Dado não está na lista.')\n",
    "        except ValueError as e:\n",
    "            print(f'Erro: {e}\\n')\n",
    "\n",
    "    return cargos_ds"
   ]
  },
  {
   "cell_type": "code",
   "execution_count": 38,
   "metadata": {},
   "outputs": [
    {
     "data": {
      "text/plain": [
       "{'ano_de_trabalho': '2023',\n",
       " 'nivel_de_experiencia': 'EX',\n",
       " 'tipo_de_emprego': 'FT',\n",
       " 'cargo': 'Data Science Director',\n",
       " 'salario_em_usd': '212000',\n",
       " 'residencia_do_funcionario': 'US',\n",
       " 'localizacao_da_empresa': 'US',\n",
       " 'tamanho_da_empresa': 'M'}"
      ]
     },
     "execution_count": 38,
     "metadata": {},
     "output_type": "execute_result"
    }
   ],
   "source": [
    "dados = carrega_dados()\n",
    "dados[0]"
   ]
  },
  {
   "cell_type": "code",
   "execution_count": 39,
   "metadata": {},
   "outputs": [],
   "source": [
    "def inserir_novo(profissional: list[dict]) -> bool:\n",
    "    profissional.append({\n",
    "        'ano_de_trabalho': input('Qual o ano: \\n'),\n",
    "        'nivel_de_experiencia': input('Qual a experiência: \\n'),\n",
    "        'tipo_de_emprego': input('Qual o tipo: \\n'),\n",
    "        'cargo': input('Qual a profissão: \\n'),\n",
    "        'salario_em_usd': input('Qual o salário em dolar: \\n'),\n",
    "        'residencia_do_funcionario': input('Qual a residência : \\n'),\n",
    "        'localizacao_da_empresa': input('Qual a localização da empresa: \\n'),\n",
    "        'tamanho_da_empresa': input('Quantos funcionários: \\n'),\n",
    "    })\n",
    "    return True"
   ]
  },
  {
   "cell_type": "code",
   "execution_count": 40,
   "metadata": {},
   "outputs": [
    {
     "data": {
      "text/plain": [
       "True"
      ]
     },
     "execution_count": 40,
     "metadata": {},
     "output_type": "execute_result"
    }
   ],
   "source": [
    "inserir_novo(dados)\n"
   ]
  },
  {
   "cell_type": "code",
   "execution_count": 41,
   "metadata": {},
   "outputs": [
    {
     "data": {
      "text/plain": [
       "{'ano_de_trabalho': '2019',\n",
       " 'nivel_de_experiencia': 'a',\n",
       " 'tipo_de_emprego': 's',\n",
       " 'cargo': 'd',\n",
       " 'salario_em_usd': 'ff',\n",
       " 'residencia_do_funcionario': 'g',\n",
       " 'localizacao_da_empresa': 'g',\n",
       " 'tamanho_da_empresa': 'g'}"
      ]
     },
     "execution_count": 41,
     "metadata": {},
     "output_type": "execute_result"
    }
   ],
   "source": [
    "dados[-1]"
   ]
  },
  {
   "cell_type": "code",
   "execution_count": 42,
   "metadata": {},
   "outputs": [
    {
     "name": "stdout",
     "output_type": "stream",
     "text": [
      "['2019', '2020', '2021', '2022', '2023']\n"
     ]
    }
   ],
   "source": [
    "#Atualizar Lista\n",
    "anos_unicos = sorted(list(set(dado['ano_de_trabalho'] for dado in dados)))\n",
    "print(anos_unicos)"
   ]
  },
  {
   "cell_type": "code",
   "execution_count": 43,
   "metadata": {},
   "outputs": [],
   "source": [
    "    listas_distintas = {'ano_de_trabalho': [], \n",
    "                    'nivel_de_experiencia': [], \n",
    "                    'tipo_de_emprego': [], \n",
    "                    'cargo': [], \n",
    "                    'salario_em_usd': [], \n",
    "                    'residencia_do_funcionario': [], \n",
    "                    'localizacao_da_empresa': [], \n",
    "                    'tamanho_da_empresa': []\n",
    "                    }"
   ]
  },
  {
   "cell_type": "code",
   "execution_count": 44,
   "metadata": {},
   "outputs": [],
   "source": [
    "def atualiza_listas_distintas():\n",
    "    listas_distintas = {'ano_de_trabalho': [], \n",
    "                    'nivel_de_experiencia': [], \n",
    "                    'tipo_de_emprego': [], \n",
    "                    'cargo': [], \n",
    "                    'salario_em_usd': [], \n",
    "                    'residencia_do_funcionario': [], \n",
    "                    'localizacao_da_empresa': [], \n",
    "                    'tamanho_da_empresa': []\n",
    "                    }\n",
    "    for chave in listas_distintas.keys():\n",
    "        valores_unicos = sorted(list(set(dado[chave] for dado in dados)))\n",
    "        listas_distintas[chave] = valores_unicos"
   ]
  },
  {
   "cell_type": "code",
   "execution_count": 45,
   "metadata": {},
   "outputs": [],
   "source": [
    "atualiza_listas_distintas()"
   ]
  },
  {
   "cell_type": "code",
   "execution_count": 46,
   "metadata": {},
   "outputs": [
    {
     "data": {
      "text/plain": [
       "{'ano_de_trabalho': [],\n",
       " 'nivel_de_experiencia': [],\n",
       " 'tipo_de_emprego': [],\n",
       " 'cargo': [],\n",
       " 'salario_em_usd': [],\n",
       " 'residencia_do_funcionario': [],\n",
       " 'localizacao_da_empresa': [],\n",
       " 'tamanho_da_empresa': []}"
      ]
     },
     "execution_count": 46,
     "metadata": {},
     "output_type": "execute_result"
    }
   ],
   "source": [
    "listas_distintas"
   ]
  },
  {
   "cell_type": "code",
   "execution_count": 47,
   "metadata": {},
   "outputs": [],
   "source": [
    "lista_apagar = {'ano_de_trabalho': 'apagar_ano_de_trabalho' , \n",
    "                'nivel_de_experiencia': 'apagar_nivel_de_experiencia' ,\n",
    "                'tipo_de_emprego': 'apagar_tipo_de_emprego' ,\n",
    "                'cargo': 'apagar_cargo' ,\n",
    "                'salario_em_usd': 'apagar_salario_em_usd' , \n",
    "                'residencia_do_funcionario': 'apagar_residencia_do_funcionario' , \n",
    "                'localizacao_da_empresa': 'apagar_localizacao_da_empresa' , \n",
    "                'tamanho_da_empresa': 'apagar_tamanho_da_empresa' ,\n",
    "            }"
   ]
  },
  {
   "cell_type": "code",
   "execution_count": 48,
   "metadata": {},
   "outputs": [
    {
     "data": {
      "text/plain": [
       "{'ano_de_trabalho': 'apagar_ano_de_trabalho',\n",
       " 'nivel_de_experiencia': 'apagar_nivel_de_experiencia',\n",
       " 'tipo_de_emprego': 'apagar_tipo_de_emprego',\n",
       " 'cargo': 'apagar_cargo',\n",
       " 'salario_em_usd': 'apagar_salario_em_usd',\n",
       " 'residencia_do_funcionario': 'apagar_residencia_do_funcionario',\n",
       " 'localizacao_da_empresa': 'apagar_localizacao_da_empresa',\n",
       " 'tamanho_da_empresa': 'apagar_tamanho_da_empresa'}"
      ]
     },
     "execution_count": 48,
     "metadata": {},
     "output_type": "execute_result"
    }
   ],
   "source": [
    "lista_apagar"
   ]
  },
  {
   "cell_type": "code",
   "execution_count": 49,
   "metadata": {},
   "outputs": [],
   "source": [
    "def filtro_ano(item, opc='2023') -> list[dict]:\n",
    "    try:\n",
    "        if 'work_year' in item and item['work_year'] == opc:\n",
    "            return item\n",
    "        else:\n",
    "            raise ValueError('Filtro de ano inválido.')\n",
    "    except Exception as e:\n",
    "        raise ValueError(f'Erro no filtro de ano: {e}')"
   ]
  },
  {
   "cell_type": "code",
   "execution_count": 50,
   "metadata": {},
   "outputs": [],
   "source": [
    "def apagar_ano_de_trabalho(ano:str, dados:list[dict]):\n",
    "    apagado = [registro for registro in dados if registro['ano_de_trabalho'] == ano]\n",
    "    if  len(apagado) == 0:\n",
    "        print('Não foi encontrado!')\n",
    "    else:\n",
    "        dados = filtro_ano(dados, opc='2019')\n",
    "        print(f'Excluidos {len(dados)} registros!')\n"
   ]
  },
  {
   "cell_type": "code",
   "execution_count": 51,
   "metadata": {},
   "outputs": [
    {
     "ename": "ValueError",
     "evalue": "Erro no filtro de ano: Filtro de ano inválido.",
     "output_type": "error",
     "traceback": [
      "\u001b[1;31m---------------------------------------------------------------------------\u001b[0m",
      "\u001b[1;31mValueError\u001b[0m                                Traceback (most recent call last)",
      "\u001b[1;32mc:\\Users\\PedroLustosa\\Documents\\Projeto_Salarios\\INSERIR_DELETAR.ipynb Cell 16\u001b[0m line \u001b[0;36m6\n\u001b[0;32m      <a href='vscode-notebook-cell:/c%3A/Users/PedroLustosa/Documents/Projeto_Salarios/INSERIR_DELETAR.ipynb#X20sZmlsZQ%3D%3D?line=4'>5</a>\u001b[0m     \u001b[39melse\u001b[39;00m:\n\u001b[1;32m----> <a href='vscode-notebook-cell:/c%3A/Users/PedroLustosa/Documents/Projeto_Salarios/INSERIR_DELETAR.ipynb#X20sZmlsZQ%3D%3D?line=5'>6</a>\u001b[0m         \u001b[39mraise\u001b[39;00m \u001b[39mValueError\u001b[39;00m(\u001b[39m'\u001b[39m\u001b[39mFiltro de ano inválido.\u001b[39m\u001b[39m'\u001b[39m)\n\u001b[0;32m      <a href='vscode-notebook-cell:/c%3A/Users/PedroLustosa/Documents/Projeto_Salarios/INSERIR_DELETAR.ipynb#X20sZmlsZQ%3D%3D?line=6'>7</a>\u001b[0m \u001b[39mexcept\u001b[39;00m \u001b[39mException\u001b[39;00m \u001b[39mas\u001b[39;00m e:\n",
      "\u001b[1;31mValueError\u001b[0m: Filtro de ano inválido.",
      "\nDuring handling of the above exception, another exception occurred:\n",
      "\u001b[1;31mValueError\u001b[0m                                Traceback (most recent call last)",
      "\u001b[1;32mc:\\Users\\PedroLustosa\\Documents\\Projeto_Salarios\\INSERIR_DELETAR.ipynb Cell 16\u001b[0m line \u001b[0;36m1\n\u001b[1;32m----> <a href='vscode-notebook-cell:/c%3A/Users/PedroLustosa/Documents/Projeto_Salarios/INSERIR_DELETAR.ipynb#X20sZmlsZQ%3D%3D?line=0'>1</a>\u001b[0m apagar_ano_de_trabalho(\u001b[39m'\u001b[39;49m\u001b[39m2019\u001b[39;49m\u001b[39m'\u001b[39;49m, dados)\n",
      "\u001b[1;32mc:\\Users\\PedroLustosa\\Documents\\Projeto_Salarios\\INSERIR_DELETAR.ipynb Cell 16\u001b[0m line \u001b[0;36m6\n\u001b[0;32m      <a href='vscode-notebook-cell:/c%3A/Users/PedroLustosa/Documents/Projeto_Salarios/INSERIR_DELETAR.ipynb#X20sZmlsZQ%3D%3D?line=3'>4</a>\u001b[0m     \u001b[39mprint\u001b[39m(\u001b[39m'\u001b[39m\u001b[39mNão foi encontrado!\u001b[39m\u001b[39m'\u001b[39m)\n\u001b[0;32m      <a href='vscode-notebook-cell:/c%3A/Users/PedroLustosa/Documents/Projeto_Salarios/INSERIR_DELETAR.ipynb#X20sZmlsZQ%3D%3D?line=4'>5</a>\u001b[0m \u001b[39melse\u001b[39;00m:\n\u001b[1;32m----> <a href='vscode-notebook-cell:/c%3A/Users/PedroLustosa/Documents/Projeto_Salarios/INSERIR_DELETAR.ipynb#X20sZmlsZQ%3D%3D?line=5'>6</a>\u001b[0m     dados \u001b[39m=\u001b[39m filtro_ano(dados, opc\u001b[39m=\u001b[39;49m\u001b[39m'\u001b[39;49m\u001b[39m2019\u001b[39;49m\u001b[39m'\u001b[39;49m)\n\u001b[0;32m      <a href='vscode-notebook-cell:/c%3A/Users/PedroLustosa/Documents/Projeto_Salarios/INSERIR_DELETAR.ipynb#X20sZmlsZQ%3D%3D?line=6'>7</a>\u001b[0m     \u001b[39mprint\u001b[39m(\u001b[39mf\u001b[39m\u001b[39m'\u001b[39m\u001b[39mExcluidos \u001b[39m\u001b[39m{\u001b[39;00m\u001b[39mlen\u001b[39m(dados)\u001b[39m}\u001b[39;00m\u001b[39m registros!\u001b[39m\u001b[39m'\u001b[39m)\n",
      "\u001b[1;32mc:\\Users\\PedroLustosa\\Documents\\Projeto_Salarios\\INSERIR_DELETAR.ipynb Cell 16\u001b[0m line \u001b[0;36m8\n\u001b[0;32m      <a href='vscode-notebook-cell:/c%3A/Users/PedroLustosa/Documents/Projeto_Salarios/INSERIR_DELETAR.ipynb#X20sZmlsZQ%3D%3D?line=5'>6</a>\u001b[0m         \u001b[39mraise\u001b[39;00m \u001b[39mValueError\u001b[39;00m(\u001b[39m'\u001b[39m\u001b[39mFiltro de ano inválido.\u001b[39m\u001b[39m'\u001b[39m)\n\u001b[0;32m      <a href='vscode-notebook-cell:/c%3A/Users/PedroLustosa/Documents/Projeto_Salarios/INSERIR_DELETAR.ipynb#X20sZmlsZQ%3D%3D?line=6'>7</a>\u001b[0m \u001b[39mexcept\u001b[39;00m \u001b[39mException\u001b[39;00m \u001b[39mas\u001b[39;00m e:\n\u001b[1;32m----> <a href='vscode-notebook-cell:/c%3A/Users/PedroLustosa/Documents/Projeto_Salarios/INSERIR_DELETAR.ipynb#X20sZmlsZQ%3D%3D?line=7'>8</a>\u001b[0m     \u001b[39mraise\u001b[39;00m \u001b[39mValueError\u001b[39;00m(\u001b[39mf\u001b[39m\u001b[39m'\u001b[39m\u001b[39mErro no filtro de ano: \u001b[39m\u001b[39m{\u001b[39;00me\u001b[39m}\u001b[39;00m\u001b[39m'\u001b[39m)\n",
      "\u001b[1;31mValueError\u001b[0m: Erro no filtro de ano: Filtro de ano inválido."
     ]
    }
   ],
   "source": [
    "apagar_ano_de_trabalho('2019', dados)"
   ]
  },
  {
   "cell_type": "code",
   "execution_count": 52,
   "metadata": {},
   "outputs": [
    {
     "data": {
      "text/plain": [
       "{'ano_de_trabalho': '2019',\n",
       " 'nivel_de_experiencia': 'a',\n",
       " 'tipo_de_emprego': 's',\n",
       " 'cargo': 'd',\n",
       " 'salario_em_usd': 'ff',\n",
       " 'residencia_do_funcionario': 'g',\n",
       " 'localizacao_da_empresa': 'g',\n",
       " 'tamanho_da_empresa': 'g'}"
      ]
     },
     "execution_count": 52,
     "metadata": {},
     "output_type": "execute_result"
    }
   ],
   "source": [
    "dados[-1]"
   ]
  }
 ],
 "metadata": {
  "kernelspec": {
   "display_name": "Python 3",
   "language": "python",
   "name": "python3"
  },
  "language_info": {
   "codemirror_mode": {
    "name": "ipython",
    "version": 3
   },
   "file_extension": ".py",
   "mimetype": "text/x-python",
   "name": "python",
   "nbconvert_exporter": "python",
   "pygments_lexer": "ipython3",
   "version": "3.10.9"
  }
 },
 "nbformat": 4,
 "nbformat_minor": 2
}
