{
 "cells": [
  {
   "cell_type": "code",
   "execution_count": 18,
   "metadata": {},
   "outputs": [],
   "source": [
    "import json"
   ]
  },
  {
   "cell_type": "code",
   "execution_count": 19,
   "metadata": {},
   "outputs": [],
   "source": [
    "def carrega_dados(path:str = 'salaries.json') -> list[dict]:\n",
    "    try:\n",
    "        with open(path, 'r') as arquivo:\n",
    "            dados = arquivo.read()\n",
    "            return json.loads(dados)\n",
    "    except FileNotFoundError:\n",
    "        return []"
   ]
  },
  {
   "cell_type": "code",
   "execution_count": 20,
   "metadata": {},
   "outputs": [
    {
     "data": {
      "text/plain": [
       "{'work_year': '2021',\n",
       " 'experience_level': 'SE',\n",
       " 'employment_type': 'FT',\n",
       " 'job_title': 'Data Science Manager',\n",
       " 'salary': '7000000',\n",
       " 'salary_currency': 'INR',\n",
       " 'salary_in_usd': '94665',\n",
       " 'employee_residence': 'IN',\n",
       " 'remote_ratio': 50,\n",
       " 'company_location': 'IN',\n",
       " 'company_size': 'L'}"
      ]
     },
     "execution_count": 20,
     "metadata": {},
     "output_type": "execute_result"
    }
   ],
   "source": [
    "dados = carrega_dados()\n",
    "dados[-1]"
   ]
  },
  {
   "cell_type": "code",
   "execution_count": 4,
   "metadata": {},
   "outputs": [],
   "source": [
    "def inserir_novo(registro: list[dict]) -> bool:\n",
    "    registro.append({\n",
    "        'work_year': input('Qual o ano: \\n'),\n",
    "        'experience_level': input('Qual a experiência: \\n'),\n",
    "        'employment_type': input('Qual o tipo: \\n'),\n",
    "        'job_title': input('Qual a profissão: \\n'),\n",
    "        'salary_in_usd': input('Qual o salário em dolar: \\n'),\n",
    "        'employee_residence': input('Qual a residência : \\n'),\n",
    "        'company_location': input('Qual a localização da empresa: \\n'),\n",
    "        'company_size': input('Quantos funcionários: \\n'),\n",
    "    })\n",
    "    return True"
   ]
  },
  {
   "cell_type": "code",
   "execution_count": 5,
   "metadata": {},
   "outputs": [
    {
     "data": {
      "text/plain": [
       "True"
      ]
     },
     "execution_count": 5,
     "metadata": {},
     "output_type": "execute_result"
    }
   ],
   "source": [
    "inserir_novo(dados)\n"
   ]
  },
  {
   "cell_type": "code",
   "execution_count": 6,
   "metadata": {},
   "outputs": [
    {
     "data": {
      "text/plain": [
       "{'work_year': '2024',\n",
       " 'experience_level': '5',\n",
       " 'employment_type': 'ft',\n",
       " 'job_title': 'dados',\n",
       " 'salary_in_usd': '53320',\n",
       " 'employee_residence': 'londres',\n",
       " 'company_location': 'londres',\n",
       " 'company_size': '52'}"
      ]
     },
     "execution_count": 6,
     "metadata": {},
     "output_type": "execute_result"
    }
   ],
   "source": [
    "dados[-1]"
   ]
  },
  {
   "cell_type": "code",
   "execution_count": 7,
   "metadata": {},
   "outputs": [
    {
     "name": "stdout",
     "output_type": "stream",
     "text": [
      "['2020', '2021', '2022', '2023', '2024']\n"
     ]
    }
   ],
   "source": [
    "#Atualizar listas\n",
    "anos_unicos = sorted(list(set(dado['work_year'] for dado in dados)))\n",
    "print(anos_unicos)"
   ]
  },
  {
   "cell_type": "code",
   "execution_count": 11,
   "metadata": {},
   "outputs": [],
   "source": [
    "def salvar_dados(dados:list[dict] = dados, path:str = 'salaries.json') -> bool:\n",
    "    try:\n",
    "        with open(path, 'w') as arquivo:\n",
    "            arquivo.write(json.dumps(dados))\n",
    "            return True\n",
    "    except Exception:\n",
    "        return False"
   ]
  },
  {
   "cell_type": "code",
   "execution_count": 12,
   "metadata": {},
   "outputs": [
    {
     "data": {
      "text/plain": [
       "True"
      ]
     },
     "execution_count": 12,
     "metadata": {},
     "output_type": "execute_result"
    }
   ],
   "source": [
    "salvar_dados()"
   ]
  },
  {
   "cell_type": "code",
   "execution_count": null,
   "metadata": {},
   "outputs": [],
   "source": []
  }
 ],
 "metadata": {
  "kernelspec": {
   "display_name": "Python 3",
   "language": "python",
   "name": "python3"
  },
  "language_info": {
   "codemirror_mode": {
    "name": "ipython",
    "version": 3
   },
   "file_extension": ".py",
   "mimetype": "text/x-python",
   "name": "python",
   "nbconvert_exporter": "python",
   "pygments_lexer": "ipython3",
   "version": "3.10.9"
  }
 },
 "nbformat": 4,
 "nbformat_minor": 2
}
