<<<<<<< HEAD
{
 "cells": [
  {
   "cell_type": "code",
   "execution_count": 5,
   "metadata": {},
   "outputs": [],
   "source": [
    "import json"
   ]
  },
  {
   "cell_type": "code",
   "execution_count": 6,
   "metadata": {},
   "outputs": [],
   "source": [
    "def carrega_dados(path:str = 'salaries.json') -> list[dict]:\n",
    "    try:\n",
    "        with open(path, 'r') as arquivo:\n",
    "            dados = arquivo.read()\n",
    "            return json.loads(dados)\n",
    "    except FileNotFoundError:\n",
    "        return []"
   ]
  },
  {
   "cell_type": "code",
   "execution_count": 7,
   "metadata": {},
   "outputs": [
    {
     "data": {
      "text/plain": [
       "[]"
      ]
     },
     "execution_count": 7,
     "metadata": {},
     "output_type": "execute_result"
    }
   ],
   "source": [
    "dados = carrega_dados()\n",
    "dados"
   ]
  }
 ],
 "metadata": {
  "kernelspec": {
   "display_name": "Python 3",
   "language": "python",
   "name": "python3"
  },
  "language_info": {
   "codemirror_mode": {
    "name": "ipython",
    "version": 3
   },
   "file_extension": ".py",
   "mimetype": "text/x-python",
   "name": "python",
   "nbconvert_exporter": "python",
   "pygments_lexer": "ipython3",
   "version": "3.10.9"
  }
 },
 "nbformat": 4,
 "nbformat_minor": 2
}
=======
{
 "cells": [
  {
   "cell_type": "code",
   "execution_count": 1,
   "metadata": {},
   "outputs": [],
   "source": [
    "import json"
   ]
  },
  {
   "cell_type": "code",
   "execution_count": 3,
   "metadata": {},
   "outputs": [],
   "source": [
    "def carrega_dados(path:str = 'salaries.json') -> list[dict]:\n",
    "    try:\n",
    "        with open(path, 'r') as arquivo:\n",
    "            dados = arquivo.read()\n",
    "            return json.loads(dados)\n",
    "    except FileNotFoundError:\n",
    "        return []"
   ]
  },
  {
   "cell_type": "code",
   "execution_count": 4,
   "metadata": {},
   "outputs": [
    {
     "data": {
      "text/plain": [
       "{'work_year': '2023',\n",
       " 'experience_level': 'EX',\n",
       " 'employment_type': 'FT',\n",
       " 'job_title': 'Data Science Director',\n",
       " 'salary': '212000',\n",
       " 'salary_currency': 'USD',\n",
       " 'salary_in_usd': '212000',\n",
       " 'employee_residence': 'US',\n",
       " 'remote_ratio': 0,\n",
       " 'company_location': 'US',\n",
       " 'company_size': 'M'}"
      ]
     },
     "execution_count": 4,
     "metadata": {},
     "output_type": "execute_result"
    }
   ],
   "source": [
    "dados = carrega_dados()\n",
    "dados[0]"
   ]
  },
  {
   "cell_type": "code",
   "execution_count": 18,
   "metadata": {},
   "outputs": [],
   "source": [
    "def inserir_novo(profissional: list[dict]) -> bool:\n",
    "    profissional.append({\n",
    "        'work_year': input('Qual o ano: \\n'),\n",
    "        'experience_level': input('Qual a experiência: \\n'),\n",
    "        'employment_type': input('Qual o tipo: \\n'),\n",
    "        'job_title': input('Qual a profissão: \\n'),\n",
    "        'salary_in_usd': input('Qual o salário em dolar: \\n'),\n",
    "        'employee_residence': input('Qual a residência : \\n'),\n",
    "        'company_location': input('Qual a localização da empresa: \\n'),\n",
    "        'company_size': input('Quantos funcionários: \\n'),\n",
    "    })\n",
    "    return True"
   ]
  },
  {
   "cell_type": "code",
   "execution_count": 14,
   "metadata": {},
   "outputs": [
    {
     "data": {
      "text/plain": [
       "True"
      ]
     },
     "execution_count": 14,
     "metadata": {},
     "output_type": "execute_result"
    }
   ],
   "source": [
    "inserir_novo(dados)\n"
   ]
  },
  {
   "cell_type": "code",
   "execution_count": 19,
   "metadata": {},
   "outputs": [
    {
     "data": {
      "text/plain": [
       "{'work_year': '2019',\n",
       " 'experience_level': 'ft',\n",
       " 'employment_type': 'g',\n",
       " 'job_title': 'dados',\n",
       " 'salary_in_usd': '600000',\n",
       " 'employee_residence': 'Fortalea',\n",
       " 'company_location': 'Rio de Janeiro',\n",
       " 'company_size': '10'}"
      ]
     },
     "execution_count": 19,
     "metadata": {},
     "output_type": "execute_result"
    }
   ],
   "source": [
    "dados[-1]"
   ]
  },
  {
   "cell_type": "code",
   "execution_count": 20,
   "metadata": {},
   "outputs": [
    {
     "name": "stdout",
     "output_type": "stream",
     "text": [
      "['2019', '2020', '2021', '2022', '2023']\n"
     ]
    }
   ],
   "source": [
    "anos_unicos = sorted(list(set(dado['work_year'] for dado in dados)))\n",
    "print(anos_unicos)"
   ]
  }
 ],
 "metadata": {
  "kernelspec": {
   "display_name": "Python 3",
   "language": "python",
   "name": "python3"
  },
  "language_info": {
   "codemirror_mode": {
    "name": "ipython",
    "version": 3
   },
   "file_extension": ".py",
   "mimetype": "text/x-python",
   "name": "python",
   "nbconvert_exporter": "python",
   "pygments_lexer": "ipython3",
   "version": "3.10.9"
  }
 },
 "nbformat": 4,
 "nbformat_minor": 2
}
>>>>>>> 847bc157be7da0f97eabacbd06517600a7768805
