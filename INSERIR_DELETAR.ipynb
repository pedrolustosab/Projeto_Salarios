{
 "cells": [
  {
   "cell_type": "code",
   "execution_count": 1,
   "metadata": {},
   "outputs": [],
   "source": [
    "import json"
   ]
  },
  {
   "cell_type": "code",
   "execution_count": 3,
   "metadata": {},
   "outputs": [],
   "source": [
    "def carrega_dados(path:str = 'salaries.json') -> list[dict]:\n",
    "    try:\n",
    "        with open(path, 'r') as arquivo:\n",
    "            dados = arquivo.read()\n",
    "            return json.loads(dados)\n",
    "    except FileNotFoundError:\n",
    "        return []"
   ]
  },
  {
   "cell_type": "code",
   "execution_count": 4,
   "metadata": {},
   "outputs": [
    {
     "data": {
      "text/plain": [
       "{'work_year': '2023',\n",
       " 'experience_level': 'EX',\n",
       " 'employment_type': 'FT',\n",
       " 'job_title': 'Data Science Director',\n",
       " 'salary': '212000',\n",
       " 'salary_currency': 'USD',\n",
       " 'salary_in_usd': '212000',\n",
       " 'employee_residence': 'US',\n",
       " 'remote_ratio': 0,\n",
       " 'company_location': 'US',\n",
       " 'company_size': 'M'}"
      ]
     },
     "execution_count": 4,
     "metadata": {},
     "output_type": "execute_result"
    }
   ],
   "source": [
    "dados = carrega_dados()\n",
    "dados[0]"
   ]
  }
 ],
 "metadata": {
  "kernelspec": {
   "display_name": "Python 3",
   "language": "python",
   "name": "python3"
  },
  "language_info": {
   "codemirror_mode": {
    "name": "ipython",
    "version": 3
   },
   "file_extension": ".py",
   "mimetype": "text/x-python",
   "name": "python",
   "nbconvert_exporter": "python",
   "pygments_lexer": "ipython3",
   "version": "3.10.9"
  }
 },
 "nbformat": 4,
 "nbformat_minor": 2
}
