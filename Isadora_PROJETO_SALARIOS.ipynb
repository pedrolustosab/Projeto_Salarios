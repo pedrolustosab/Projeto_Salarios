{
  "cells": [
    {
      "cell_type": "code",
      "source": [
        "!gdown \"https://drive.google.com/uc?id=1UrFtHryRVNPhsJgIscgs_K9DZZRy1KM7\""
      ],
      "metadata": {
        "colab": {
          "base_uri": "https://localhost:8080/"
        },
        "id": "E786kotQh8jv",
        "outputId": "7ca1de13-855c-4a8b-e142-65456348544d"
      },
      "id": "E786kotQh8jv",
      "execution_count": null,
      "outputs": [
        {
          "output_type": "stream",
          "name": "stdout",
          "text": [
            "Downloading...\n",
            "From: https://drive.google.com/uc?id=1UrFtHryRVNPhsJgIscgs_K9DZZRy1KM7\n",
            "To: /content/salaries.json\n",
            "\r  0% 0.00/2.42M [00:00<?, ?B/s]\r100% 2.42M/2.42M [00:00<00:00, 204MB/s]\n"
          ]
        }
      ]
    },
    {
      "cell_type": "code",
      "source": [
        "import json\n",
        "from functools import reduce"
      ],
      "metadata": {
        "id": "r_wss3ieyX-c"
      },
      "id": "r_wss3ieyX-c",
      "execution_count": null,
      "outputs": []
    },
    {
      "cell_type": "code",
      "source": [
        "# Função para carregar os dados\n",
        "def carrega_dados(path:str) -> list[dict]:\n",
        "    try:\n",
        "        with open(path, 'r') as arquivo: # abre o arquivo especificado pelo caminho path no modo de leitura ('r')\n",
        "            dados = arquivo.read()\n",
        "            return json.loads(dados)\n",
        "    except FileNotFoundError: # ocorre quando o arquivo especificado em open() não é encontrado\n",
        "        return []"
      ],
      "metadata": {
        "id": "9a89STPLmbkr"
      },
      "id": "9a89STPLmbkr",
      "execution_count": null,
      "outputs": []
    },
    {
      "cell_type": "markdown",
      "source": [
        "Nível de Experiência: Os níveis de experiência variam de \"EX\" (Experiente) a \"MI\" (Muito Inexperiente) e \"SE\" (Sênior). Isso indica o nível de experiência dos funcionários.\n",
        "\n",
        "Tipo de Emprego: Todos os registros têm \"FT\" (Tempo Integral) como tipo de emprego, o que significa que esses funcionários trabalham em período integral."
      ],
      "metadata": {
        "id": "C5o7q4VtrzrH"
      },
      "id": "C5o7q4VtrzrH"
    },
    {
      "cell_type": "markdown",
      "source": [
        "## Estudando os dados:"
      ],
      "metadata": {
        "id": "Qzk_RjucFCst"
      },
      "id": "Qzk_RjucFCst"
    },
    {
      "cell_type": "code",
      "source": [
        "# visualizando um único dado para compreender o formato\n",
        "dados = carrega_dados(\"salaries.json\")\n",
        "dados[85]"
      ],
      "metadata": {
        "colab": {
          "base_uri": "https://localhost:8080/"
        },
        "id": "_hnsWILtmcwy",
        "outputId": "d1e01b08-1e6a-4e8d-dc70-86d33ddd87c6"
      },
      "id": "_hnsWILtmcwy",
      "execution_count": null,
      "outputs": [
        {
          "output_type": "execute_result",
          "data": {
            "text/plain": [
              "{'work_year': '2023',\n",
              " 'experience_level': 'SE',\n",
              " 'employment_type': 'FT',\n",
              " 'job_title': 'Data Scientist',\n",
              " 'salary': '160000',\n",
              " 'salary_currency': 'USD',\n",
              " 'salary_in_usd': '160000',\n",
              " 'employee_residence': 'US',\n",
              " 'remote_ratio': 0,\n",
              " 'company_location': 'US',\n",
              " 'company_size': 'M'}"
            ]
          },
          "metadata": {},
          "execution_count": 10
        }
      ]
    },
    {
      "cell_type": "code",
      "source": [
        "len(dados) # quantidade de dados (dicionários)"
      ],
      "metadata": {
        "colab": {
          "base_uri": "https://localhost:8080/"
        },
        "id": "FlY9EgEaI-Zk",
        "outputId": "2b8baf6a-4c24-4a9d-edee-f8942d1f5434"
      },
      "id": "FlY9EgEaI-Zk",
      "execution_count": null,
      "outputs": [
        {
          "output_type": "execute_result",
          "data": {
            "text/plain": [
              "8805"
            ]
          },
          "metadata": {},
          "execution_count": 32
        }
      ]
    },
    {
      "cell_type": "code",
      "source": [
        "# Entendendo a quais anos pertencem os dados\n",
        "anos_unicos = list(set(dado['work_year'] for dado in dados))\n",
        "print(anos_unicos)"
      ],
      "metadata": {
        "colab": {
          "base_uri": "https://localhost:8080/"
        },
        "id": "f5eCGg_gWzGX",
        "outputId": "5dcab888-5334-4234-a63b-cf1af87580e4"
      },
      "id": "f5eCGg_gWzGX",
      "execution_count": null,
      "outputs": [
        {
          "output_type": "stream",
          "name": "stdout",
          "text": [
            "['2021', '2022', '2020', '2023']\n"
          ]
        }
      ]
    },
    {
      "cell_type": "code",
      "source": [
        "%%timeit\n",
        "# AQUI criar função para remover os dados que não vamos considerar (experience_level, employment_type, salary_currency, remote_ratio)\n",
        "def remover_info(json, *chaves) -> list[dict]:\n",
        "    try:\n",
        "        return list(map(lambda d: {k: v for k, v in d.items() if k not in chaves}, json))\n",
        "    except KeyError as e:\n",
        "        raise ValueError(f'Erro ao remover informações: {e}')\n",
        "\n",
        "chave_a_remover = 'salary_currency' # posso passar uma lista com as chaves a serem removidas para a função\n",
        "novos_dados = remover_info(dados, chave_a_remover)\n",
        "\n",
        "#print(novos_dados[0])"
      ],
      "metadata": {
        "colab": {
          "base_uri": "https://localhost:8080/"
        },
        "id": "jnk7niOR509R",
        "outputId": "dab5eda9-c40e-4e36-cbc8-8d56d007acd0"
      },
      "id": "jnk7niOR509R",
      "execution_count": null,
      "outputs": [
        {
          "output_type": "stream",
          "name": "stdout",
          "text": [
            "17.6 ms ± 5.03 ms per loop (mean ± std. dev. of 7 runs, 100 loops each)\n"
          ]
        }
      ]
    },
    {
      "cell_type": "markdown",
      "source": [
        "## Realizando a atividade proposta:"
      ],
      "metadata": {
        "id": "aLWIHzu4oMVh"
      },
      "id": "aLWIHzu4oMVh"
    },
    {
      "cell_type": "code",
      "source": [
        "# filtrando por ano -> a saída de cada função será a entrada da próxima\n",
        "def filtro_ano(item, opc='2023') -> list[dict]:\n",
        "    try:\n",
        "        if 'work_year' in item and item['work_year'] == opc:\n",
        "            return item\n",
        "        else:\n",
        "            raise ValueError('Filtro de ano inválido.')\n",
        "    except Exception as e:\n",
        "        raise ValueError(f'Erro no filtro de ano: {e}')\n",
        "\n",
        "# |\n",
        "# v\n",
        "\n",
        "# filtra por nível de experiencia:\n",
        "def filtro_experiencia(item, opc) -> list[dict]:\n",
        "    try:\n",
        "        if 'experience_level' in item and item['experience_level'] == opc:\n",
        "            return item\n",
        "        else:\n",
        "            raise ValueError('Filtro de nível de experiência inválido.')\n",
        "    except Exception as e:\n",
        "        raise ValueError(f'Erro no filtro de nível de experiência: {e}')\n",
        "\n",
        "# |\n",
        "# v\n",
        "\n",
        "# filtra por tipo de cargo\n",
        "def filtro_cargo(item, opc) -> list[dict]:\n",
        "    try:\n",
        "        if 'job_title' in item and item['job_title'] == opc:\n",
        "            return item\n",
        "        else:\n",
        "            raise ValueError('Filtro de cargo inválido.')\n",
        "    except Exception as e:\n",
        "        raise ValueError(f'Erro no filtro de cargo: {e}')\n",
        "\n",
        "# |\n",
        "# v\n",
        "\n",
        "# filtra por salário -> EM DÓLAR\n",
        "def filtro_salario(item, opc) -> list[dict]:\n",
        "    try:\n",
        "        if 'salary_in_usd' in item and item['salary_in_usd'] == opc:\n",
        "            return item\n",
        "        else:\n",
        "            raise ValueError('Filtro de salário inválido.')\n",
        "    except Exception as e:\n",
        "        raise ValueError(f'Erro no filtro de salário: {e}')\n",
        "\n",
        "# |\n",
        "# v\n",
        "\n",
        "# filtra por localização do funcionário\n",
        "def filtro_localizacao_funcionario(item, opc) -> list[dict]:\n",
        "    try:\n",
        "        if 'employee_residence' in item and item['employee_residence'] == opc:\n",
        "            return item\n",
        "        else:\n",
        "            raise ValueError('Filtro de localização do funcionário inválido.')\n",
        "    except Exception as e:\n",
        "        raise ValueError(f'Erro no filtro de localização do funcionário: {e}')\n",
        "\n",
        "# |\n",
        "# v\n",
        "\n",
        "# filtra por localização da empresa\n",
        "def filtro_localizacao_empresa(item, opc) -> list[dict]:\n",
        "    try:\n",
        "        if 'company_location' in item and item['company_location'] == opc:\n",
        "            return item\n",
        "        else:\n",
        "            raise ValueError('Filtro de localização da empresa inválido.')\n",
        "    except Exception as e:\n",
        "        raise ValueError(f'Erro no filtro de localização da empresa: {e}')\n",
        "\n",
        "# |\n",
        "# v\n",
        "\n",
        "# filtra por tamanho da empresa\n",
        "def filtro_porte_empresa(item, opc) -> list[dict]:\n",
        "    try:\n",
        "        if 'company_size' in item and item['company_size'] == opc:\n",
        "            return item\n",
        "        else:\n",
        "            raise ValueError('Filtro de porte da empresa inválido.')\n",
        "    except Exception as e:\n",
        "        raise ValueError(f'Erro no filtro de porte da empresa: {e}')"
      ],
      "metadata": {
        "id": "UZRfPE_hFBC_"
      },
      "id": "UZRfPE_hFBC_",
      "execution_count": 70,
      "outputs": []
    },
    {
      "cell_type": "code",
      "source": [
        "# Opções para o menu -> filtro de cargos\n",
        "cargos = {\n",
        "    'Tech Lead': 'Data Science',\n",
        "    'Practitioner': 'Data Science',\n",
        "    'Engineer': 'Data Science',\n",
        "    'Director': 'Data Science',\n",
        "    'Consultant': 'Data Science',\n",
        "    'Manager': 'Data Science',\n",
        "    'Managing Director': 'Data Science',\n",
        "    'Director': 'Data Science',\n",
        "    'Lead': 'Data Science',\n",
        "    'Head': 'Data Science'\n",
        "    #'EX': 'Sair'\n",
        "}"
      ],
      "metadata": {
        "id": "2PzapnBOa44R"
      },
      "id": "2PzapnBOa44R",
      "execution_count": null,
      "outputs": []
    },
    {
      "cell_type": "code",
      "source": [
        "anos = ['2020', '2021', '2022', '2023']\n",
        "\n",
        "def obter_ano(anos, msg='Anos'):\n",
        "    while True:\n",
        "        try:\n",
        "            ano = input(f\"{msg} ({' | '.join(anos)}): \")\n",
        "            if ano in anos:\n",
        "                break\n",
        "            else:\n",
        "                raise ValueError('Entrada Inválida! Dado não está na lista.')\n",
        "        except ValueError as e:\n",
        "            print(f'Erro: {e}\\n')\n",
        "\n",
        "    return ano"
      ],
      "metadata": {
        "id": "6CebN8xGP3iQ"
      },
      "id": "6CebN8xGP3iQ",
      "execution_count": 68,
      "outputs": []
    },
    {
      "cell_type": "code",
      "source": [
        "def media_salario_ano(lista_personalizada, cargo: str) -> float:\n",
        "    try:\n",
        "        # Filtra os elementos da lista_personalizada com base na condição especificada pela função lambda\n",
        "        # Retorna True para os itens; o filter devolve um iterador com apenas os itens correspondentes ao cargo desejado\n",
        "        # Map aplica a função lambda em cada elemento da lista e transforma string em float\n",
        "        salario_do_cargo = list(map(lambda item: float(item['salary_in_usd']), filter(lambda item: item['job_title'] == cargo, lista_personalizada)))\n",
        "\n",
        "        if salario_do_cargo:\n",
        "            media_salarial = sum(salario_do_cargo) / len(salario_do_cargo)\n",
        "            return media_salarial\n",
        "        else:\n",
        "            raise ValueError('Nenhum salário encontrado para o cargo especificado.')\n",
        "    except (KeyError, ValueError, ZeroDivisionError) as e:\n",
        "        # Captura exceções específicas que podem ocorrer durante a execução da função\n",
        "        # KeyError: Tentativa de acessar uma chave que não existe no dicionário\n",
        "        # ValueError: Conversão de string para float falhou\n",
        "        # ZeroDivisionError: Tentativa de divisão por zero\n",
        "        raise ValueError(f'Erro ao calcular a média salarial: {e}')\n",
        "\n",
        "media_salario_ano(dados, 'Head of Data Science')"
      ],
      "metadata": {
        "id": "6mmdHRcTuTEO"
      },
      "id": "6mmdHRcTuTEO",
      "execution_count": null,
      "outputs": []
    },
    {
      "cell_type": "code",
      "source": [
        "def menu():\n",
        "  pass\n",
        "  # obter ano que deseja ver os dados - Isadora OK\n",
        "  # obter nível de experiência que deseja saber -> Rafael\n",
        "  # obter cargo -> Ingrid\n",
        "  # obter localização do funcionário -> Eliane\n",
        "  # obter localização da empresa - Eliane\n",
        "  # obter tamanho da empresa -> Rafael\n",
        "  # Home office -> Ingrid\n",
        "\n",
        "  # inserir dados -> Pedro\n",
        "  # remover dados -> Pedro\n",
        "\n",
        "\n",
        "  # retornar média salarial, maior salário ou menor salário\n",
        "\n",
        "# obs: (maior salário, menor salário) -> deve ser obtido com uma função que retorna lista de tuplas"
      ],
      "metadata": {
        "id": "1Mbef3TYcYAR"
      },
      "id": "1Mbef3TYcYAR",
      "execution_count": null,
      "outputs": []
    },
    {
      "cell_type": "markdown",
      "source": [
        "--------------------------------------------------------------------------"
      ],
      "metadata": {
        "id": "k4PVC13frX1k"
      },
      "id": "k4PVC13frX1k"
    },
    {
      "cell_type": "code",
      "source": [
        "# Ex de uso se fosse considerar apenas um filtro\n",
        "def filtrar_dados(lista, filtro_funcao, opc=None):\n",
        "    return list(filter(lambda x: filtro_funcao(x, opc), lista))\n",
        "\n",
        "# por ano\n",
        "dados_filtrados_por_ano = filtrar_dados(dados, filtro_ano, '2023')\n",
        "print(\"Filtrados por ano:\", len(dados_filtrados_por_ano))\n",
        "\n",
        "# por tipo de trabalho\n",
        "dados_filtrados_por_tipo_trabalho = filtrar_dados(dados, filtro_tipo_trabalho, 'Data Scientist')\n",
        "print(\"Filtrados por tipo de trabalho:\", dados_filtrados_por_tipo_trabalho)"
      ],
      "metadata": {
        "id": "LhCkL9wjz8F-"
      },
      "id": "LhCkL9wjz8F-",
      "execution_count": null,
      "outputs": []
    },
    {
      "cell_type": "code",
      "source": [
        "# CRIEI APENAS PARA SABERMOS QUAIS PROFISSÕES COM DADOS USAR\n",
        "cargos_data_science = set()\n",
        "\n",
        "# Iterar sobre os dicionários e adicionar os valores de 'job_title' contendo \"Data Science\" ao conjunto\n",
        "for item in dados:\n",
        "    if 'job_title' in item and 'Data Science' in item['job_title']:\n",
        "        cargos_data_science.add(item['job_title'])\n",
        "\n",
        "print(\"Cargos contendo 'Data Science':\", cargos_data_science)"
      ],
      "metadata": {
        "colab": {
          "base_uri": "https://localhost:8080/"
        },
        "id": "jObFzdpVVyq2",
        "outputId": "9ba5f7c4-3d9b-4d01-ee5c-05c6bd663b27"
      },
      "id": "jObFzdpVVyq2",
      "execution_count": null,
      "outputs": [
        {
          "output_type": "stream",
          "name": "stdout",
          "text": [
            "Cargos contendo 'Data Science': {'Director of Data Science', 'Data Science Consultant', 'Data Science Tech Lead', 'Managing Director Data Science', 'Data Science Lead', 'Data Science Practitioner', 'Data Science Manager', 'Head of Data Science', 'Data Science Director', 'Data Science Engineer'}\n"
          ]
        }
      ]
    }
  ],
  "metadata": {
    "kernelspec": {
      "display_name": "Python 3 (ipykernel)",
      "language": "python",
      "name": "python3"
    },
    "language_info": {
      "codemirror_mode": {
        "name": "ipython",
        "version": 3
      },
      "file_extension": ".py",
      "mimetype": "text/x-python",
      "name": "python",
      "nbconvert_exporter": "python",
      "pygments_lexer": "ipython3",
      "version": "3.10.9"
    },
    "colab": {
      "provenance": []
    }
  },
  "nbformat": 4,
  "nbformat_minor": 5
}