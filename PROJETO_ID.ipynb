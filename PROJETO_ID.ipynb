{
 "cells": [
  {
   "cell_type": "code",
   "execution_count": 2,
   "metadata": {},
   "outputs": [],
   "source": [
    "import json"
   ]
  },
  {
   "cell_type": "code",
   "execution_count": 3,
   "metadata": {},
   "outputs": [],
   "source": [
    "def carrega_dados(path:str) -> list[dict]:\n",
    "    try:\n",
    "        with open(path, 'r') as arquivo: # abre o arquivo especificado pelo caminho path no modo de leitura ('r')\n",
    "            dados = arquivo.read()\n",
    "            return json.loads(dados)\n",
    "    except FileNotFoundError: # ocorre quando o arquivo especificado em open() não é encontrado\n",
    "        return []"
   ]
  },
  {
   "cell_type": "code",
   "execution_count": 4,
   "metadata": {},
   "outputs": [
    {
     "name": "stdout",
     "output_type": "stream",
     "text": [
      "{\n",
      "  \"ano_de_trabalho\": \"2023\",\n",
      "  \"nivel_de_experiencia\": \"SE\",\n",
      "  \"tipo_de_emprego\": \"FT\",\n",
      "  \"cargo\": \"Data Engineer\",\n",
      "  \"salario_em_usd\": \"205500\",\n",
      "  \"residencia_do_funcionario\": \"US\",\n",
      "  \"localizacao_da_empresa\": \"US\",\n",
      "  \"tamanho_da_empresa\": \"M\"\n",
      "}\n"
     ]
    }
   ],
   "source": [
    "# Carregando os dados\n",
    "dados = carrega_dados('salaries.json')\n",
    "print(json.dumps(dados[50], indent=2))"
   ]
  },
  {
   "cell_type": "code",
   "execution_count": 5,
   "metadata": {},
   "outputs": [
    {
     "data": {
      "text/plain": [
       "{'ano_de_trabalho': '2023',\n",
       " 'nivel_de_experiencia': 'SE',\n",
       " 'tipo_de_emprego': 'FT',\n",
       " 'cargo': 'Data Architect',\n",
       " 'salario_em_usd': '190000',\n",
       " 'residencia_do_funcionario': 'CA',\n",
       " 'localizacao_da_empresa': 'CA',\n",
       " 'tamanho_da_empresa': 'M',\n",
       " 'id': 21}"
      ]
     },
     "execution_count": 5,
     "metadata": {},
     "output_type": "execute_result"
    }
   ],
   "source": [
    "# Adiciona o id\n",
    "for i, item in enumerate(dados, start=1):\n",
    "    item['id'] = i\n",
    "\n",
    "dados[20]"
   ]
  },
  {
   "cell_type": "code",
   "execution_count": 24,
   "metadata": {},
   "outputs": [],
   "source": [
    "# Criar um novo arquivo com os dados aleatórios\n",
    "with open('salaries_id.json', 'w') as arquivo_saida:\n",
    "    json.dump(dados, arquivo_saida)"
   ]
  }
 ],
 "metadata": {
  "kernelspec": {
   "display_name": "Python 3",
   "language": "python",
   "name": "python3"
  },
  "language_info": {
   "codemirror_mode": {
    "name": "ipython",
    "version": 3
   },
   "file_extension": ".py",
   "mimetype": "text/x-python",
   "name": "python",
   "nbconvert_exporter": "python",
   "pygments_lexer": "ipython3",
   "version": "3.10.9"
  }
 },
 "nbformat": 4,
 "nbformat_minor": 2
}
