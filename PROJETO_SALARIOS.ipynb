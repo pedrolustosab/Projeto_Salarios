{
  "cells": [
    {
      "cell_type": "code",
      "execution_count": 10,
      "id": "r_wss3ieyX-c",
      "metadata": {
        "id": "r_wss3ieyX-c"
      },
      "outputs": [],
      "source": [
        "import json\n",
        "from functools import reduce"
      ]
    },
    {
      "cell_type": "code",
      "execution_count": 13,
      "id": "9a89STPLmbkr",
      "metadata": {
        "id": "9a89STPLmbkr"
      },
      "outputs": [],
      "source": [
        "# Função para carregar os dados\n",
        "def carrega_dados(path:str = 'salaries.json') -> list[dict]:\n",
        "    try:\n",
        "        with open(path, 'r') as arquivo: # abre o arquivo especificado pelo caminho path no modo de leitura ('r')\n",
        "            dados = arquivo.read()\n",
        "            return json.loads(dados)\n",
        "    except FileNotFoundError: # ocorre quando o arquivo especificado em open() não é encontrado\n",
        "        return []"
      ]
    },
    {
      "cell_type": "markdown",
      "id": "C5o7q4VtrzrH",
      "metadata": {
        "id": "C5o7q4VtrzrH"
      },
      "source": [
        "Nível de Experiência: Os níveis de experiência variam de \"EX\" (Experiente) a \"MI\" (Muito Inexperiente) e \"SE\" (Sênior). Isso indica o nível de experiência dos funcionários.\n",
        "\n",
        "Tipo de Emprego: Todos os registros têm \"FT\" (Tempo Integral) como tipo de emprego, o que significa que esses funcionários trabalham em período integral."
      ]
    },
    {
      "cell_type": "markdown",
      "id": "Qzk_RjucFCst",
      "metadata": {
        "id": "Qzk_RjucFCst"
      },
      "source": [
        "## Estudando os dados:"
      ]
    },
    {
      "cell_type": "code",
      "execution_count": 14,
      "id": "_hnsWILtmcwy",
      "metadata": {
        "colab": {
          "base_uri": "https://localhost:8080/"
        },
        "id": "_hnsWILtmcwy",
        "outputId": "d1e01b08-1e6a-4e8d-dc70-86d33ddd87c6"
      },
      "outputs": [
        {
          "data": {
            "text/plain": [
              "[]"
            ]
          },
          "execution_count": 14,
          "metadata": {},
          "output_type": "execute_result"
        }
      ],
      "source": [
        "# visualizando um único dado para compreender o formato\n",
        "dados = carrega_dados(\"salaries.json\")\n",
        "dados"
      ]
    },
    {
      "cell_type": "code",
      "execution_count": null,
      "id": "FlY9EgEaI-Zk",
      "metadata": {
        "colab": {
          "base_uri": "https://localhost:8080/"
        },
        "id": "FlY9EgEaI-Zk",
        "outputId": "2b8baf6a-4c24-4a9d-edee-f8942d1f5434"
      },
      "outputs": [
        {
          "data": {
            "text/plain": [
              "8805"
            ]
          },
          "execution_count": 32,
          "metadata": {},
          "output_type": "execute_result"
        }
      ],
      "source": [
        "len(dados) # quantidade de dados (dicionários)"
      ]
    },
    {
      "cell_type": "code",
      "execution_count": null,
      "id": "f5eCGg_gWzGX",
      "metadata": {
        "colab": {
          "base_uri": "https://localhost:8080/"
        },
        "id": "f5eCGg_gWzGX",
        "outputId": "5dcab888-5334-4234-a63b-cf1af87580e4"
      },
      "outputs": [
        {
          "name": "stdout",
          "output_type": "stream",
          "text": [
            "['2021', '2022', '2020', '2023']\n"
          ]
        }
      ],
      "source": [
        "# Entendendo a quais anos pertencem os dados\n",
        "anos_unicos = list(set(dado['work_year'] for dado in dados))\n",
        "print(anos_unicos)"
      ]
    },
    {
      "cell_type": "code",
      "execution_count": null,
      "id": "jnk7niOR509R",
      "metadata": {
        "colab": {
          "base_uri": "https://localhost:8080/"
        },
        "id": "jnk7niOR509R",
        "outputId": "dab5eda9-c40e-4e36-cbc8-8d56d007acd0"
      },
      "outputs": [
        {
          "name": "stdout",
          "output_type": "stream",
          "text": [
            "17.6 ms ± 5.03 ms per loop (mean ± std. dev. of 7 runs, 100 loops each)\n"
          ]
        }
      ],
      "source": [
        "%%timeit\n",
        "# AQUI criar função para remover os dados que não vamos considerar (experience_level, employment_type, salary_currency, remote_ratio)\n",
        "def remover_info(json, *chave) -> list[dict]:\n",
        "    return list(map(lambda d: {k: v for k, v in d.items() if k != chave}, json))\n",
        "\n",
        "chave_a_remover = 'salary_currency' # posso passar uma lista com as chaves a serem removidas para a função\n",
        "novos_dados = remover_info(dados, chave_a_remover)\n",
        "\n",
        "#print(novos_dados[0])"
      ]
    },
    {
      "cell_type": "markdown",
      "id": "aLWIHzu4oMVh",
      "metadata": {
        "id": "aLWIHzu4oMVh"
      },
      "source": [
        "## Realizando a atividade proposta:"
      ]
    },
    {
      "cell_type": "code",
      "execution_count": null,
      "id": "1eNwa4NufPo2",
      "metadata": {
        "id": "1eNwa4NufPo2"
      },
      "outputs": [],
      "source": [
        "# Inserir validações (try-exception) em TODAS operações"
      ]
    },
    {
      "cell_type": "code",
      "execution_count": null,
      "id": "UZRfPE_hFBC_",
      "metadata": {
        "id": "UZRfPE_hFBC_"
      },
      "outputs": [],
      "source": [
        "# filtrando por ano -> a saída de cada função será a entrada da próxima\n",
        "def filtro_ano(item, opc='2023') -> list[dict]:\n",
        "    return 'work_year' in item and item['work_year'] == opc\n",
        "\n",
        "# |\n",
        "# v\n",
        "\n",
        "# filtra por nível de experiencia:   -> A DISCUTIR\n",
        "def filtro_experiencia(item, opc) -> list[dict]:\n",
        "    return 'experience_level' in item and item['experience_level'] == opc\n",
        "\n",
        "# |\n",
        "# v\n",
        "\n",
        "# filtra por tipo de trabalho\n",
        "def filtro_tipo_trabalho(item, opc) -> list[dict]:\n",
        "    return 'job_title' in item and item['job_title'] == opc\n",
        "\n",
        "# |\n",
        "# v\n",
        "\n",
        "# filtra por salário -> EM DÓLAR\n",
        "def filtro_salario(item, opc) -> list[dict]:\n",
        "    return 'salary_in_usd' in item and item['salary_in_usd'] == opc\n",
        "\n",
        "# |\n",
        "# v\n",
        "\n",
        "# filtra por localização do funcionário\n",
        "def filtro_localizacao_funcionario(item, opc) -> list[dict]:\n",
        "    return 'employee_residence' in item and item['employee_residence'] == opc\n",
        "\n",
        "# |\n",
        "# v\n",
        "\n",
        "# filtra por localização da empresa\n",
        "def filtro_localizacao_empresa(item, opc) -> list[dict]:\n",
        "    return 'company_location' in item and item['company_location'] == opc\n",
        "\n",
        "# |\n",
        "# v\n",
        "\n",
        "# filtra por tamanho da empresa\n",
        "def filtro_tamanho_empresa(item, opc) -> list[dict]:\n",
        "    return 'company_size' in item and item['company_size'] == opc"
      ]
    },
    {
      "cell_type": "code",
      "execution_count": null,
      "id": "6CebN8xGP3iQ",
      "metadata": {
        "id": "6CebN8xGP3iQ"
      },
      "outputs": [],
      "source": [
        "anos = ['2020', '2021', '2022', '2023']\n",
        "\n",
        "def obter_ano(opcoes):\n",
        "  while True:\n",
        "    ano = input(f\"{msg} ({' | '.join([f'{key} - {values}' for key, values in opcoes.items()])}):\")\n",
        "    valor = input(msg).upper()\n",
        "\n",
        "    if valida_opcoes(valor, opcoes.keys()):\n",
        "      break\n",
        "\n",
        "    msg = f'Entrada Inválida! As opções validas são {\", \".join(opcoes.keys())} \\n' + msg\n",
        "\n",
        "  return valor"
      ]
    },
    {
      "cell_type": "code",
      "execution_count": null,
      "id": "1Mbef3TYcYAR",
      "metadata": {
        "id": "1Mbef3TYcYAR"
      },
      "outputs": [],
      "source": [
        "def menu():\n",
        "  pass\n",
        "  # obter ano que deseja ver os dados - Isadora\n",
        "  # obter nível de experiência que deseja saber -> Rafael\n",
        "  # obter cargo -> Ingrid\n",
        "  # obter localização do funcionário -> Eliane\n",
        "  # obter localização da empresa - Eliane\n",
        "  # obter tamanho da empresa -> Rafael\n",
        "  # Home office -> Ingrid\n",
        "\n",
        "  # inserir dados -> Pedro\n",
        "  # remover dados -> Pedro\n",
        "\n",
        "\n",
        "  # retornar média salarial, maior salário ou menor salário\n",
        "\n",
        "# obs: (maior salário, menor salário) -> deve ser obtido com uma função que retorna lista de tuplas"
      ]
    },
    {
      "cell_type": "code",
      "execution_count": null,
      "id": "LhCkL9wjz8F-",
      "metadata": {
        "id": "LhCkL9wjz8F-"
      },
      "outputs": [],
      "source": [
        "# Ex de uso se for considerar apenas um filtro\n",
        "def filtrar_dados(lista, filtro_funcao, opc=None):\n",
        "    return list(filter(lambda x: filtro_funcao(x, opc), lista))\n",
        "\n",
        "# por ano\n",
        "dados_filtrados_por_ano = filtrar_dados(dados, filtro_ano, '2023')\n",
        "print(\"Filtrados por ano:\", len(dados_filtrados_por_ano))\n",
        "\n",
        "# por tipo de trabalho\n",
        "dados_filtrados_por_tipo_trabalho = filtrar_dados(dados, filtro_tipo_trabalho, 'Data Scientist')\n",
        "print(\"Filtrados por tipo de trabalho:\", dados_filtrados_por_tipo_trabalho)"
      ]
    },
    {
      "cell_type": "code",
      "execution_count": null,
      "id": "jObFzdpVVyq2",
      "metadata": {
        "colab": {
          "base_uri": "https://localhost:8080/"
        },
        "id": "jObFzdpVVyq2",
        "outputId": "9ba5f7c4-3d9b-4d01-ee5c-05c6bd663b27"
      },
      "outputs": [
        {
          "name": "stdout",
          "output_type": "stream",
          "text": [
            "Cargos contendo 'Data Science': {'Director of Data Science', 'Data Science Consultant', 'Data Science Tech Lead', 'Managing Director Data Science', 'Data Science Lead', 'Data Science Practitioner', 'Data Science Manager', 'Head of Data Science', 'Data Science Director', 'Data Science Engineer'}\n"
          ]
        }
      ],
      "source": [
        "# CRIEI APENAS PARA SABERMOS QUAIS PROFISSÕES COM DADOS USAR\n",
        "cargos_data_science = set()\n",
        "\n",
        "# Iterar sobre os dicionários e adicionar os valores de 'job_title' contendo \"Data Science\" ao conjunto\n",
        "for item in dados:\n",
        "    if 'job_title' in item and 'Data Science' in item['job_title']:\n",
        "        cargos_data_science.add(item['job_title'])\n",
        "\n",
        "print(\"Cargos contendo 'Data Science':\", cargos_data_science)"
      ]
    },
    {
      "cell_type": "markdown",
      "id": "HmgW1Lb0aFIG",
      "metadata": {
        "id": "HmgW1Lb0aFIG"
      },
      "source": [
        "CRIAR DICIONÁRIO PARA MENU COM AS INFOS A SEGUIR:\n",
        "\n",
        "'Data Science Tech Lead'\\\n",
        "'Data Science Practitioner'\\\n",
        "'Data Science Engineer'\\\n",
        "'Data Science Director'\\\n",
        "'Data Science Consultant'\\\n",
        "'Data Science Manager'\\\n",
        "'Managing Director Data Science'\\\n",
        "'Director of Data Science'\\\n",
        "'Data Science Lead'\\\n",
        "'Head of Data Science'"
      ]
    },
    {
      "cell_type": "code",
      "execution_count": null,
      "id": "6mmdHRcTuTEO",
      "metadata": {
        "id": "6mmdHRcTuTEO"
      },
      "outputs": [],
      "source": [
        "def media_salario_ano(lista_personalizada, cargo: str) -> float:\n",
        "  # filtra os elementos da lista_personalizada com base na condição especificada pela função lambda\n",
        "  # -> retorna True para os itens; o filter devolve um iterador com apenas os itens correspondentes ao cargo desejado\n",
        "  # map aplica a função lambda em cada elemento da lista e transforma string em float\n",
        "  salario_do_cargo = list(map(lambda item: float(item['salary_in_usd']), filter(lambda item: item['job_title'] == cargo, lista_personalizada)))\n",
        "\n",
        "  if salario_do_cargo:\n",
        "    media_salarial = sum(salario_do_cargo) / len(salario_do_cargo)\n",
        "    return media_salarial\n",
        "  else:\n",
        "    return None\n",
        "\n",
        "media_salario_ano(dados, 'Head of Data Science')"
      ]
    },
    {
      "cell_type": "code",
      "execution_count": null,
      "id": "2PzapnBOa44R",
      "metadata": {
        "id": "2PzapnBOa44R"
      },
      "outputs": [],
      "source": [
        "# Opções para o menu\n",
        "opc = {\n",
        "    'I': 'Inserir',\n",
        "    'A': 'Alterar',\n",
        "    'D': 'Deletar',\n",
        "    'B': 'Buscar',\n",
        "    'ET': 'Exibir Todos',\n",
        "    #'EX': 'Sair'\n",
        "}"
      ]
    },
    {
      "cell_type": "markdown",
      "id": "fhYIoICjESyq",
      "metadata": {
        "id": "fhYIoICjESyq"
      },
      "source": [
        "--------------------------------------------------------------------------"
      ]
    },
    {
      "cell_type": "markdown",
      "id": "KfpYcU8FmtkN",
      "metadata": {
        "id": "KfpYcU8FmtkN"
      },
      "source": [
        "## Parte dos códigos da Ingrid"
      ]
    },
    {
      "cell_type": "code",
      "execution_count": null,
      "id": "sRuTBoD9qJC0",
      "metadata": {
        "id": "sRuTBoD9qJC0"
      },
      "outputs": [],
      "source": [
        "# Filtra os registros para cargos de \"Analista de Dados\" e \"Cientista de Dados\"\n",
        "analista_dados = [dado for dado in dados if dado['job_title'] == 'Data Analyst']\n",
        "cientista_dados = [dado for dado in dados if dado['job_title'] == 'Data Science Manager']\n",
        "\n",
        "# Ordena os registros em ordem decrescente com base no salário\n",
        "analista_dados = sorted(analista_dados, key=lambda x: float(x['salary_in_usd']), reverse=True)\n",
        "cientista_dados = sorted(cientista_dados, key=lambda x: float(x['salary_in_usd']), reverse=True)\n",
        "\n",
        "# Pega os 20 maiores salários de cada cargo\n",
        "vinte_maiores_analista_dados = analista_dados[:20]\n",
        "vinte_maiores_cientista_dados = cientista_dados[:20]\n",
        "\n",
        "# Exibi os 20 maiores salários de Analista de Dados\n",
        "print(\"20 Maiores Salários de Analista de Dados:\")\n",
        "for i, registro in enumerate(vinte_maiores_analista_dados, start=1):\n",
        "    print(f\"{i}. Salário: {registro['salary_in_usd']} USD\")\n",
        "\n",
        "# Exibi os 20 maiores salários de Cientista de Dados\n",
        "print(\"\\n20 Maiores Salários de Cientista de Dados:\")\n",
        "for i, registro in enumerate(vinte_maiores_cientista_dados, start=1):\n",
        "    print(f\"{i}. Salário: {registro['salary_in_usd']} USD\")\n"
      ]
    },
    {
      "cell_type": "code",
      "execution_count": null,
      "id": "Qju9tcv0tznw",
      "metadata": {
        "id": "Qju9tcv0tznw"
      },
      "outputs": [],
      "source": [
        "cargos_com_maiores_salarios = {}\n",
        "for dados in dados:\n",
        "  cargo = dado['job_title']\n",
        "  salario = float(dado['salary'])\n",
        "\n",
        "  if salario <="
      ]
    },
    {
      "cell_type": "code",
      "execution_count": null,
      "id": "7K3_sn-_0Dbc",
      "metadata": {
        "id": "7K3_sn-_0Dbc"
      },
      "outputs": [],
      "source": [
        "dados_filtrados = [registro for registro in dados if 2020 <= int(registro['work_year']) <= 2023]\n",
        "dados_filtrados"
      ]
    },
    {
      "cell_type": "code",
      "execution_count": null,
      "id": "SBS1ptat1zSa",
      "metadata": {
        "id": "SBS1ptat1zSa"
      },
      "outputs": [],
      "source": [
        "%%timeit\n",
        "\n",
        "# Cria um dicionário para armazenar as informações agrupadas por cargo\n",
        "informacoes_por_cargo = {}\n",
        "\n",
        "# Agrupa as informações por cargo\n",
        "for registro in dados_filtrados:\n",
        "    cargo = registro['job_title']\n",
        "    if cargo not in informacoes_por_cargo:\n",
        "        informacoes_por_cargo[cargo] = []\n",
        "    informacoes_por_cargo[cargo].append(registro)\n",
        "\n",
        "# Seleciona as 10 primeiras informações por cargo\n",
        "informacoes_reduzidas = {}\n",
        "for cargo, informacoes in informacoes_por_cargo.items():\n",
        "    informacoes_reduzidas[cargo] = informacoes[:10]\n",
        "\n",
        "# Exiba/salve as informações reduzidas\n",
        "for cargo, informacoes in informacoes_reduzidas.items():\n",
        "    print(f'Informações para o cargo {cargo}:')\n",
        "    for informacao in informacoes:\n",
        "        print(informacao)"
      ]
    },
    {
      "cell_type": "code",
      "execution_count": null,
      "id": "IMGoNAO_p1_0",
      "metadata": {
        "id": "IMGoNAO_p1_0"
      },
      "outputs": [],
      "source": [
        "%%timeit\n",
        "\n",
        "informacoes_por_cargo = {}\n",
        "\n",
        "for registro in dados_filtrados:\n",
        "    informacoes_por_cargo.setdefault(registro['job_title'], []).append(registro)\n",
        "\n",
        "informacoes_reduzidas = {cargo: informacoes[:10] for cargo, informacoes in informacoes_por_cargo.items()}\n",
        "\n",
        "for cargo, informacoes in informacoes_reduzidas.items():\n",
        "    print(f'Informações para o cargo {cargo}:\\n{informacoes}\\n')\n"
      ]
    },
    {
      "cell_type": "code",
      "execution_count": null,
      "id": "50PdbPjspmcs",
      "metadata": {
        "id": "50PdbPjspmcs"
      },
      "outputs": [],
      "source": [
        "# Cria um dicionário para armazenar as informações agrupadas por cargo\n",
        "informacoes_por_cargo = {}\n",
        "\n",
        "# Agrupa as informações por cargo\n",
        "for registro in dados_filtrados:\n",
        "    cargo = registro['job_title']\n",
        "    informacoes_por_cargo.setdefault(cargo, []).append(registro)\n",
        "\n",
        "# Seleciona as 10 primeiras informações por cargo\n",
        "informacoes_reduzidas = {cargo: informacoes[:10] for cargo, informacoes in informacoes_por_cargo.items()}\n",
        "\n",
        "# Exibe/salva as informações reduzidas\n",
        "for cargo, informacoes in informacoes_reduzidas.items():\n",
        "    print(f'Informações para o cargo {cargo}:')\n",
        "    for informacao in informacoes:\n",
        "        print(informacao)\n"
      ]
    },
    {
      "cell_type": "code",
      "execution_count": null,
      "id": "OmJfJwmK3UXQ",
      "metadata": {
        "id": "OmJfJwmK3UXQ"
      },
      "outputs": [],
      "source": [
        "# Agrupa as informações por cargo\n",
        "for registro in dados_filtrados:\n",
        "    cargo = registro['job_title']\n",
        "    if cargo not in informacoes_por_cargo:\n",
        "        informacoes_por_cargo[cargo] = []\n",
        "    if len(informacoes_por_cargo[cargo]) < 10:\n",
        "        informacoes_por_cargo[cargo].append(registro)\n",
        "\n",
        "# Limita os dsdos a um máximo de 100 registros\n",
        "informacoes_reduzidas = {}\n",
        "total_registros = 0\n",
        "\n",
        "for cargo, informacoes in informacoes_por_cargo.items():\n",
        "    registros_a_adicionar = min(1, 2 - total_registros)\n",
        "    informacoes_reduzidas[cargo] = informacoes[:registros_a_adicionar]\n",
        "    total_registros += registros_a_adicionar\n",
        "\n",
        "for cargo, informacoes in informacoes_por_cargo.items():\n",
        "    print(f'Informações para o cargo {cargo}:')\n",
        "    for informacao in informacoes:\n",
        "        print(informacao)"
      ]
    },
    {
      "cell_type": "code",
      "execution_count": null,
      "id": "DyUDyEvR7esI",
      "metadata": {
        "id": "DyUDyEvR7esI"
      },
      "outputs": [],
      "source": [
        "# Calcula a média dos salários por cargo\n",
        "media_salarios_por_cargo = {}\n",
        "for cargo, salarios in salarios_por_cargo.items():\n",
        "    media = sum(salarios) / len(salarios)\n",
        "    media_salarios_por_cargo[cargo] = media\n",
        "\n",
        "# Encontra os 5 cargos com as maiores médias de salários\n",
        "cargos_melhores_salarios = sorted(media_salarios_por_cargo, key=lambda x: media_salarios_por_cargo[x], reverse=True)[:5]\n",
        "\n",
        "# Exibe os 5 cargos com as maiores médias de salários\n",
        "for i, cargo in enumerate(cargos_melhores_salarios, 1):\n",
        "    media = media_salarios_por_cargo[cargo]\n",
        "    print(f'{i}. Cargo: {cargo}, Média de Salário: ${media:.2f}')"
      ]
    },
    {
      "cell_type": "code",
      "execution_count": null,
      "id": "OeT9Hgb4YU8X",
      "metadata": {
        "id": "OeT9Hgb4YU8X"
      },
      "outputs": [],
      "source": [
        "while True:\n",
        "    escolha = obter_opcoes(opc, 'Escolha uma ação')\n",
        "\n",
        "    if escolha == 'I':\n",
        "        novo_prof = {\n",
        "            'nome': input('Digite o nome do professor: '),\n",
        "            'disciplina': input('Digite a disciplina do professor: '),\n",
        "        }\n",
        "        dados = inserir_novo(dados, novo_prof)\n",
        "        print(\"Novo professor inserido com sucesso!\")\n",
        "        salvar_dados(dados)"
      ]
    },
    {
      "cell_type": "code",
      "execution_count": null,
      "id": "CiEGuMcXqe71",
      "metadata": {
        "id": "CiEGuMcXqe71"
      },
      "outputs": [],
      "source": [
        "import random\n",
        "import json\n",
        "\n",
        "# Suponha que seus dados estejam em uma lista chamada dados_filtrados\n",
        "dados_aleatorios = random.sample(dados_filtrados, 15)\n",
        "\n",
        "# Criar um novo arquivo com os dados aleatórios\n",
        "with open('dados_aleatorios.json', 'w') as arquivo_saida:\n",
        "    json.dump(dados_aleatorios, arquivo_saida, indent=2)\n",
        "\n",
        "print(\"Arquivo 'dados_aleatorios.json' criado com sucesso.\")\n"
      ]
    }
  ],
  "metadata": {
    "colab": {
      "provenance": []
    },
    "kernelspec": {
      "display_name": "Python 3 (ipykernel)",
      "language": "python",
      "name": "python3"
    },
    "language_info": {
      "codemirror_mode": {
        "name": "ipython",
        "version": 3
      },
      "file_extension": ".py",
      "mimetype": "text/x-python",
      "name": "python",
      "nbconvert_exporter": "python",
      "pygments_lexer": "ipython3",
      "version": "3.10.9"
    }
  },
  "nbformat": 4,
  "nbformat_minor": 5
}
