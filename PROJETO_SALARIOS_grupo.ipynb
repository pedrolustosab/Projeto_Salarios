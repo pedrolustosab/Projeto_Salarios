{
  "cells": [
    {
      "cell_type": "code",
      "source": [
        "!gdown \"https://drive.google.com/uc?id=1UrFtHryRVNPhsJgIscgs_K9DZZRy1KM7\""
      ],
      "metadata": {
        "colab": {
          "base_uri": "https://localhost:8080/"
        },
        "id": "E786kotQh8jv",
        "outputId": "a50f2cff-340d-4071-d8ae-6ad996f5ea7b"
      },
      "id": "E786kotQh8jv",
      "execution_count": 1,
      "outputs": [
        {
          "output_type": "stream",
          "name": "stdout",
          "text": [
            "Downloading...\n",
            "From: https://drive.google.com/uc?id=1UrFtHryRVNPhsJgIscgs_K9DZZRy1KM7\n",
            "To: /content/salaries.json\n",
            "\r  0% 0.00/2.42M [00:00<?, ?B/s]\r100% 2.42M/2.42M [00:00<00:00, 152MB/s]\n"
          ]
        }
      ]
    },
    {
      "cell_type": "code",
      "source": [
        "import json\n",
        "from functools import reduce"
      ],
      "metadata": {
        "id": "r_wss3ieyX-c"
      },
      "id": "r_wss3ieyX-c",
      "execution_count": 2,
      "outputs": []
    },
    {
      "cell_type": "code",
      "source": [
        "# Função para carregar os dados\n",
        "def carrega_dados(path:str) -> list[dict]:\n",
        "    try:\n",
        "        with open(path, 'r') as arquivo: # abre o arquivo especificado pelo caminho path no modo de leitura ('r')\n",
        "            dados = arquivo.read()\n",
        "            return json.loads(dados)\n",
        "    except FileNotFoundError: # ocorre quando o arquivo especificado em open() não é encontrado\n",
        "        return []"
      ],
      "metadata": {
        "id": "9a89STPLmbkr"
      },
      "id": "9a89STPLmbkr",
      "execution_count": 3,
      "outputs": []
    },
    {
      "cell_type": "markdown",
      "source": [
        "Nível de Experiência: Os níveis de experiência variam de \"EX\" (Experiente) a \"MI\" (Muito Inexperiente) e \"SE\" (Sênior). Isso indica o nível de experiência dos funcionários.\n",
        "\n",
        "Tipo de Emprego: Todos os registros têm \"FT\" (Tempo Integral) como tipo de emprego, o que significa que esses funcionários trabalham em período integral."
      ],
      "metadata": {
        "id": "C5o7q4VtrzrH"
      },
      "id": "C5o7q4VtrzrH"
    },
    {
      "cell_type": "markdown",
      "source": [
        "## Estudando os dados:"
      ],
      "metadata": {
        "id": "Qzk_RjucFCst"
      },
      "id": "Qzk_RjucFCst"
    },
    {
      "cell_type": "code",
      "source": [
        "# visualizando um único dado para compreender o formato\n",
        "dados = carrega_dados(\"salaries.json\")\n",
        "dados[0]"
      ],
      "metadata": {
        "colab": {
          "base_uri": "https://localhost:8080/"
        },
        "id": "_hnsWILtmcwy",
        "outputId": "a13922a5-b9f7-48d9-ba4f-5a2de3bd619a"
      },
      "id": "_hnsWILtmcwy",
      "execution_count": 113,
      "outputs": [
        {
          "output_type": "execute_result",
          "data": {
            "text/plain": [
              "{'work_year': '2023',\n",
              " 'experience_level': 'EX',\n",
              " 'employment_type': 'FT',\n",
              " 'job_title': 'Data Science Director',\n",
              " 'salary': '212000',\n",
              " 'salary_currency': 'USD',\n",
              " 'salary_in_usd': '212000',\n",
              " 'employee_residence': 'US',\n",
              " 'remote_ratio': 0,\n",
              " 'company_location': 'US',\n",
              " 'company_size': 'M'}"
            ]
          },
          "metadata": {},
          "execution_count": 113
        }
      ]
    },
    {
      "cell_type": "code",
      "source": [
        "for i, item in enumerate(dados, start=1):\n",
        "  item['id'] = i"
      ],
      "metadata": {
        "id": "w3oDVtoxX8ys"
      },
      "id": "w3oDVtoxX8ys",
      "execution_count": null,
      "outputs": []
    },
    {
      "cell_type": "code",
      "source": [
        "len(dados) # quantidade de dados (dicionários)"
      ],
      "metadata": {
        "colab": {
          "base_uri": "https://localhost:8080/"
        },
        "id": "FlY9EgEaI-Zk",
        "outputId": "b2aa3e14-a0e1-4fa1-95a2-cd25665623b9"
      },
      "id": "FlY9EgEaI-Zk",
      "execution_count": 5,
      "outputs": [
        {
          "output_type": "execute_result",
          "data": {
            "text/plain": [
              "8805"
            ]
          },
          "metadata": {},
          "execution_count": 5
        }
      ]
    },
    {
      "cell_type": "code",
      "source": [
        "# Entendendo a quais anos pertencem os dados\n",
        "anos_unicos = list(set(dado['work_year'] for dado in dados))\n",
        "print(anos_unicos)"
      ],
      "metadata": {
        "colab": {
          "base_uri": "https://localhost:8080/"
        },
        "id": "f5eCGg_gWzGX",
        "outputId": "7a4104cc-6708-42b0-b2f7-b6438361eebd"
      },
      "id": "f5eCGg_gWzGX",
      "execution_count": 6,
      "outputs": [
        {
          "output_type": "stream",
          "name": "stdout",
          "text": [
            "['2021', '2023', '2022', '2020']\n"
          ]
        }
      ]
    },
    {
      "cell_type": "code",
      "source": [
        "%%timeit\n",
        "# AQUI criar função para remover os dados que não vamos considerar (experience_level, employment_type, salary_currency, remote_ratio)\n",
        "def remover_info(json, *chaves) -> list[dict]:\n",
        "    try:\n",
        "        return list(map(lambda d: {k: v for k, v in d.items() if k not in chaves}, json))\n",
        "    except KeyError as e:\n",
        "        raise ValueError(f'Erro ao remover informações: {e}')\n",
        "\n",
        "chave_a_remover = 'salary_currency' # posso passar uma lista com as chaves a serem removidas para a função\n",
        "novos_dados = remover_info(dados, chave_a_remover)\n",
        "\n",
        "#print(novos_dados[0])"
      ],
      "metadata": {
        "colab": {
          "base_uri": "https://localhost:8080/"
        },
        "id": "jnk7niOR509R",
        "outputId": "dab5eda9-c40e-4e36-cbc8-8d56d007acd0"
      },
      "id": "jnk7niOR509R",
      "execution_count": null,
      "outputs": [
        {
          "output_type": "stream",
          "name": "stdout",
          "text": [
            "17.6 ms ± 5.03 ms per loop (mean ± std. dev. of 7 runs, 100 loops each)\n"
          ]
        }
      ]
    },
    {
      "cell_type": "markdown",
      "source": [
        "## Realizando a atividade proposta:"
      ],
      "metadata": {
        "id": "aLWIHzu4oMVh"
      },
      "id": "aLWIHzu4oMVh"
    },
    {
      "cell_type": "code",
      "source": [
        "# filtrando por ano -> a saída de cada função será a entrada da próxima\n",
        "def filtro_ano(item, opc) -> list[dict]:\n",
        "    try:\n",
        "        return [dado for dado in item if dado['work_year'] == opc]\n",
        "    except TypeError:\n",
        "        raise ValueError('Filtro de ano inválido.')\n",
        "    except Exception as e:\n",
        "        raise ValueError(f'Erro no filtro de ano: {e}')\n",
        "# |\n",
        "# v\n",
        "\n",
        "# filtra por nível de experiencia:\n",
        "def filtro_experiencia(item, opc) -> list[dict]:\n",
        "    try:\n",
        "        return [dado for dado in item if dado['experience_level'] == opc]\n",
        "    except TypeError:\n",
        "        raise ValueError('Filtro de ano inválido.')\n",
        "    except Exception as e:\n",
        "        raise ValueError(f'Erro no filtro de ano: {e}')\n",
        "\n",
        "# |\n",
        "# v\n",
        "\n",
        "# filtra por tipo de cargo\n",
        "def filtro_cargo(item, opc) -> list[dict]:\n",
        "    try:\n",
        "        return [dado for dado in item if dado['job_title'] == opc]\n",
        "    except TypeError:\n",
        "        raise ValueError('Filtro de ano inválido.')\n",
        "    except Exception as e:\n",
        "        raise ValueError(f'Erro no filtro de ano: {e}')\n",
        "\n",
        "# |\n",
        "# v\n",
        "\n",
        "# filtra por salário -> EM DÓLAR\n",
        "def filtro_salario(item, opc) -> list[dict]:\n",
        "    try:\n",
        "        return [dado for dado in item if dado['salary_in_usd'] == opc]\n",
        "    except TypeError:\n",
        "        raise ValueError('Filtro de ano inválido.')\n",
        "    except Exception as e:\n",
        "        raise ValueError(f'Erro no filtro de ano: {e}')\n",
        "\n",
        "# |\n",
        "# v\n",
        "\n",
        "# filtra por localização do funcionário\n",
        "def filtro_localizacoes_funcionario(item, opc) -> list[dict]:\n",
        "    try:\n",
        "        return [dado for dado in item if dado['employee_residence'] == opc]\n",
        "    except TypeError:\n",
        "        raise ValueError('Filtro de localização inválido .')\n",
        "    except Exception as e:\n",
        "        raise ValueError(f'Erro no filtro de localização funcionário: {e}')\n",
        "# |\n",
        "# v\n",
        "\n",
        "# filtra por localização da empresa\n",
        "def filtro_localizacoes_empresa(item, opc) -> list[dict]:\n",
        "    try:\n",
        "        return [dado for dado in item if dado['company_location'] == opc]\n",
        "    except TypeError:\n",
        "        raise ValueError('Filtro de localização Empresa inválido .')\n",
        "    except Exception as e:\n",
        "        raise ValueError(f'Erro no filtro localização Empresa: {e}')\n",
        "\n",
        "# |\n",
        "# v\n",
        "\n",
        "# filtra por tamanho da empresa\n",
        "def filtro_porte_empresa(item, opc) -> list[dict]:\n",
        "    try:\n",
        "        return [dado for dado in item if dado['company_size'] == opc]\n",
        "    except TypeError:\n",
        "        raise ValueError('Filtro de ano inválido.')\n",
        "    except Exception as e:\n",
        "        raise ValueError(f'Erro no filtro de ano: {e}')"
      ],
      "metadata": {
        "id": "UZRfPE_hFBC_"
      },
      "id": "UZRfPE_hFBC_",
      "execution_count": 49,
      "outputs": []
    },
    {
      "cell_type": "code",
      "source": [
        "def localizacoes(dados, chave = str):\n",
        "    # Retorna uma lista das localizações únicas dos funcionários, obtidas a partir da chave 'company_location' de cada funcionário\n",
        "    return list(set(funcionario.get(chave) for funcionario in dados if funcionario.get(chave)))"
      ],
      "metadata": {
        "id": "ikRlFknGgTnh"
      },
      "id": "ikRlFknGgTnh",
      "execution_count": 77,
      "outputs": []
    },
    {
      "cell_type": "code",
      "source": [
        "localizacao_funcionario = localizacoes(dados, 'employee_residence')\n",
        "localizacao_empresa = localizacoes(dados, 'company_location')"
      ],
      "metadata": {
        "id": "b2nTR95Wgrt-"
      },
      "id": "b2nTR95Wgrt-",
      "execution_count": 80,
      "outputs": []
    },
    {
      "cell_type": "code",
      "source": [
        "# Opções para o menu\n",
        "cargos = {\n",
        "    'Tech Lead': 'Data Science',\n",
        "    'Practitioner': 'Data Science',\n",
        "    'Engineer': 'Data Science',\n",
        "    'Director': 'Data Science',\n",
        "    'Consultant': 'Data Science',\n",
        "    'Manager': 'Data Science',\n",
        "    'Managing Director': 'Data Science',\n",
        "    'Director': 'Data Science',\n",
        "    'Lead': 'Data Science',\n",
        "    'Head': 'Data Science'\n",
        "}\n",
        "\n",
        "experiencias = {'SE': 'Senior', 'MI': 'Analista', 'EN': 'Junior', 'EX': 'Executivo'}\n",
        "tamanhos = {'S': 'Pequena', 'M': 'Media', 'L': 'Grande'}\n",
        "anos = ['2020', '2021', '2022', '2023']"
      ],
      "metadata": {
        "id": "2PzapnBOa44R"
      },
      "id": "2PzapnBOa44R",
      "execution_count": 108,
      "outputs": []
    },
    {
      "cell_type": "code",
      "source": [
        "def obter_ano(anos, msg='Anos') -> str:\n",
        "    while True:\n",
        "        try:\n",
        "            ano = input(f\"{msg} ({' | '.join(anos)}): \")\n",
        "            if ano in anos:\n",
        "                break\n",
        "            else:\n",
        "                raise ValueError('Entrada Inválida! Dado não está na lista.')\n",
        "        except ValueError as e:\n",
        "            print(f'Erro: {e}\\n')\n",
        "\n",
        "    return ano"
      ],
      "metadata": {
        "id": "6CebN8xGP3iQ"
      },
      "id": "6CebN8xGP3iQ",
      "execution_count": 51,
      "outputs": []
    },
    {
      "cell_type": "code",
      "source": [
        "def obter_localizacao_empresa(localizacoes_empresas, msg='Sedes das empresas') -> str:\n",
        "    while True:\n",
        "        try:\n",
        "            localizacao_empresa = input(f\"{msg} ({' | '.join(localizacoes_empresas)}): \").upper()\n",
        "\n",
        "            if localizacao_empresa in localizacoes_empresas:\n",
        "                break\n",
        "            else:\n",
        "                raise ValueError('Entrada Inválida! Dado não está na lista.')\n",
        "        except ValueError as e:\n",
        "            print(f'Erro: {e}\\n')\n",
        "\n",
        "    return localizacao_empresa"
      ],
      "metadata": {
        "id": "vGb58-5KhZ9P"
      },
      "id": "vGb58-5KhZ9P",
      "execution_count": 92,
      "outputs": []
    },
    {
      "cell_type": "code",
      "source": [
        "def obter_localizacao_funcionario(localizacoes_funcionarios, msg='Residências funcionários') -> str:\n",
        "    while True:\n",
        "        try:\n",
        "            local_funcionario = input(f\"{msg} ({' | '.join(localizacoes_funcionarios)}): \").upper()\n",
        "\n",
        "            if local_funcionario in localizacoes_funcionarios:\n",
        "                break\n",
        "            else:\n",
        "                raise ValueError('Entrada Inválida! Dado não está na lista.')\n",
        "        except ValueError as e:\n",
        "            print(f'Erro: {e}\\n')\n",
        "\n",
        "    return local_funcionario"
      ],
      "metadata": {
        "id": "FWizJkaBiHVQ"
      },
      "id": "FWizJkaBiHVQ",
      "execution_count": 93,
      "outputs": []
    },
    {
      "cell_type": "code",
      "source": [
        "x = obter_localizacao_funcionario(localizacao_funcionario)"
      ],
      "metadata": {
        "colab": {
          "base_uri": "https://localhost:8080/"
        },
        "id": "mbAhPSXDir4u",
        "outputId": "f4885134-9fd4-4092-9fa0-b6c2defedf87"
      },
      "id": "mbAhPSXDir4u",
      "execution_count": 91,
      "outputs": [
        {
          "name": "stdout",
          "output_type": "stream",
          "text": [
            "employee_residence (CR | AT | HN | IR | NG | GE | BA | ZA | IT | JE | PR | RS | SG | GB | IN | EC | EE | NZ | PL | TH | US | FI | NO | AR | BR | BE | MU | SA | SE | CA | BG | AU | MX | ES | LT | CF | PK | DZ | IL | MY | UA | RU | CN | SI | GH | PH | NL | AE | CY | AM | KE | UG | GR | HK | HU | IE | CO | KR | DK | LU | QA | IQ | LV | RO | DE | AD | CH | MD | ID | PE | JP | BO | KW | TR | FR | VN | UZ | MT | EG | HR | CL | DO | PT | CZ | AS | TN): tn\n"
          ]
        }
      ]
    },
    {
      "cell_type": "code",
      "source": [
        "def obter_experiencia(experiencias, msg='Experiencia') -> str:\n",
        "    while True:\n",
        "        try:\n",
        "            opcoes = ' | '.join(f\"{chave} - {valor}\" for chave, valor in experiencias.items())\n",
        "            experiencia = input(f\"{msg} ({opcoes}): \")\n",
        "            if experiencia in experiencias:\n",
        "                break\n",
        "            else:\n",
        "                raise ValueError('Entrada Inválida! Dado não está na lista.')\n",
        "        except ValueError as e:\n",
        "            print(f'Erro: {e}\\n')\n",
        "    return experiencia"
      ],
      "metadata": {
        "id": "bwWlwJV8TJuq"
      },
      "id": "bwWlwJV8TJuq",
      "execution_count": 40,
      "outputs": []
    },
    {
      "cell_type": "code",
      "source": [
        "def obter_porte_empresa(tamanhos, msg='Tamanho') -> str:\n",
        "    while True:\n",
        "        try:\n",
        "            opcoes = ' | '.join(f\"{chave} - {valor}\" for chave, valor in tamanhos.items())\n",
        "            tamanho = input(f\"{msg} ({opcoes}): \")\n",
        "            if tamanho in tamanhos:\n",
        "                break\n",
        "            else:\n",
        "                raise ValueError('Entrada Inválida! Dado não está na lista.')\n",
        "        except ValueError as e:\n",
        "            print(f'Erro: {e}\\n')\n",
        "    return tamanho"
      ],
      "metadata": {
        "id": "OD1-x7YhT0ZJ"
      },
      "id": "OD1-x7YhT0ZJ",
      "execution_count": 94,
      "outputs": []
    },
    {
      "cell_type": "code",
      "source": [
        "def obter_cargo(cargos, msg = 'Cargos de Data Science:'):\n",
        "  while True:\n",
        "    try:\n",
        "        msg = f\"{msg} ({' | '.join([f'{key}' for key, values in cargos.items()])}): \"\n",
        "        cargo = input(msg).title()\n",
        "\n",
        "        if cargo in cargos:\n",
        "            break\n",
        "        else:\n",
        "            raise ValueError('Filtro de cargo inválido.')\n",
        "\n",
        "    except ValueError as ve:\n",
        "        # Se ocorrer um ValueError, capture-o e lance novamente com uma mensagem personalizada.\n",
        "        raise ValueError(f'Erro no filtro de cargo: {ve}')\n",
        "  return cargo"
      ],
      "metadata": {
        "colab": {
          "base_uri": "https://localhost:8080/"
        },
        "id": "nkm2TULuanEr",
        "outputId": "9de8b2cc-1def-4060-8677-f1d9f7ceae97"
      },
      "id": "nkm2TULuanEr",
      "execution_count": 75,
      "outputs": [
        {
          "output_type": "stream",
          "name": "stdout",
          "text": [
            "Cargos de Data Science: (Tech Lead | Practitioner | Engineer | Director | Consultant | Manager | Managing Director | Lead | Head): Engineer\n",
            "Engineer\n"
          ]
        }
      ]
    },
    {
      "cell_type": "code",
      "source": [
        "def inserir_novo_dado(profissional: list[dict]) -> bool:\n",
        "    profissional.append({\n",
        "        'ano_de_trabalho': input('Qual o ano: \\n'),\n",
        "        'nivel_de_experiencia': input('Qual a experiência: \\n'),\n",
        "        'tipo_de_emprego': input('Qual o tipo: \\n'),\n",
        "        'cargo': input('Qual a profissão: \\n'),\n",
        "        'salario_em_usd': input('Qual o salário em dolar: \\n'),\n",
        "        'residencia_do_funcionario': input('Qual a residência : \\n'),\n",
        "        'localizacao_da_empresa': input('Qual a localização da empresa: \\n'),\n",
        "        'tamanho_da_empresa': input('Quantos funcionários: \\n'),\n",
        "        'id': len(dados) + 1\n",
        "    })\n",
        "    return True"
      ],
      "metadata": {
        "id": "_B0VUu3YU54G"
      },
      "id": "_B0VUu3YU54G",
      "execution_count": 45,
      "outputs": []
    },
    {
      "cell_type": "code",
      "source": [
        "def apagar_dado(dados: list[dict]):\n",
        "    id = int(input('Informe o id que deseja remover: '))\n",
        "    apagado = [registro for registro in dados if registro['id'] == id]\n",
        "    if len(apagado) == 0:\n",
        "        print('Não foi encontrado!')\n",
        "    else:\n",
        "        print(f'Excluídos {len(apagado)} registros!')\n",
        "    dados_novos = [dic for dic in dados if dic['id'] != id]\n",
        "    return dados_novos"
      ],
      "metadata": {
        "id": "sS28BGc1U8SG"
      },
      "id": "sS28BGc1U8SG",
      "execution_count": 48,
      "outputs": []
    },
    {
      "cell_type": "code",
      "source": [
        "def media_salario_ano(lista_personalizada, cargo: str) -> float:\n",
        "    try:\n",
        "        # Filtra os elementos da lista_personalizada com base na condição especificada pela função lambda\n",
        "        # Retorna True para os itens; o filter devolve um iterador com apenas os itens correspondentes ao cargo desejado\n",
        "        # Map aplica a função lambda em cada elemento da lista e transforma string em float\n",
        "        salario_do_cargo = list(map(lambda item: float(item['salary_in_usd']), filter(lambda item: item['job_title'] == cargo, lista_personalizada)))\n",
        "\n",
        "        if salario_do_cargo:\n",
        "            media_salarial = sum(salario_do_cargo) / len(salario_do_cargo)\n",
        "            return media_salarial\n",
        "        else:\n",
        "            raise ValueError('Nenhum salário encontrado para o cargo especificado.')\n",
        "    except (KeyError, ValueError, ZeroDivisionError) as e:\n",
        "        # Captura exceções específicas que podem ocorrer durante a execução da função\n",
        "        # KeyError: Tentativa de acessar uma chave que não existe no dicionário\n",
        "        # ValueError: Conversão de string para float falhou\n",
        "        # ZeroDivisionError: Tentativa de divisão por zero\n",
        "        raise ValueError(f'Erro ao calcular a média salarial: {e}')\n",
        "\n",
        "media_salario_ano(dados, 'Head of Data Science')"
      ],
      "metadata": {
        "id": "6mmdHRcTuTEO",
        "colab": {
          "base_uri": "https://localhost:8080/"
        },
        "outputId": "07a0457a-1d88-4093-84e0-cf6445d6c98e"
      },
      "id": "6mmdHRcTuTEO",
      "execution_count": 9,
      "outputs": [
        {
          "output_type": "execute_result",
          "data": {
            "text/plain": [
              "178387.25"
            ]
          },
          "metadata": {},
          "execution_count": 9
        }
      ]
    },
    {
      "cell_type": "code",
      "source": [
        "def menu(dados, msg='nome do programa', msg_2 = 'Insira um número'):\n",
        "    print(f'{msg}\\n')\n",
        "    while True:\n",
        "      opcoes = {'1': 'Verificar média salarial por cargo: ',\n",
        "                '2': 'Verificar salário máximo por cargo: ',\n",
        "                '3': 'Verificar salário mínimo por cargo: ',\n",
        "                '4': 'Inserir dados',\n",
        "                '5': 'Remover dados',\n",
        "                '6': 'Atualizar dados',\n",
        "                '0': 'Sair'}\n",
        "\n",
        "      msg = f\"{msg_2}({' | '.join([f'{key} - {values}' for key, values in opcoes.items()])}): \"\n",
        "      i = input(msg)\n",
        "\n",
        "\n",
        "      if i == '1' or i == '2' or i == '3':\n",
        "        ano = obter_ano(anos)\n",
        "        dados_finais = filtro_ano(dados, ano)\n",
        "\n",
        "        exp = obter_experiencia(experiencias, msg='Experiencia')\n",
        "        dados_finais = filtro_experiencia(dados_finais, exp)\n",
        "\n",
        "        cargo = obter_cargo(cargos)\n",
        "        dados_finais = filtro_cargo(dados_finais, cargo)\n",
        "\n",
        "        loc_func = obter_localizacao_funcionario(localizacao_funcionario)\n",
        "        dados_finais = filtro_localizacoes_funcionario(dados_finais, loc_func)\n",
        "\n",
        "        loc_emp = obter_localizacao_empresa(localizacao_empresa)\n",
        "        dados_finais = filtro_localizacoes_empresa(dados_finais, loc_emp)\n",
        "\n",
        "        porte = obter_porte_empresa(tamanhos, msg='Tamanho')\n",
        "        dados_finais = filtro_porte_empresa(dados_finais, porte)\n",
        "\n",
        "      elif i == '4':\n",
        "        inserir_novo_dado(dados)\n",
        "\n",
        "      elif i == '5':\n",
        "        apagar_dado(dados)\n",
        "\n",
        "      elif i == '6':\n",
        "        pass\n",
        "\n",
        "      elif i == '0':\n",
        "        break\n",
        "\n",
        "      else:\n",
        "        print('Digite uma opção válida')\n",
        "      return dados_finais"
      ],
      "metadata": {
        "id": "1HkQQ5j2GNZA"
      },
      "id": "1HkQQ5j2GNZA",
      "execution_count": 114,
      "outputs": []
    },
    {
      "cell_type": "code",
      "source": [
        "menu(dados)"
      ],
      "metadata": {
        "colab": {
          "base_uri": "https://localhost:8080/"
        },
        "id": "ZTC1Wr8VHyum",
        "outputId": "b6fe173f-d3fa-4e16-8821-2d60e744ca6b"
      },
      "id": "ZTC1Wr8VHyum",
      "execution_count": 115,
      "outputs": [
        {
          "name": "stdout",
          "output_type": "stream",
          "text": [
            "nome do programa\n",
            "\n",
            "Insira um número(1 - Verificar média salarial por cargo:  | 2 - Verificar salário máximo por cargo:  | 3 - Verificar salário mínimo por cargo:  | 4 - Inserir dados | 5 - Remover dados | 6 - Atualizar dados | 0 - Sair): 1\n",
            "Anos (2020 | 2021 | 2022 | 2023): 2023\n",
            "Experiencia (SE - Senior | MI - Analista | EN - Junior | EX - Executivo): EX\n",
            "Cargos de Data Science: (Tech Lead | Practitioner | Engineer | Director | Consultant | Manager | Managing Director | Lead | Head): Director\n",
            "Residências funcionários (CR | AT | HN | IR | NG | GE | BA | ZA | IT | JE | PR | RS | SG | GB | IN | EC | EE | NZ | PL | TH | US | FI | NO | AR | BR | BE | MU | SA | SE | CA | BG | AU | MX | ES | LT | CF | PK | DZ | IL | MY | UA | RU | CN | SI | GH | PH | NL | AE | CY | AM | KE | UG | GR | HK | HU | IE | CO | KR | DK | LU | QA | IQ | LV | RO | DE | AD | CH | MD | ID | PE | JP | BO | KW | TR | FR | VN | UZ | MT | EG | HR | CL | DO | PT | CZ | AS | TN): US\n",
            "Sedes das empresas (AT | RO | UA | HN | DE | FI | AD | IR | RU | CH | SI | NG | NO | BA | CN | GH | PH | IT | ZA | AR | ID | NL | MD | BR | BE | JP | AE | PR | MU | TR | FR | SA | SG | GB | AM | BS | MT | KE | SE | GR | HK | HU | EG | IN | CA | IE | HR | AU | MX | AS | ES | CO | LT | CL | KR | CF | PK | IL | DZ | EC | DK | PT | GI | EE | CZ | QA | LU | IQ | LV | PL | TH | MY | NZ | US): US\n",
            "Tamanho (S - Pequena | M - Media | L - Grande): M\n"
          ]
        },
        {
          "output_type": "execute_result",
          "data": {
            "text/plain": [
              "[]"
            ]
          },
          "metadata": {},
          "execution_count": 115
        }
      ]
    },
    {
      "cell_type": "code",
      "source": [
        "def menu():\n",
        "  pass\n",
        "  # obter ano que deseja ver os dados - Isadora OK\n",
        "  # obter nível de experiência que deseja saber -> Rafael OK\n",
        "  # obter cargo -> Ingrid\n",
        "  # obter localização do funcionário -> Eliane\n",
        "  # obter localização da empresa - Eliane\n",
        "  # obter tamanho da empresa -> Rafael\n",
        "\n",
        "  # inserir dados -> Pedro OK\n",
        "  # remover dados -> Pedro OK\n",
        "\n",
        "\n",
        "  # retornar média salarial, maior salário ou menor salário\n",
        "\n",
        "# obs: (maior salário, menor salário) -> deve ser obtido com uma função que retorna lista de tuplas"
      ],
      "metadata": {
        "id": "1Mbef3TYcYAR"
      },
      "id": "1Mbef3TYcYAR",
      "execution_count": null,
      "outputs": []
    },
    {
      "cell_type": "markdown",
      "source": [
        "--------------------------------------------------------------------------"
      ],
      "metadata": {
        "id": "k4PVC13frX1k"
      },
      "id": "k4PVC13frX1k"
    },
    {
      "cell_type": "code",
      "source": [
        "# Ex de uso se fosse considerar apenas um filtro\n",
        "def filtrar_dados(lista, filtro_funcao, opc=None):\n",
        "    return list(filter(lambda x: filtro_funcao(x, opc), lista))\n",
        "\n",
        "# por ano\n",
        "dados_filtrados_por_ano = filtrar_dados(dados, filtro_ano, '2023')\n",
        "print(\"Filtrados por ano:\", len(dados_filtrados_por_ano))\n",
        "\n",
        "# por tipo de trabalho\n",
        "dados_filtrados_por_tipo_trabalho = filtrar_dados(dados, filtro_tipo_trabalho, 'Data Scientist')\n",
        "print(\"Filtrados por tipo de trabalho:\", dados_filtrados_por_tipo_trabalho)"
      ],
      "metadata": {
        "id": "LhCkL9wjz8F-"
      },
      "id": "LhCkL9wjz8F-",
      "execution_count": null,
      "outputs": []
    },
    {
      "cell_type": "code",
      "source": [
        "# CRIEI APENAS PARA SABERMOS QUAIS PROFISSÕES COM DADOS USAR\n",
        "cargos_data_science = set()\n",
        "\n",
        "# Iterar sobre os dicionários e adicionar os valores de 'job_title' contendo \"Data Science\" ao conjunto\n",
        "for item in dados:\n",
        "    if 'job_title' in item and 'Data Science' in item['job_title']:\n",
        "        cargos_data_science.add(item['job_title'])\n",
        "\n",
        "print(\"Cargos contendo 'Data Science':\", cargos_data_science)"
      ],
      "metadata": {
        "colab": {
          "base_uri": "https://localhost:8080/"
        },
        "id": "jObFzdpVVyq2",
        "outputId": "9ba5f7c4-3d9b-4d01-ee5c-05c6bd663b27"
      },
      "id": "jObFzdpVVyq2",
      "execution_count": null,
      "outputs": [
        {
          "output_type": "stream",
          "name": "stdout",
          "text": [
            "Cargos contendo 'Data Science': {'Director of Data Science', 'Data Science Consultant', 'Data Science Tech Lead', 'Managing Director Data Science', 'Data Science Lead', 'Data Science Practitioner', 'Data Science Manager', 'Head of Data Science', 'Data Science Director', 'Data Science Engineer'}\n"
          ]
        }
      ]
    }
  ],
  "metadata": {
    "kernelspec": {
      "display_name": "Python 3 (ipykernel)",
      "language": "python",
      "name": "python3"
    },
    "language_info": {
      "codemirror_mode": {
        "name": "ipython",
        "version": 3
      },
      "file_extension": ".py",
      "mimetype": "text/x-python",
      "name": "python",
      "nbconvert_exporter": "python",
      "pygments_lexer": "ipython3",
      "version": "3.10.9"
    },
    "colab": {
      "provenance": []
    }
  },
  "nbformat": 4,
  "nbformat_minor": 5
}