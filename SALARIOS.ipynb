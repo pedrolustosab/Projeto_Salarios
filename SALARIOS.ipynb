{
 "cells": [
  {
   "cell_type": "code",
   "execution_count": 1,
   "metadata": {},
   "outputs": [],
   "source": [
    "import json\n",
    "from functools import reduce"
   ]
  },
  {
   "cell_type": "code",
   "execution_count": 2,
   "metadata": {},
   "outputs": [],
   "source": [
    "def carrega_dados(path:str = 'salarios.json') -> list[dict]:\n",
    "    try:\n",
    "        with open(path, 'r') as arquivo: # abre o arquivo especificado pelo caminho path no modo de leitura ('r')\n",
    "            dados = arquivo.read()\n",
    "            return json.loads(dados)\n",
    "    except FileNotFoundError: # ocorre quando o arquivo especificado em open() não é encontrado\n",
    "        return []\n",
    "    \n",
    "def salvar_dados(dados:list[dict], path:str = 'professores.json') -> bool:\n",
    "    try:\n",
    "        with open(path, 'w') as arquivo:\n",
    "            arquivo.write(json.dumps(dados))\n",
    "            return True\n",
    "    except Exception:\n",
    "        return False"
   ]
  },
  {
   "cell_type": "code",
   "execution_count": 25,
   "metadata": {},
   "outputs": [
    {
     "data": {
      "text/plain": [
       "{'ano_de_trabalho': '2023',\n",
       " 'nivel_de_experiencia': 'Executivo',\n",
       " 'cargo': 'Data Science Director',\n",
       " 'salario_em_usd': '212000',\n",
       " 'residencia_do_funcionario': 'US',\n",
       " 'localizacao_da_empresa': 'US',\n",
       " 'tamanho_da_empresa': 'M',\n",
       " 'id': 1}"
      ]
     },
     "execution_count": 25,
     "metadata": {},
     "output_type": "execute_result"
    }
   ],
   "source": [
    "dados = carrega_dados()\n",
    "dados[0]"
   ]
  },
  {
   "cell_type": "code",
   "execution_count": 26,
   "metadata": {},
   "outputs": [
    {
     "name": "stdout",
     "output_type": "stream",
     "text": [
      "{'id': 1}\n",
      "219\n"
     ]
    }
   ],
   "source": [
    "def remover_info(dados, *chaves) -> list[dict]:\n",
    "    return [{k: v for k, v in d.items() if k not in chaves} for d in dados]\n",
    "\n",
    "chaves_a_remover = ['ano_de_trabalho', 'nivel_de_experiencia', 'cargo','salario_em_usd', 'residencia_do_funcionario', 'localizacao_da_empresa', 'tamanho_da_empresa' ]  # Pode ser uma lista com várias chaves\n",
    "incremental = remover_info(dados, *chaves_a_remover)\n",
    "\n",
    "print(incremental[0])\n",
    "print(len(incremental))"
   ]
  },
  {
   "cell_type": "code",
   "execution_count": 74,
   "metadata": {},
   "outputs": [],
   "source": [
    "def inserir_dado(dados: list[dict], incremental: list[dict]) -> bool:\n",
    "    dados.append({\n",
    "        'ano_de_trabalho': input('Qual o ano: \\n'),\n",
    "        'nivel_de_experiencia': input('Qual a experiência: \\n'),\n",
    "        'cargo': input('Qual a profissão: \\n'),\n",
    "        'salario_em_usd': input('Qual o salário em dolar: \\n'),\n",
    "        'residencia_do_funcionario': input('Qual a residência : \\n'),\n",
    "        'localizacao_da_empresa': input('Qual a localização da empresa: \\n'),\n",
    "        'tamanho_da_empresa': input('Quantos funcionários: \\n'),\n",
    "        'id': len(incremental) + 1\n",
    "    })\n",
    "    incremental.append({'id': len(incremental) + 1})\n",
    "    return True"
   ]
  },
  {
   "cell_type": "code",
   "execution_count": 45,
   "metadata": {},
   "outputs": [
    {
     "data": {
      "text/plain": [
       "True"
      ]
     },
     "execution_count": 45,
     "metadata": {},
     "output_type": "execute_result"
    }
   ],
   "source": [
    "inserir_novo(dados, incremental)"
   ]
  },
  {
   "cell_type": "code",
   "execution_count": 85,
   "metadata": {},
   "outputs": [
    {
     "data": {
      "text/plain": [
       "{'id': 225}"
      ]
     },
     "execution_count": 85,
     "metadata": {},
     "output_type": "execute_result"
    }
   ],
   "source": [
    "incremental[-1]"
   ]
  },
  {
   "cell_type": "code",
   "execution_count": 87,
   "metadata": {},
   "outputs": [],
   "source": [
    "def apagar_dados(dados: list[dict]):\n",
    "    id = int(input('Qual id deseja apagar: \\n'))\n",
    "    apagado = [dado for dado in dados if dado['id'] == id]\n",
    "\n",
    "    if len(apagado) == 0:\n",
    "        print('Não foi encontrado!')\n",
    "        return False\n",
    "    else:\n",
    "        print(f'Excluídos {len(apagado)} registros!')\n",
    "\n",
    "    # Modificando a lista original\n",
    "    dados[:] = [dic for dic in dados if dic['id'] != id]\n",
    "    return True\n"
   ]
  },
  {
   "cell_type": "code",
   "execution_count": 88,
   "metadata": {},
   "outputs": [
    {
     "name": "stdout",
     "output_type": "stream",
     "text": [
      "Excluídos 1 registros!\n"
     ]
    },
    {
     "data": {
      "text/plain": [
       "True"
      ]
     },
     "execution_count": 88,
     "metadata": {},
     "output_type": "execute_result"
    }
   ],
   "source": [
    "apagar_dados(dados)"
   ]
  },
  {
   "cell_type": "code",
   "execution_count": 76,
   "metadata": {},
   "outputs": [
    {
     "data": {
      "text/plain": [
       "{'ano_de_trabalho': '2020',\n",
       " 'nivel_de_experiencia': 'a',\n",
       " 'cargo': 'a',\n",
       " 'salario_em_usd': 'a',\n",
       " 'residencia_do_funcionario': 'a',\n",
       " 'localizacao_da_empresa': 'a',\n",
       " 'tamanho_da_empresa': 'a',\n",
       " 'id': 225}"
      ]
     },
     "execution_count": 76,
     "metadata": {},
     "output_type": "execute_result"
    }
   ],
   "source": [
    "dados[-1]"
   ]
  },
  {
   "cell_type": "code",
   "execution_count": 57,
   "metadata": {},
   "outputs": [],
   "source": [
    "def valida_opcoes(valor: str, opcoes: list) -> bool:\n",
    "    # Verifica se o valor está presente na lista de opções.\n",
    "    return valor in opcoes"
   ]
  },
  {
   "cell_type": "code",
   "execution_count": 58,
   "metadata": {},
   "outputs": [],
   "source": [
    "def obter_opcoes(opcoes, msg='Opções'):\n",
    "    # Construindo a mensagem com as opções disponíveis\n",
    "    msg = f\"{msg} ({' | '.join([f'{key} - {value}' for key, value in opcoes.items()])}):\"\n",
    "\n",
    "    while True:\n",
    "        # Solicitando que o usuário insira uma opção\n",
    "        valor = input(msg).upper()\n",
    "\n",
    "        # Verificando se a opção inserida é válida usando a função valida_opcoes\n",
    "        if valida_opcoes(valor, opcoes.keys()):\n",
    "            break\n",
    "\n",
    "        # Se a opção não for válida, gerando uma mensagem de erro\n",
    "        msg = f'Entrada Inválida! As opções válidas são {\", \".join(opcoes.keys())}\\n' + msg\n",
    "\n",
    "    # Retornando a opção válida inserida pelo usuário\n",
    "    return valor"
   ]
  },
  {
   "cell_type": "code",
   "execution_count": 59,
   "metadata": {},
   "outputs": [],
   "source": [
    "def obter_valor(msg='', func=float):\n",
    "\n",
    "    while True:\n",
    "        valor = input(msg)\n",
    "        try:\n",
    "            # Tenta converter o valor usando a função especificada (por padrão, float).\n",
    "            return func(valor)\n",
    "        except ValueError:\n",
    "            # Se ocorrer um erro de conversão, gera uma mensagem de erro.\n",
    "            msg = f'Entrada Inválida! {msg}'"
   ]
  },
  {
   "cell_type": "code",
   "execution_count": 89,
   "metadata": {},
   "outputs": [],
   "source": [
    "def menu():\n",
    "    opcao_entrada = {'1': 'Inserir', '2': 'Apagar'}\n",
    "    item = int(obter_opcoes(opcao_entrada, 'Escolha a opcao'))\n",
    "    if item == 1:\n",
    "        inserir_novo(dados, incremental)\n",
    "    else:\n",
    "        apagar_dados(dados)\n",
    "    return True"
   ]
  },
  {
   "cell_type": "code",
   "execution_count": 90,
   "metadata": {},
   "outputs": [
    {
     "name": "stdout",
     "output_type": "stream",
     "text": [
      "Excluídos 1 registros!\n",
      "Excluídos 1 registros!\n"
     ]
    }
   ],
   "source": [
    "while True:\n",
    "    item = menu()\n",
    "    if obter_opcoes({'S': 'Sim', 'N': 'Não'}, 'Deseja Sair') == 'S':\n",
    "        break"
   ]
  }
 ],
 "metadata": {
  "kernelspec": {
   "display_name": "Python 3",
   "language": "python",
   "name": "python3"
  },
  "language_info": {
   "codemirror_mode": {
    "name": "ipython",
    "version": 3
   },
   "file_extension": ".py",
   "mimetype": "text/x-python",
   "name": "python",
   "nbconvert_exporter": "python",
   "pygments_lexer": "ipython3",
   "version": "3.10.9"
  }
 },
 "nbformat": 4,
 "nbformat_minor": 2
}
