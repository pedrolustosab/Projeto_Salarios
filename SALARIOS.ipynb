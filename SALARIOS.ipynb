{
 "cells": [
  {
   "cell_type": "code",
   "execution_count": 5,
   "metadata": {},
   "outputs": [],
   "source": [
    "import json\n",
    "from functools import reduce"
   ]
  },
  {
   "cell_type": "code",
   "execution_count": 6,
   "metadata": {},
   "outputs": [],
   "source": [
    "def carrega_dados(path:str = 'salarios.json') -> list[dict]:\n",
    "    try:\n",
    "        with open(path, 'r') as arquivo: # abre o arquivo especificado pelo caminho path no modo de leitura ('r')\n",
    "            dados = arquivo.read()\n",
    "            return json.loads(dados)\n",
    "    except FileNotFoundError: # ocorre quando o arquivo especificado em open() não é encontrado\n",
    "        return []\n",
    "    \n",
    "def salvar_dados(dados:list[dict], path:str = 'professores.json') -> bool:\n",
    "    try:\n",
    "        with open(path, 'w') as arquivo:\n",
    "            arquivo.write(json.dumps(dados))\n",
    "            return True\n",
    "    except Exception:\n",
    "        return False"
   ]
  },
  {
   "cell_type": "code",
   "execution_count": 7,
   "metadata": {},
   "outputs": [
    {
     "data": {
      "text/plain": [
       "{'ano_de_trabalho': '2023',\n",
       " 'nivel_de_experiencia': 'Executivo',\n",
       " 'cargo': 'Data Science Director',\n",
       " 'salario_em_usd': '212000',\n",
       " 'residencia_do_funcionario': 'US',\n",
       " 'localizacao_da_empresa': 'US',\n",
       " 'tamanho_da_empresa': 'M',\n",
       " 'id': 1}"
      ]
     },
     "execution_count": 7,
     "metadata": {},
     "output_type": "execute_result"
    }
   ],
   "source": [
    "dados = carrega_dados()\n",
    "dados[0]"
   ]
  },
  {
   "cell_type": "code",
   "execution_count": 8,
   "metadata": {},
   "outputs": [
    {
     "name": "stdout",
     "output_type": "stream",
     "text": [
      "{'id': 1}\n",
      "219\n"
     ]
    }
   ],
   "source": [
    "def remover_info(dados, *chaves) -> list[dict]:\n",
    "    return [{k: v for k, v in d.items() if k not in chaves} for d in dados]\n",
    "\n",
    "chaves_a_remover = ['ano_de_trabalho', 'nivel_de_experiencia', 'cargo','salario_em_usd', 'residencia_do_funcionario', 'localizacao_da_empresa', 'tamanho_da_empresa' ]  # Pode ser uma lista com várias chaves\n",
    "incremental = remover_info(dados, *chaves_a_remover)\n",
    "\n",
    "print(incremental[0])\n",
    "print(len(incremental))"
   ]
  },
  {
   "cell_type": "code",
   "execution_count": 9,
   "metadata": {},
   "outputs": [],
   "source": [
    "def inserir_dado(dados: list[dict], incremental: list[dict]) -> bool:\n",
    "    dados.append({\n",
    "        'ano_de_trabalho': input('Qual o ano: \\n'),\n",
    "        'nivel_de_experiencia': input('Qual a experiência: \\n'),\n",
    "        'cargo': input('Qual a profissão: \\n'),\n",
    "        'salario_em_usd': input('Qual o salário em dolar: \\n'),\n",
    "        'residencia_do_funcionario': input('Qual a residência : \\n'),\n",
    "        'localizacao_da_empresa': input('Qual a localização da empresa: \\n'),\n",
    "        'tamanho_da_empresa': input('Quantos funcionários: \\n'),\n",
    "        'id': len(incremental) + 1\n",
    "    })\n",
    "    incremental.append({'id': len(incremental) + 1})\n",
    "    return True"
   ]
  },
  {
   "cell_type": "code",
   "execution_count": 10,
   "metadata": {},
   "outputs": [
    {
     "data": {
      "text/plain": [
       "True"
      ]
     },
     "execution_count": 10,
     "metadata": {},
     "output_type": "execute_result"
    }
   ],
   "source": [
    "inserir_dado(dados, incremental)"
   ]
  },
  {
   "cell_type": "code",
   "execution_count": 11,
   "metadata": {},
   "outputs": [
    {
     "data": {
      "text/plain": [
       "{'id': 220}"
      ]
     },
     "execution_count": 11,
     "metadata": {},
     "output_type": "execute_result"
    }
   ],
   "source": [
    "incremental[-1]"
   ]
  },
  {
   "cell_type": "code",
   "execution_count": 76,
   "metadata": {},
   "outputs": [],
   "source": [
    "def atualizar_dado(dados):\n",
    "    id_atualizado = int(input(\"Insira o id que se deseja atualizar: \"))\n",
    "    for dado in dados:\n",
    "        if dado.get(\"id\") == id_atualizado:\n",
    "            print(\"Registro atual:\")\n",
    "            print(dado)\n",
    "\n",
    "            new_ano_de_trabalho = input(\"Entre com novo ano: \")\n",
    "            new_nivel_de_experiencia = input(\"Entre com novo nivel de experiencia: \")\n",
    "            new_cargo = input(\"Entre com novo cargo: \")\n",
    "            new_salario_em_usd = input(\"Entre com novo salário em dolar: \")\n",
    "            new_residencia_do_funcionario = input(\"Entre com a residência do funcionário: \")\n",
    "            new_localizacao_da_empresa = input(\"Entre com localização da empresa: \")\n",
    "            new_tamanho_da_empresa = input(\"Entre com tamanho da empresa: \")\n",
    "\n",
    "            # Update the dictionary with the new information\n",
    "            dado[\"ano_de_trabalho\"] = new_ano_de_trabalho\n",
    "            dado[\"nivel_de_experiencia\"] = new_nivel_de_experiencia\n",
    "            dado[\"cargo\"] = new_cargo\n",
    "            dado[\"salario_em_usd\"] = new_salario_em_usd\n",
    "            dado[\"residencia_do_funcionario\"] = new_residencia_do_funcionario\n",
    "            dado[\"localizacao_da_empresa\"] = new_localizacao_da_empresa\n",
    "            dado[\"tamanho_da_empresa\"] = new_tamanho_da_empresa\n",
    "\n",
    "            print(\"Dicionario atualizado com sucesso.\")\n",
    "        \n",
    "    return True\n"
   ]
  },
  {
   "cell_type": "code",
   "execution_count": 54,
   "metadata": {},
   "outputs": [],
   "source": [
    "def apagar_dado(dados: list[dict]):\n",
    "    id = int(input('Qual id deseja apagar: \\n'))\n",
    "    apagado = [dado for dado in dados if dado['id'] == id]\n",
    "\n",
    "    if len(apagado) == 0:\n",
    "        print('Não foi encontrado!')\n",
    "        return False\n",
    "    else:\n",
    "        print(f'Excluídos {len(apagado)} registros!')\n",
    "\n",
    "    # Modificando a lista original\n",
    "    dados[:] = [dic for dic in dados if dic['id'] != id]\n",
    "    return True\n"
   ]
  },
  {
   "cell_type": "code",
   "execution_count": 55,
   "metadata": {},
   "outputs": [
    {
     "name": "stdout",
     "output_type": "stream",
     "text": [
      "Não foi encontrado!\n"
     ]
    },
    {
     "data": {
      "text/plain": [
       "False"
      ]
     },
     "execution_count": 55,
     "metadata": {},
     "output_type": "execute_result"
    }
   ],
   "source": [
    "apagar_dado(dados)"
   ]
  },
  {
   "cell_type": "code",
   "execution_count": 15,
   "metadata": {},
   "outputs": [
    {
     "data": {
      "text/plain": [
       "{'ano_de_trabalho': '2021',\n",
       " 'nivel_de_experiencia': 'Senior',\n",
       " 'cargo': 'Data Science Manager',\n",
       " 'salario_em_usd': '94665',\n",
       " 'residencia_do_funcionario': 'IN',\n",
       " 'localizacao_da_empresa': 'IN',\n",
       " 'tamanho_da_empresa': 'L',\n",
       " 'id': 219}"
      ]
     },
     "execution_count": 15,
     "metadata": {},
     "output_type": "execute_result"
    }
   ],
   "source": [
    "dados[-1]"
   ]
  },
  {
   "cell_type": "code",
   "execution_count": 16,
   "metadata": {},
   "outputs": [],
   "source": [
    "def valida_opcoes(valor: str, opcoes: list) -> bool:\n",
    "    # Verifica se o valor está presente na lista de opções.\n",
    "    return valor in opcoes"
   ]
  },
  {
   "cell_type": "code",
   "execution_count": 65,
   "metadata": {},
   "outputs": [],
   "source": [
    "def obter_opcoes(opcoes, msg='Opções'):\n",
    "    # Construindo a mensagem com as opções disponíveis\n",
    "    msg = f\"{msg} ({' | '.join([f'{key} - {value}' for key, value in opcoes.items()])}):\"\n",
    "\n",
    "    while True:\n",
    "        # Solicitando que o usuário insira uma opção\n",
    "        valor = input(msg).upper()\n",
    "\n",
    "        # Verificando se a opção inserida é válida usando a função valida_opcoes\n",
    "        if valida_opcoes(valor, opcoes.keys()):\n",
    "            break\n",
    "\n",
    "        # Se a opção não for válida, gerando uma mensagem de erro\n",
    "        msg = f'Entrada Inválida! As opções válidas são {\", \".join(opcoes.keys())}\\n' + msg\n",
    "\n",
    "    # Retornando a opção válida inserida pelo usuário\n",
    "    return valor"
   ]
  },
  {
   "cell_type": "code",
   "execution_count": 19,
   "metadata": {},
   "outputs": [],
   "source": [
    "def obter_valor(msg='', func=float):\n",
    "\n",
    "    while True:\n",
    "        valor = input(msg)\n",
    "        try:\n",
    "            # Tenta converter o valor usando a função especificada (por padrão, float).\n",
    "            return func(valor)\n",
    "        except ValueError:\n",
    "            # Se ocorrer um erro de conversão, gera uma mensagem de erro.\n",
    "            msg = f'Entrada Inválida! {msg}'"
   ]
  },
  {
   "cell_type": "code",
   "execution_count": null,
   "metadata": {},
   "outputs": [],
   "source": []
  },
  {
   "cell_type": "code",
   "execution_count": 74,
   "metadata": {},
   "outputs": [],
   "source": [
    "def menu():\n",
    "    opcao_entrada = {'1': 'Inserir', '2': 'Remover', '3': 'Atualizar', '9': 'Sair'}\n",
    "    item = int(obter_opcoes(opcao_entrada, 'Escolha a opcao'))\n",
    "    if item == 1:\n",
    "        inserir_dado(dados, incremental)\n",
    "    elif item == 2:\n",
    "        apagar_dado(dados)\n",
    "    elif item == 3:\n",
    "        atualizar_dado(dados)\n",
    "    elif item == 9:\n",
    "        return False\n",
    "    return True"
   ]
  },
  {
   "cell_type": "code",
   "execution_count": 78,
   "metadata": {},
   "outputs": [
    {
     "name": "stdout",
     "output_type": "stream",
     "text": [
      "Registro atual:\n",
      "{'ano_de_trabalho': '2023', 'nivel_de_experiencia': 'Executivo', 'cargo': 'Data Science Director', 'salario_em_usd': '190000', 'residencia_do_funcionario': 'US', 'localizacao_da_empresa': 'US', 'tamanho_da_empresa': 'M', 'id': 2}\n",
      "Dicionario atualizado com sucesso.\n",
      "Id não encontrado.\n"
     ]
    }
   ],
   "source": [
    "while True:\n",
    "    item = menu()\n",
    "    if item == False:\n",
    "        break\n",
    "    if obter_opcoes({'S': 'Sim', 'N': 'Não'}, 'Deseja Sair') == 'S':\n",
    "        break"
   ]
  }
 ],
 "metadata": {
  "kernelspec": {
   "display_name": "Python 3",
   "language": "python",
   "name": "python3"
  },
  "language_info": {
   "codemirror_mode": {
    "name": "ipython",
    "version": 3
   },
   "file_extension": ".py",
   "mimetype": "text/x-python",
   "name": "python",
   "nbconvert_exporter": "python",
   "pygments_lexer": "ipython3",
   "version": "3.10.9"
  }
 },
 "nbformat": 4,
 "nbformat_minor": 2
}
