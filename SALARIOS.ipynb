{
 "cells": [
  {
   "cell_type": "code",
   "execution_count": 4,
   "metadata": {},
   "outputs": [],
   "source": [
    "def valida_opcoes(valor: str, opcoes: list) -> bool:\n",
    "    # Verifica se o valor está presente na lista de opções.\n",
    "    return valor in opcoes"
   ]
  },
  {
   "cell_type": "code",
   "execution_count": 5,
   "metadata": {},
   "outputs": [],
   "source": [
    "def obter_opcoes(opcoes, msg='Opções'):\n",
    "    # Construindo a mensagem com as opções disponíveis\n",
    "    msg = f\"{msg} ({' | '.join([f'{key} - {value}' for key, value in opcoes.items()])}):\"\n",
    "\n",
    "    while True:\n",
    "        # Solicitando que o usuário insira uma opção\n",
    "        valor = input(msg).upper()\n",
    "\n",
    "        # Verificando se a opção inserida é válida usando a função valida_opcoes\n",
    "        if valida_opcoes(valor, opcoes.keys()):\n",
    "            break\n",
    "\n",
    "        # Se a opção não for válida, gerando uma mensagem de erro\n",
    "        msg = f'Entrada Inválida! As opções válidas são {\", \".join(opcoes.keys())}\\n' + msg\n",
    "\n",
    "    # Retornando a opção válida inserida pelo usuário\n",
    "    return valor"
   ]
  },
  {
   "cell_type": "code",
   "execution_count": 6,
   "metadata": {},
   "outputs": [],
   "source": [
    "def obter_valor(msg='', func=float):\n",
    "\n",
    "    while True:\n",
    "        valor = input(msg)\n",
    "        try:\n",
    "            # Tenta converter o valor usando a função especificada (por padrão, float).\n",
    "            return func(valor)\n",
    "        except ValueError:\n",
    "            # Se ocorrer um erro de conversão, gera uma mensagem de erro.\n",
    "            msg = f'Entrada Inválida! {msg}'"
   ]
  },
  {
   "cell_type": "code",
   "execution_count": 9,
   "metadata": {},
   "outputs": [],
   "source": [
    "def menu():\n",
    "\n",
    "    # Dicionário de opções para escolher a escala de temperatura\n",
    "    opcoes = {'C': 'Celsius', 'F': 'Fahrenheit', 'K': 'Kelvin'}\n",
    "\n",
    "    # Solicitar ao usuário que escolha a escala de temperatura de entrada\n",
    "    escala_entrada = obter_opcoes(opcoes, 'Escolha a escala de entrada')\n",
    "\n",
    "    # Solicitar ao usuário que escolha a escala de temperatura de saída\n",
    "    escala_saida = obter_opcoes(opcoes, 'Escolha a escala de saída')\n",
    "\n",
    "    # Solicitar ao usuário que insira a temperatura\n",
    "    temperatura = obter_valor('Entre com a temperatura: ')\n",
    "\n",
    "    # Retornar as informações coletadas em uma tupla\n",
    "    return escala_entrada, escala_saida, temperatura"
   ]
  },
  {
   "cell_type": "code",
   "execution_count": 10,
   "metadata": {},
   "outputs": [
    {
     "ename": "NameError",
     "evalue": "name 'OPERACOES' is not defined",
     "output_type": "error",
     "traceback": [
      "\u001b[1;31m---------------------------------------------------------------------------\u001b[0m",
      "\u001b[1;31mNameError\u001b[0m                                 Traceback (most recent call last)",
      "\u001b[1;32mc:\\Users\\PedroLustosa\\Documents\\Projeto_Salarios\\SALARIOS.ipynb Cell 5\u001b[0m line \u001b[0;36m6\n\u001b[0;32m      <a href='vscode-notebook-cell:/c%3A/Users/PedroLustosa/Documents/Projeto_Salarios/SALARIOS.ipynb#W4sZmlsZQ%3D%3D?line=2'>3</a>\u001b[0m escala_entrada, escala_saida, temperatura \u001b[39m=\u001b[39m menu()\n\u001b[0;32m      <a href='vscode-notebook-cell:/c%3A/Users/PedroLustosa/Documents/Projeto_Salarios/SALARIOS.ipynb#W4sZmlsZQ%3D%3D?line=4'>5</a>\u001b[0m \u001b[39m# Realiza a conversão usando as funções do dicionário OPERACOES. A função MAP precisa de um interável e utilizou-se uma tupla devido sua imutabilidade\u001b[39;00m\n\u001b[1;32m----> <a href='vscode-notebook-cell:/c%3A/Users/PedroLustosa/Documents/Projeto_Salarios/SALARIOS.ipynb#W4sZmlsZQ%3D%3D?line=5'>6</a>\u001b[0m temperatura_saida, \u001b[39m=\u001b[39m \u001b[39mtuple\u001b[39m(\u001b[39mmap\u001b[39m(OPERACOES[escala_entrada][escala_saida], (temperatura,)))\n\u001b[0;32m      <a href='vscode-notebook-cell:/c%3A/Users/PedroLustosa/Documents/Projeto_Salarios/SALARIOS.ipynb#W4sZmlsZQ%3D%3D?line=7'>8</a>\u001b[0m \u001b[39m# Verifica se a temperatura de saída está abaixo do zero absoluto na escala de saída\u001b[39;00m\n\u001b[0;32m      <a href='vscode-notebook-cell:/c%3A/Users/PedroLustosa/Documents/Projeto_Salarios/SALARIOS.ipynb#W4sZmlsZQ%3D%3D?line=8'>9</a>\u001b[0m \u001b[39mif\u001b[39;00m verifica_zero_absoluto(temperatura_saida, escala_saida, OPERACOES):\n\u001b[0;32m     <a href='vscode-notebook-cell:/c%3A/Users/PedroLustosa/Documents/Projeto_Salarios/SALARIOS.ipynb#W4sZmlsZQ%3D%3D?line=9'>10</a>\u001b[0m     \u001b[39m# Se estiver acima do zero absoluto, exibe o resultado da conversão\u001b[39;00m\n",
      "\u001b[1;31mNameError\u001b[0m: name 'OPERACOES' is not defined"
     ]
    }
   ],
   "source": [
    "while True:\n",
    "    # Chama a função menu para obter as escalas de entrada, saída e a temperatura a ser convertida (empacotamento)\n",
    "    escala_entrada, escala_saida, temperatura = menu()\n",
    "\n",
    "    # Realiza a conversão usando as funções do dicionário OPERACOES. A função MAP precisa de um interável e utilizou-se uma tupla devido sua imutabilidade\n",
    "    temperatura_saida, = tuple(map(OPERACOES[escala_entrada][escala_saida], (temperatura,)))\n",
    "\n",
    "    # Verifica se a temperatura de saída está abaixo do zero absoluto na escala de saída\n",
    "    if verifica_zero_absoluto(temperatura_saida, escala_saida, OPERACOES):\n",
    "        # Se estiver acima do zero absoluto, exibe o resultado da conversão\n",
    "        print(f'Conversão {escala_entrada} -> {escala_saida}: {temperatura_saida}')\n",
    "    else:\n",
    "        # Caso contrário, informa que a temperatura está abaixo do zero absoluto\n",
    "        print('A temperatura informada está abaixo do zero absoluto!')\n",
    "\n",
    "    # Pergunta se o usuário deseja continuar ou sair do programa\n",
    "    if obter_opcoes({'S': 'Sim', 'N': 'Não'}, 'Deseja Sair') == 'S':\n",
    "        break"
   ]
  }
 ],
 "metadata": {
  "kernelspec": {
   "display_name": "Python 3",
   "language": "python",
   "name": "python3"
  },
  "language_info": {
   "codemirror_mode": {
    "name": "ipython",
    "version": 3
   },
   "file_extension": ".py",
   "mimetype": "text/x-python",
   "name": "python",
   "nbconvert_exporter": "python",
   "pygments_lexer": "ipython3",
   "version": "3.10.9"
  }
 },
 "nbformat": 4,
 "nbformat_minor": 2
}
