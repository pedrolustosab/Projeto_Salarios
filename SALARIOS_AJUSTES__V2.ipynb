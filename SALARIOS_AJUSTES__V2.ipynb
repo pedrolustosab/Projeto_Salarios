{
  "cells": [
    {
      "cell_type": "code",
      "execution_count": 1,
      "metadata": {
        "id": "SlnkxALXRDfw"
      },
      "outputs": [],
      "source": [
        "import json\n",
        "import csv\n",
        "from functools import reduce"
      ]
    },
    {
      "cell_type": "code",
      "execution_count": 2,
      "metadata": {
        "id": "5BRf_KslRDfz"
      },
      "outputs": [],
      "source": [
        "def carrega_dados(path:str = 'salarios.json') -> list[dict]:\n",
        "    try:\n",
        "        with open(path, 'r') as arquivo: # abre o arquivo especificado pelo caminho path no modo de leitura ('r')\n",
        "            dados = arquivo.read()\n",
        "            return json.loads(dados)\n",
        "    except FileNotFoundError: # ocorre quando o arquivo especificado em open() não é encontrado\n",
        "        return []\n",
        "\n",
        "def salvar_dados(dados:list[dict], path:str = 'salarios.json') -> bool:\n",
        "    try:\n",
        "        with open(path, 'w') as arquivo:\n",
        "            arquivo.write(json.dumps(dados))\n",
        "            return True\n",
        "    except Exception:\n",
        "        return False"
      ]
    },
    {
      "cell_type": "code",
      "execution_count": 3,
      "metadata": {
        "id": "lb3Xag0wRDf1"
      },
      "outputs": [],
      "source": [
        "dados = carrega_dados()"
      ]
    },
    {
      "cell_type": "code",
      "execution_count": 4,
      "metadata": {
        "colab": {
          "base_uri": "https://localhost:8080/"
        },
        "id": "__t7CFHmRDf2",
        "outputId": "4d80344d-4e98-4656-b32f-48067f505282"
      },
      "outputs": [
        {
          "output_type": "stream",
          "name": "stdout",
          "text": [
            "{'id': 1}\n",
            "219\n"
          ]
        }
      ],
      "source": [
        "def remover_info(dados, *chaves) -> list[dict]:\n",
        "    return [{k: v for k, v in d.items() if k not in chaves} for d in dados]\n",
        "\n",
        "chaves_a_remover = ['ano_de_trabalho', 'nivel_de_experiencia', 'cargo','salario_em_usd', 'residencia_do_funcionario', 'localizacao_da_empresa', 'tamanho_da_empresa' ]  # Pode ser uma lista com várias chaves\n",
        "incremental = remover_info(dados, *chaves_a_remover)\n",
        "\n",
        "print(incremental[0])\n",
        "print(len(incremental))"
      ]
    },
    {
      "cell_type": "code",
      "execution_count": 35,
      "metadata": {
        "id": "75d3SjO8RDf3"
      },
      "outputs": [],
      "source": [
        "def inserir_dado(dados: list[dict], incremental: list[dict]) -> bool:\n",
        "    try:\n",
        "        novo_registro = {\n",
        "            'ano_de_trabalho': input('\\nAno da informação: \\n'),\n",
        "            'nivel_de_experiencia': input('Qual a experiência: \\n'),\n",
        "            'cargo': input('Qual a profissão: \\n'),\n",
        "            'salario_em_usd': input('Qual o salário em dolar: \\n'),\n",
        "            'residencia_do_funcionario': input('Qual a residência : \\n'),\n",
        "            'localizacao_da_empresa': input('Qual a localização da empresa: \\n'),\n",
        "            'tamanho_da_empresa': input('Quantos funcionários: \\n'),\n",
        "            'id': len(incremental) + 1\n",
        "        }\n",
        "\n",
        "        dados.append(novo_registro)\n",
        "        incremental.append({'id': len(incremental) + 1})\n",
        "\n",
        "        print(\"Registro inserido com sucesso.\")\n",
        "        return True\n",
        "    except Exception as e:\n",
        "        print(f\"Ocorreu um erro ao inserir o registro: {e}\")\n",
        "        return False"
      ]
    },
    {
      "cell_type": "code",
      "execution_count": 44,
      "metadata": {
        "id": "3ojcPhoZRDf4"
      },
      "outputs": [],
      "source": [
        "def atualizar_dado(dados):\n",
        "    while True:\n",
        "        try:\n",
        "            id_atualizado = int(input(\"Insira o ID que se deseja atualizar (ou digite 9 para voltar ao menu): \"))\n",
        "        except ValueError:\n",
        "            print(\"Por favor, insira um ID válido (número inteiro).\")\n",
        "            continue\n",
        "\n",
        "        if id_atualizado == 9:\n",
        "            print(\"Voltando para o menu principal.\")\n",
        "            return False\n",
        "\n",
        "        encontrado = False\n",
        "        for dado in dados:\n",
        "            if dado.get(\"id\") == id_atualizado:\n",
        "                print(\"Registro atual:\")\n",
        "                print(dado)\n",
        "\n",
        "                try:\n",
        "                    new_ano_de_trabalho = input(\"Entre com novo ano: \")\n",
        "                    new_nivel_de_experiencia = input(\"Entre com novo nivel de experiencia: \")\n",
        "                    new_cargo = input(\"Entre com novo cargo: \")\n",
        "                    new_salario_em_usd = input(\"Entre com novo salário em dolar: \")\n",
        "                    new_residencia_do_funcionario = input(\"Entre com a residência do funcionário: \")\n",
        "                    new_localizacao_da_empresa = input(\"Entre com localização da empresa: \")\n",
        "                    new_tamanho_da_empresa = input(\"Entre com tamanho da empresa: \")\n",
        "                except Exception as e:\n",
        "                    print(f\"Erro ao obter novos dados: {e}\")\n",
        "                    return False\n",
        "\n",
        "                # Atualizando o dict\n",
        "                dado[\"ano_de_trabalho\"] = new_ano_de_trabalho\n",
        "                dado[\"nivel_de_experiencia\"] = new_nivel_de_experiencia\n",
        "                dado[\"cargo\"] = new_cargo\n",
        "                dado[\"salario_em_usd\"] = new_salario_em_usd\n",
        "                dado[\"residencia_do_funcionario\"] = new_residencia_do_funcionario\n",
        "                dado[\"localizacao_da_empresa\"] = new_localizacao_da_empresa\n",
        "                dado[\"tamanho_da_empresa\"] = new_tamanho_da_empresa\n",
        "\n",
        "                print(\"Dicionário atualizado com sucesso.\")\n",
        "                encontrado = True\n",
        "                break\n",
        "\n",
        "        if not encontrado:\n",
        "            print(f\"Nenhum registro encontrado com o ID {id_atualizado}. Tente novamente.\")"
      ]
    },
    {
      "cell_type": "code",
      "execution_count": 30,
      "metadata": {
        "id": "h6VEf8ueRDf5"
      },
      "outputs": [],
      "source": [
        "def apagar_dado(dados):\n",
        "    while True:\n",
        "        try:\n",
        "            id_para_apagar = int(input(\"Qual ID deseja apagar (ou digite 9 para voltar ao menu): \"))\n",
        "        except ValueError:\n",
        "            print(\"Por favor, insira um ID válido (número inteiro).\")\n",
        "            continue\n",
        "\n",
        "        if id_para_apagar == 9:\n",
        "            print(\"Voltando para o menu principal.\")\n",
        "            return False\n",
        "\n",
        "        apagado = [dado for dado in dados if dado['id'] == id_para_apagar]\n",
        "\n",
        "        if len(apagado) == 0:\n",
        "            print('Não foi encontrado nenhum registro com o ID informado. Tente novamente.')\n",
        "        else:\n",
        "            print(f'Excluídos {len(apagado)} registros!')\n",
        "\n",
        "            # Modificando a lista original\n",
        "            dados[:] = [dic for dic in dados if dic['id'] != id_para_apagar]\n",
        "\n",
        "            return True"
      ]
    },
    {
      "cell_type": "code",
      "execution_count": 8,
      "metadata": {
        "id": "Wpx0bK1URDf5"
      },
      "outputs": [],
      "source": [
        "def valida_opcoes(valor: str, opcoes: list) -> bool:\n",
        "    # Verifica se o valor está presente na lista de opções.\n",
        "    return valor in opcoes"
      ]
    },
    {
      "cell_type": "code",
      "execution_count": 22,
      "metadata": {
        "id": "AEvrI4qXRDf6"
      },
      "outputs": [],
      "source": [
        "def obter_opcoes(opcoes, msg='Opções'):\n",
        "    # Construindo a mensagem com as opções disponíveis\n",
        "    msg = f\"\\n{msg} ({' | '.join([f'{key} - {value}' for key, value in opcoes.items()])}):\"\n",
        "\n",
        "    while True:\n",
        "        # Solicitando que o usuário insira uma opção\n",
        "        valor = input(msg).upper()\n",
        "\n",
        "        # Verificando se a opção inserida é válida usando a função valida_opcoes\n",
        "        if valida_opcoes(valor, opcoes.keys()):\n",
        "            break\n",
        "\n",
        "        # Se a opção não for válida, gerando uma mensagem de erro\n",
        "        msg = f'Entrada Inválida! As opções válidas são {\", \".join(opcoes.keys())}\\n' + msg\n",
        "\n",
        "    # Retornando a opção válida inserida pelo usuário\n",
        "    return valor"
      ]
    },
    {
      "cell_type": "code",
      "execution_count": 20,
      "metadata": {
        "id": "Jcqq6cpORDf7"
      },
      "outputs": [],
      "source": [
        "def obter_ano_de_trabalho(dados, msg='Anos') -> str:\n",
        "    anos = sorted(list(set(dado['ano_de_trabalho'] for dado in dados)))\n",
        "    while True:\n",
        "        try:\n",
        "            ano = input(f\"{msg} ({' | '.join(anos)}): \")\n",
        "            if ano in anos:\n",
        "                break\n",
        "            else:\n",
        "                raise ValueError('Entrada Inválida! Dado não está na lista.')\n",
        "        except ValueError as e:\n",
        "            print(f'Erro: {e}\\n')\n",
        "    return ano\n",
        "\n",
        "def obter_nivel_de_experiencia(dados, msg='Experiencias') -> str:\n",
        "    experiencias = sorted(list(set(dado['nivel_de_experiencia'] for dado in dados)))\n",
        "    while True:\n",
        "        try:\n",
        "            experiencia = input(f\"{msg} ({' | '.join(experiencias)}): \").title()\n",
        "            if experiencia in experiencias:\n",
        "                break\n",
        "            else:\n",
        "                raise ValueError('Entrada Inválida! Dado não está na lista.')\n",
        "        except ValueError as e:\n",
        "            print(f'Erro: {e}\\n')\n",
        "    return experiencia\n",
        "\n",
        "def obter_cargo(dados, msg='Cargo') -> str:\n",
        "    cargos = sorted(list(set(dado['cargo'] for dado in dados)))\n",
        "    while True:\n",
        "        try:\n",
        "            cargo = input(f\"{msg} ({' | '.join(cargos)}): \")\n",
        "            if cargo in cargos:\n",
        "                break\n",
        "            else:\n",
        "                raise ValueError('Entrada Inválida! Dado não está na lista.')\n",
        "        except ValueError as e:\n",
        "            print(f'Erro: {e}\\n')\n",
        "    return cargo\n",
        "\n",
        "def obter_residencia_do_funcionario(dados, msg='Residencia do Funcionario') -> str:\n",
        "    funcionarios = sorted(list(set(dado['residencia_do_funcionario'] for dado in dados)))\n",
        "    while True:\n",
        "        try:\n",
        "            funcionario = input(f\"{msg} ({' | '.join(funcionarios)}): \").upper()\n",
        "            if funcionario in funcionarios:\n",
        "                break\n",
        "            else:\n",
        "                raise ValueError('Entrada Inválida! Dado não está na lista.')\n",
        "        except ValueError as e:\n",
        "            print(f'Erro: {e}\\n')\n",
        "    return funcionario\n",
        "\n",
        "def obter_localizacao_da_empresa(dados, msg='Localizacao da Empresa') -> str:\n",
        "    empresas = sorted(list(set(dado['localizacao_da_empresa'] for dado in dados)))\n",
        "    while True:\n",
        "        try:\n",
        "            empresa = input(f\"{msg} ({' | '.join(empresas)}): \").upper()\n",
        "            if empresa in empresas:\n",
        "                break\n",
        "            else:\n",
        "                raise ValueError('Entrada Inválida! Dado não está na lista.')\n",
        "        except ValueError as e:\n",
        "            print(f'Erro: {e}\\n')\n",
        "    return empresa\n",
        "\n",
        "def obter_tamanho_da_empresa(dados, msg='tamanho_da_empresa') -> str:\n",
        "    tamanhos = sorted(list(set(dado['tamanho_da_empresa'] for dado in dados)))\n",
        "    while True:\n",
        "        try:\n",
        "            tamanho = input(f\"{msg} ({' | '.join(tamanhos)}): \").upper()\n",
        "            if tamanho in tamanhos:\n",
        "                break\n",
        "            else:\n",
        "                raise ValueError('Entrada Inválida! Dado não está na lista.')\n",
        "        except ValueError as e:\n",
        "            print(f'Erro: {e}\\n')\n",
        "    return tamanho"
      ]
    },
    {
      "cell_type": "code",
      "execution_count": 11,
      "metadata": {
        "id": "kZLUz0mvRDf8"
      },
      "outputs": [],
      "source": [
        "# filtrando por ano -> a saída de cada função será a entrada da próxima\n",
        "def filtro_ano_de_trabalho(item, opc) -> list[dict]:\n",
        "    try:\n",
        "        return [dado for dado in item if dado['ano_de_trabalho'] == opc]\n",
        "    except TypeError:\n",
        "        raise ValueError('Filtro de ano inválido.')\n",
        "    except Exception as e:\n",
        "        raise ValueError(f'Erro no filtro de ano: {e}')\n",
        "# |\n",
        "# v\n",
        "\n",
        "# filtra por nível de experiencia:\n",
        "def filtro_nivel_de_experiencia(item, opc) -> list[dict]:\n",
        "    try:\n",
        "        return [dado for dado in item if dado['nivel_de_experiencia'] == opc]\n",
        "    except TypeError:\n",
        "        raise ValueError('Filtro de ano inválido.')\n",
        "    except Exception as e:\n",
        "        raise ValueError(f'Erro no filtro de ano: {e}')\n",
        "\n",
        "# |\n",
        "# v\n",
        "\n",
        "# filtra por tipo de cargo\n",
        "def filtro_cargo(item, opc) -> list[dict]:\n",
        "    try:\n",
        "        return [dado for dado in item if dado['cargo'] == opc]\n",
        "    except TypeError:\n",
        "        raise ValueError('Filtro de ano inválido.')\n",
        "    except Exception as e:\n",
        "        raise ValueError(f'Erro no filtro de ano: {e}')\n",
        "\n",
        "# |\n",
        "# v\n",
        "\n",
        "# filtra por localização do funcionário\n",
        "def filtro_residencia_do_funcionario(item, opc) -> list[dict]:\n",
        "    try:\n",
        "        return [dado for dado in item if dado['residencia_do_funcionario'] == opc]\n",
        "    except TypeError:\n",
        "        raise ValueError('Filtro de localização inválido .')\n",
        "    except Exception as e:\n",
        "        raise ValueError(f'Erro no filtro de localização funcionário: {e}')\n",
        "# |\n",
        "# v\n",
        "\n",
        "# filtra por localização da empresa\n",
        "def filtro_localizacao_da_empresa(item, opc) -> list[dict]:\n",
        "    try:\n",
        "        return [dado for dado in item if dado['localizacao_da_empresa'] == opc]\n",
        "    except TypeError:\n",
        "        raise ValueError('Filtro de localização Empresa inválido .')\n",
        "    except Exception as e:\n",
        "        raise ValueError(f'Erro no filtro localização Empresa: {e}')\n",
        "\n",
        "# |\n",
        "# v\n",
        "\n",
        "# filtra por tamanho da empresa\n",
        "def filtro_tamanho_da_empresa(item, opc) -> list[dict]:\n",
        "    try:\n",
        "        return [dado for dado in item if dado['tamanho_da_empresa'] == opc]\n",
        "    except TypeError:\n",
        "        raise ValueError('Filtro de ano inválido.')\n",
        "    except Exception as e:\n",
        "        raise ValueError(f'Erro no filtro de ano: {e}')"
      ]
    },
    {
      "cell_type": "code",
      "source": [
        "def visualizar_dados(dados):\n",
        "    if not dados:\n",
        "        print(\"Não há dados para visualizar.\")\n",
        "        return\n",
        "\n",
        "    for registro in dados:\n",
        "        print(\"ID:\", registro[\"id\"])\n",
        "        print(\"Ano de Trabalho:\", registro[\"ano_de_trabalho\"])\n",
        "        print(\"Nível de Experiência:\", registro[\"nivel_de_experiencia\"])\n",
        "        print(\"Cargo:\", registro[\"cargo\"])\n",
        "        print(\"Salário em USD:\", registro[\"salario_em_usd\"])\n",
        "        print(\"Residência do Funcionário:\", registro[\"residencia_do_funcionario\"])\n",
        "        print(\"Localização da Empresa:\", registro[\"localizacao_da_empresa\"])\n",
        "        print(\"Tamanho da Empresa:\", registro[\"tamanho_da_empresa\"])\n",
        "        print(\"-\" * 30)"
      ],
      "metadata": {
        "id": "p9r80rt4xBDK"
      },
      "execution_count": 32,
      "outputs": []
    },
    {
      "cell_type": "code",
      "execution_count": 12,
      "metadata": {
        "id": "5luPqacQRDf9"
      },
      "outputs": [],
      "source": [
        "def salvar_dados_csv(dados:list[dict], path:str = 'salirios_novos.json') -> bool:\n",
        "    try:\n",
        "        with open(path, 'w') as arquivo:\n",
        "            arquivo.write(json.dumps(dados))\n",
        "            return True\n",
        "    except Exception:\n",
        "        return False"
      ]
    },
    {
      "cell_type": "code",
      "execution_count": 13,
      "metadata": {
        "id": "a9m3FEldRDf9"
      },
      "outputs": [],
      "source": [
        "def salvar_csv(filtros, estatisticas):\n",
        "    header = [['Filtros Aplicados', 'Máximo', 'Mínimo', 'Média']]\n",
        "    data =   [[', '.join(filtros), estatisticas[0], estatisticas[1], estatisticas[2]]]\n",
        "    with open('estatisticas.csv', 'w', newline='', encoding='utf-8') as arquivo:\n",
        "        escritor = csv.writer(arquivo, delimiter=';', lineterminator='\\n')\n",
        "        escritor.writerows(header+data)"
      ]
    },
    {
      "cell_type": "code",
      "execution_count": 43,
      "metadata": {
        "id": "tlTlFAPWRDf-"
      },
      "outputs": [],
      "source": [
        "def menu():\n",
        "    opcao_entrada = {'1': 'Inserir', '2': 'Remover', '3': 'Atualizar', '4': 'Estatística', '9': 'Sair'}\n",
        "    item = int(obter_opcoes(opcao_entrada, 'Escolha a opcao'))\n",
        "\n",
        "    if item == 1:\n",
        "        inserir_dado(dados, incremental)\n",
        "        salvar_dados(dados, 'salarios.json')\n",
        "\n",
        "    elif item == 2:\n",
        "        visualizar_dados(dados)\n",
        "        apagar_dado(dados)\n",
        "        salvar_dados(dados, 'salarios.json')\n",
        "\n",
        "    elif item == 3:\n",
        "        visualizar_dados(dados)\n",
        "        atualizar_dado(dados)\n",
        "        salvar_dados(dados, 'salarios.json')\n",
        "\n",
        "    elif item == 4:\n",
        "\n",
        "        ano_de_trabalho = obter_ano_de_trabalho(dados)\n",
        "        dados_finais = filtro_ano_de_trabalho(dados, ano_de_trabalho)\n",
        "        contagem = len(dados_finais)\n",
        "        print(f'Número de registros do ano {ano_de_trabalho}: {contagem}')\n",
        "\n",
        "        nivel_de_experiencia = obter_nivel_de_experiencia(dados_finais)\n",
        "        dados_finais = filtro_nivel_de_experiencia(dados_finais, nivel_de_experiencia)\n",
        "        contagem = len(dados_finais)\n",
        "        print(f'Número de registros desse nível de experiência: {contagem}')\n",
        "\n",
        "        cargo = obter_cargo(dados_finais)\n",
        "        dados_finais = filtro_cargo(dados_finais, cargo)\n",
        "        contagem = len(dados_finais)\n",
        "        print(f'Número de registros desse cargo: {contagem}')\n",
        "\n",
        "        residencia_do_funcionario =obter_residencia_do_funcionario(dados_finais)\n",
        "        dados_finais = filtro_residencia_do_funcionario(dados_finais, residencia_do_funcionario)\n",
        "        contagem = len(dados_finais)\n",
        "        print(f'Número de registros de funcionários que moram nesse local: {contagem}')\n",
        "\n",
        "        localizacao_da_empresa =obter_localizacao_da_empresa(dados_finais)\n",
        "        dados_finais = filtro_localizacao_da_empresa(dados_finais, localizacao_da_empresa)\n",
        "        contagem = len(dados_finais)\n",
        "        print(f'Número de empresas sediadas nesse local: {contagem}')\n",
        "\n",
        "        tamanho_da_empresa = obter_tamanho_da_empresa(dados_finais)\n",
        "        dados_finais = filtro_tamanho_da_empresa(dados_finais, tamanho_da_empresa)\n",
        "        contagem = len(dados_finais)\n",
        "        print(f'Número de registros de empresas desse porte: {contagem}')\n",
        "\n",
        "        salarios = [float(x['salario_em_usd']) for x in dados_finais]\n",
        "        maximo = max(salarios)\n",
        "        minimo = min(salarios)\n",
        "        media = sum(salarios)/len(salarios)\n",
        "\n",
        "        filtros = [ano_de_trabalho, nivel_de_experiencia, cargo, residencia_do_funcionario, localizacao_da_empresa, tamanho_da_empresa]\n",
        "        estatisticas = [maximo, minimo, media]\n",
        "\n",
        "        salvar_csv(filtros, estatisticas)\n",
        "        print(f'A média salarial é {media:.2f}')\n",
        "\n",
        "    elif item == 9:\n",
        "        return False\n",
        "    return True"
      ]
    },
    {
      "cell_type": "code",
      "execution_count": null,
      "metadata": {
        "id": "vWq_gam0RDf_"
      },
      "outputs": [],
      "source": [
        "while True:\n",
        "    item = menu()\n",
        "    salvar_dados(dados) #Salvandos os dados modificados\n",
        "    if item == False:\n",
        "        break\n",
        "    if obter_opcoes({'S': 'Sim', 'N': 'Não'}, 'Deseja Sair') == 'S':\n",
        "        break"
      ]
    },
    {
      "cell_type": "code",
      "source": [
        "def printar_csv(nome_arquivo):\n",
        "    try:\n",
        "        with open(nome_arquivo, 'r', newline='', encoding='utf-8') as arquivo:\n",
        "            leitor = csv.reader(arquivo, delimiter=';')\n",
        "            for linha in leitor:\n",
        "                print(linha)\n",
        "    except FileNotFoundError:\n",
        "        print(f'O arquivo {nome_arquivo} não foi encontrado.')\n",
        "    except Exception as e:\n",
        "        print(f'Erro ao abrir o arquivo: {e}')\n",
        "\n",
        "# Chamada da função para imprimir o conteúdo do arquivo CSV\n",
        "printar_csv('estatisticas.csv')"
      ],
      "metadata": {
        "colab": {
          "base_uri": "https://localhost:8080/"
        },
        "id": "3hSSBnlQX9VJ",
        "outputId": "2f60d3f3-faea-477a-ad6f-f062e3b48b0c"
      },
      "execution_count": 16,
      "outputs": [
        {
          "output_type": "stream",
          "name": "stdout",
          "text": [
            "['Filtros Aplicados', 'Máximo', 'Mínimo', 'Média']\n",
            "['2023, Junior, Data Science Engineer, CH, CH, S', '104024.0', '104024.0', '104024.0']\n"
          ]
        }
      ]
    }
  ],
  "metadata": {
    "kernelspec": {
      "display_name": "Python 3",
      "language": "python",
      "name": "python3"
    },
    "language_info": {
      "codemirror_mode": {
        "name": "ipython",
        "version": 3
      },
      "file_extension": ".py",
      "mimetype": "text/x-python",
      "name": "python",
      "nbconvert_exporter": "python",
      "pygments_lexer": "ipython3",
      "version": "3.10.9"
    },
    "colab": {
      "provenance": []
    }
  },
  "nbformat": 4,
  "nbformat_minor": 0
}