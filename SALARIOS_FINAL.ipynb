{
  "cells": [
    {
      "cell_type": "code",
      "execution_count": 1,
      "metadata": {
        "id": "SlnkxALXRDfw"
      },
      "outputs": [],
      "source": [
        "import json\n",
        "import csv\n",
        "from functools import reduce"
      ]
    },
    {
      "cell_type": "code",
      "execution_count": 2,
      "metadata": {
        "id": "5BRf_KslRDfz"
      },
      "outputs": [],
      "source": [
        "def carrega_dados(path:str = 'salarios.json') -> list[dict]:\n",
        "    try:\n",
        "        with open(path, 'r') as arquivo: # abre o arquivo especificado pelo caminho path no modo de leitura ('r')\n",
        "            dados = arquivo.read()\n",
        "            return json.loads(dados)\n",
        "    except FileNotFoundError: # ocorre quando o arquivo especificado em open() não é encontrado\n",
        "        return []\n",
        "\n",
        "def salvar_dados(dados:list[dict], path:str = 'salarios.json') -> bool:\n",
        "    try:\n",
        "        with open(path, 'w') as arquivo:\n",
        "            arquivo.write(json.dumps(dados))\n",
        "            return True\n",
        "    except Exception:\n",
        "        return False"
      ]
    },
    {
      "cell_type": "code",
      "execution_count": 3,
      "metadata": {
        "id": "lb3Xag0wRDf1"
      },
      "outputs": [],
      "source": [
        "dados = carrega_dados()"
      ]
    },
    {
      "cell_type": "code",
      "execution_count": 4,
      "metadata": {
        "colab": {
          "base_uri": "https://localhost:8080/"
        },
        "id": "__t7CFHmRDf2",
        "outputId": "11d8672b-f96f-4ea7-c1bd-fc68ffd38ed2"
      },
      "outputs": [
        {
          "output_type": "stream",
          "name": "stdout",
          "text": [
            "[{'ano_de_trabalho': '2023', 'nivel_de_experiencia': 'Executivo', 'cargo': 'Diretor', 'salario_em_usd': '212000', 'residencia_do_funcionario': 'US', 'localizacao_da_empresa': 'US', 'tamanho_da_empresa': 'M', 'id': 1}, {'ano_de_trabalho': '2023', 'nivel_de_experiencia': 'Executivo', 'cargo': 'Diretor', 'salario_em_usd': '190000', 'residencia_do_funcionario': 'US', 'localizacao_da_empresa': 'US', 'tamanho_da_empresa': 'M', 'id': 2}, {'ano_de_trabalho': '2023', 'nivel_de_experiencia': 'Senior', 'cargo': 'Praticante', 'salario_em_usd': '170200', 'residencia_do_funcionario': 'US', 'localizacao_da_empresa': 'US', 'tamanho_da_empresa': 'M', 'id': 3}, {'ano_de_trabalho': '2023', 'nivel_de_experiencia': 'Senior', 'cargo': 'Praticante', 'salario_em_usd': '83900', 'residencia_do_funcionario': 'US', 'localizacao_da_empresa': 'US', 'tamanho_da_empresa': 'M', 'id': 4}, {'ano_de_trabalho': '2023', 'nivel_de_experiencia': 'Senior', 'cargo': 'Consultor', 'salario_em_usd': '116000', 'residencia_do_funcionario': 'US', 'localizacao_da_empresa': 'US', 'tamanho_da_empresa': 'M', 'id': 5}, {'ano_de_trabalho': '2023', 'nivel_de_experiencia': 'Senior', 'cargo': 'Consultor', 'salario_em_usd': '90000', 'residencia_do_funcionario': 'US', 'localizacao_da_empresa': 'US', 'tamanho_da_empresa': 'M', 'id': 6}, {'ano_de_trabalho': '2023', 'nivel_de_experiencia': 'Executivo', 'cargo': 'Gerente', 'salario_em_usd': '272400', 'residencia_do_funcionario': 'US', 'localizacao_da_empresa': 'US', 'tamanho_da_empresa': 'L', 'id': 7}, {'ano_de_trabalho': '2023', 'nivel_de_experiencia': 'Executivo', 'cargo': 'Gerente', 'salario_em_usd': '140100', 'residencia_do_funcionario': 'US', 'localizacao_da_empresa': 'US', 'tamanho_da_empresa': 'L', 'id': 8}, {'ano_de_trabalho': '2023', 'nivel_de_experiencia': 'Executivo', 'cargo': 'Diretor', 'salario_em_usd': '246080', 'residencia_do_funcionario': 'GB', 'localizacao_da_empresa': 'GB', 'tamanho_da_empresa': 'M', 'id': 9}, {'ano_de_trabalho': '2023', 'nivel_de_experiencia': 'Executivo', 'cargo': 'Diretor', 'salario_em_usd': '184560', 'residencia_do_funcionario': 'GB', 'localizacao_da_empresa': 'GB', 'tamanho_da_empresa': 'M', 'id': 10}, {'ano_de_trabalho': '2023', 'nivel_de_experiencia': 'Senior', 'cargo': 'Consultor', 'salario_em_usd': '131250', 'residencia_do_funcionario': 'US', 'localizacao_da_empresa': 'US', 'tamanho_da_empresa': 'M', 'id': 11}, {'ano_de_trabalho': '2023', 'nivel_de_experiencia': 'Senior', 'cargo': 'Consultor', 'salario_em_usd': '128100', 'residencia_do_funcionario': 'US', 'localizacao_da_empresa': 'US', 'tamanho_da_empresa': 'M', 'id': 12}, {'ano_de_trabalho': '2023', 'nivel_de_experiencia': 'Senior', 'cargo': 'Consultor', 'salario_em_usd': '116000', 'residencia_do_funcionario': 'US', 'localizacao_da_empresa': 'US', 'tamanho_da_empresa': 'M', 'id': 13}, {'ano_de_trabalho': '2023', 'nivel_de_experiencia': 'Senior', 'cargo': 'Consultor', 'salario_em_usd': '90000', 'residencia_do_funcionario': 'US', 'localizacao_da_empresa': 'US', 'tamanho_da_empresa': 'M', 'id': 14}, {'ano_de_trabalho': '2023', 'nivel_de_experiencia': 'Senior', 'cargo': 'Engenheiro', 'salario_em_usd': '220000', 'residencia_do_funcionario': 'US', 'localizacao_da_empresa': 'US', 'tamanho_da_empresa': 'M', 'id': 15}, {'ano_de_trabalho': '2023', 'nivel_de_experiencia': 'Senior', 'cargo': 'Engenheiro', 'salario_em_usd': '180000', 'residencia_do_funcionario': 'US', 'localizacao_da_empresa': 'US', 'tamanho_da_empresa': 'M', 'id': 16}, {'ano_de_trabalho': '2023', 'nivel_de_experiencia': 'Senior', 'cargo': 'Gerente', 'salario_em_usd': '272400', 'residencia_do_funcionario': 'US', 'localizacao_da_empresa': 'US', 'tamanho_da_empresa': 'L', 'id': 17}, {'ano_de_trabalho': '2023', 'nivel_de_experiencia': 'Senior', 'cargo': 'Gerente', 'salario_em_usd': '140100', 'residencia_do_funcionario': 'US', 'localizacao_da_empresa': 'US', 'tamanho_da_empresa': 'L', 'id': 18}, {'ano_de_trabalho': '2023', 'nivel_de_experiencia': 'Senior', 'cargo': 'Gerente', 'salario_em_usd': '297300', 'residencia_do_funcionario': 'US', 'localizacao_da_empresa': 'US', 'tamanho_da_empresa': 'M', 'id': 19}, {'ano_de_trabalho': '2023', 'nivel_de_experiencia': 'Senior', 'cargo': 'Gerente', 'salario_em_usd': '198200', 'residencia_do_funcionario': 'US', 'localizacao_da_empresa': 'US', 'tamanho_da_empresa': 'M', 'id': 20}, {'ano_de_trabalho': '2023', 'nivel_de_experiencia': 'Senior', 'cargo': 'Praticante', 'salario_em_usd': '196500', 'residencia_do_funcionario': 'US', 'localizacao_da_empresa': 'US', 'tamanho_da_empresa': 'M', 'id': 21}, {'ano_de_trabalho': '2023', 'nivel_de_experiencia': 'Senior', 'cargo': 'Praticante', 'salario_em_usd': '97300', 'residencia_do_funcionario': 'US', 'localizacao_da_empresa': 'US', 'tamanho_da_empresa': 'M', 'id': 22}, {'ano_de_trabalho': '2023', 'nivel_de_experiencia': 'Analista', 'cargo': 'Engenheiro', 'salario_em_usd': '130000', 'residencia_do_funcionario': 'US', 'localizacao_da_empresa': 'US', 'tamanho_da_empresa': 'M', 'id': 23}, {'ano_de_trabalho': '2023', 'nivel_de_experiencia': 'Analista', 'cargo': 'Engenheiro', 'salario_em_usd': '113000', 'residencia_do_funcionario': 'US', 'localizacao_da_empresa': 'US', 'tamanho_da_empresa': 'M', 'id': 24}, {'ano_de_trabalho': '2023', 'nivel_de_experiencia': 'Executivo', 'cargo': 'Diretor', 'salario_em_usd': '353200', 'residencia_do_funcionario': 'US', 'localizacao_da_empresa': 'US', 'tamanho_da_empresa': 'M', 'id': 25}, {'ano_de_trabalho': '2023', 'nivel_de_experiencia': 'Executivo', 'cargo': 'Diretor', 'salario_em_usd': '249300', 'residencia_do_funcionario': 'US', 'localizacao_da_empresa': 'US', 'tamanho_da_empresa': 'M', 'id': 26}, {'ano_de_trabalho': '2023', 'nivel_de_experiencia': 'Senior', 'cargo': 'Gerente', 'salario_em_usd': '204000', 'residencia_do_funcionario': 'US', 'localizacao_da_empresa': 'US', 'tamanho_da_empresa': 'M', 'id': 27}, {'ano_de_trabalho': '2023', 'nivel_de_experiencia': 'Senior', 'cargo': 'Gerente', 'salario_em_usd': '127500', 'residencia_do_funcionario': 'US', 'localizacao_da_empresa': 'US', 'tamanho_da_empresa': 'M', 'id': 28}, {'ano_de_trabalho': '2023', 'nivel_de_experiencia': 'Analista', 'cargo': 'Diretor', 'salario_em_usd': '217000', 'residencia_do_funcionario': 'US', 'localizacao_da_empresa': 'US', 'tamanho_da_empresa': 'M', 'id': 29}, {'ano_de_trabalho': '2023', 'nivel_de_experiencia': 'Analista', 'cargo': 'Diretor', 'salario_em_usd': '192000', 'residencia_do_funcionario': 'US', 'localizacao_da_empresa': 'US', 'tamanho_da_empresa': 'M', 'id': 30}, {'ano_de_trabalho': '2023', 'nivel_de_experiencia': 'Senior', 'cargo': 'Gerente', 'salario_em_usd': '234900', 'residencia_do_funcionario': 'US', 'localizacao_da_empresa': 'US', 'tamanho_da_empresa': 'M', 'id': 31}, {'ano_de_trabalho': '2023', 'nivel_de_experiencia': 'Senior', 'cargo': 'Gerente', 'salario_em_usd': '113500', 'residencia_do_funcionario': 'US', 'localizacao_da_empresa': 'US', 'tamanho_da_empresa': 'M', 'id': 32}, {'ano_de_trabalho': '2023', 'nivel_de_experiencia': 'Senior', 'cargo': 'Praticante', 'salario_em_usd': '170200', 'residencia_do_funcionario': 'US', 'localizacao_da_empresa': 'US', 'tamanho_da_empresa': 'M', 'id': 33}, {'ano_de_trabalho': '2023', 'nivel_de_experiencia': 'Senior', 'cargo': 'Praticante', 'salario_em_usd': '83900', 'residencia_do_funcionario': 'US', 'localizacao_da_empresa': 'US', 'tamanho_da_empresa': 'M', 'id': 34}, {'ano_de_trabalho': '2023', 'nivel_de_experiencia': 'Senior', 'cargo': 'Líder', 'salario_em_usd': '204500', 'residencia_do_funcionario': 'US', 'localizacao_da_empresa': 'US', 'tamanho_da_empresa': 'M', 'id': 35}, {'ano_de_trabalho': '2023', 'nivel_de_experiencia': 'Senior', 'cargo': 'Líder', 'salario_em_usd': '142200', 'residencia_do_funcionario': 'US', 'localizacao_da_empresa': 'US', 'tamanho_da_empresa': 'M', 'id': 36}, {'ano_de_trabalho': '2023', 'nivel_de_experiencia': 'Analista', 'cargo': 'Líder', 'salario_em_usd': '185900', 'residencia_do_funcionario': 'US', 'localizacao_da_empresa': 'US', 'tamanho_da_empresa': 'M', 'id': 37}, {'ano_de_trabalho': '2023', 'nivel_de_experiencia': 'Analista', 'cargo': 'Líder', 'salario_em_usd': '129300', 'residencia_do_funcionario': 'US', 'localizacao_da_empresa': 'US', 'tamanho_da_empresa': 'M', 'id': 38}, {'ano_de_trabalho': '2023', 'nivel_de_experiencia': 'Senior', 'cargo': 'Consultor', 'salario_em_usd': '157550', 'residencia_do_funcionario': 'US', 'localizacao_da_empresa': 'US', 'tamanho_da_empresa': 'M', 'id': 39}, {'ano_de_trabalho': '2023', 'nivel_de_experiencia': 'Senior', 'cargo': 'Consultor', 'salario_em_usd': '104650', 'residencia_do_funcionario': 'US', 'localizacao_da_empresa': 'US', 'tamanho_da_empresa': 'M', 'id': 40}, {'ano_de_trabalho': '2023', 'nivel_de_experiencia': 'Senior', 'cargo': 'Gerente', 'salario_em_usd': '190000', 'residencia_do_funcionario': 'US', 'localizacao_da_empresa': 'US', 'tamanho_da_empresa': 'M', 'id': 41}, {'ano_de_trabalho': '2023', 'nivel_de_experiencia': 'Senior', 'cargo': 'Gerente', 'salario_em_usd': '170000', 'residencia_do_funcionario': 'US', 'localizacao_da_empresa': 'US', 'tamanho_da_empresa': 'M', 'id': 42}, {'ano_de_trabalho': '2023', 'nivel_de_experiencia': 'Executivo', 'cargo': 'Diretor', 'salario_em_usd': '375500', 'residencia_do_funcionario': 'US', 'localizacao_da_empresa': 'US', 'tamanho_da_empresa': 'M', 'id': 43}, {'ano_de_trabalho': '2023', 'nivel_de_experiencia': 'Executivo', 'cargo': 'Diretor', 'salario_em_usd': '250300', 'residencia_do_funcionario': 'US', 'localizacao_da_empresa': 'US', 'tamanho_da_empresa': 'M', 'id': 44}, {'ano_de_trabalho': '2023', 'nivel_de_experiencia': 'Senior', 'cargo': 'Praticante', 'salario_em_usd': '198800', 'residencia_do_funcionario': 'US', 'localizacao_da_empresa': 'US', 'tamanho_da_empresa': 'M', 'id': 45}, {'ano_de_trabalho': '2023', 'nivel_de_experiencia': 'Senior', 'cargo': 'Praticante', 'salario_em_usd': '122600', 'residencia_do_funcionario': 'US', 'localizacao_da_empresa': 'US', 'tamanho_da_empresa': 'M', 'id': 46}, {'ano_de_trabalho': '2023', 'nivel_de_experiencia': 'Senior', 'cargo': 'Gerente', 'salario_em_usd': '107968', 'residencia_do_funcionario': 'PH', 'localizacao_da_empresa': 'CZ', 'tamanho_da_empresa': 'L', 'id': 47}, {'ano_de_trabalho': '2023', 'nivel_de_experiencia': 'Analista', 'cargo': 'Gerente', 'salario_em_usd': '38915', 'residencia_do_funcionario': 'IN', 'localizacao_da_empresa': 'IN', 'tamanho_da_empresa': 'L', 'id': 48}, {'ano_de_trabalho': '2023', 'nivel_de_experiencia': 'Analista', 'cargo': 'Líder', 'salario_em_usd': '185900', 'residencia_do_funcionario': 'US', 'localizacao_da_empresa': 'US', 'tamanho_da_empresa': 'M', 'id': 49}, {'ano_de_trabalho': '2023', 'nivel_de_experiencia': 'Analista', 'cargo': 'Líder', 'salario_em_usd': '129300', 'residencia_do_funcionario': 'US', 'localizacao_da_empresa': 'US', 'tamanho_da_empresa': 'M', 'id': 50}, {'ano_de_trabalho': '2023', 'nivel_de_experiencia': 'Senior', 'cargo': 'Gerente', 'salario_em_usd': '43779', 'residencia_do_funcionario': 'IN', 'localizacao_da_empresa': 'IN', 'tamanho_da_empresa': 'L', 'id': 51}, {'ano_de_trabalho': '2023', 'nivel_de_experiencia': 'Senior', 'cargo': 'Gerente', 'salario_em_usd': '160000', 'residencia_do_funcionario': 'US', 'localizacao_da_empresa': 'US', 'tamanho_da_empresa': 'M', 'id': 52}, {'ano_de_trabalho': '2023', 'nivel_de_experiencia': 'Senior', 'cargo': 'Gerente', 'salario_em_usd': '145000', 'residencia_do_funcionario': 'US', 'localizacao_da_empresa': 'US', 'tamanho_da_empresa': 'M', 'id': 53}, {'ano_de_trabalho': '2023', 'nivel_de_experiencia': 'Analista', 'cargo': 'Líder', 'salario_em_usd': '225000', 'residencia_do_funcionario': 'US', 'localizacao_da_empresa': 'US', 'tamanho_da_empresa': 'M', 'id': 54}, {'ano_de_trabalho': '2023', 'nivel_de_experiencia': 'Analista', 'cargo': 'Líder', 'salario_em_usd': '152700', 'residencia_do_funcionario': 'US', 'localizacao_da_empresa': 'US', 'tamanho_da_empresa': 'M', 'id': 55}, {'ano_de_trabalho': '2023', 'nivel_de_experiencia': 'Analista', 'cargo': 'Líder', 'salario_em_usd': '191765', 'residencia_do_funcionario': 'US', 'localizacao_da_empresa': 'US', 'tamanho_da_empresa': 'M', 'id': 56}, {'ano_de_trabalho': '2023', 'nivel_de_experiencia': 'Analista', 'cargo': 'Líder', 'salario_em_usd': '134326', 'residencia_do_funcionario': 'US', 'localizacao_da_empresa': 'US', 'tamanho_da_empresa': 'M', 'id': 57}, {'ano_de_trabalho': '2023', 'nivel_de_experiencia': 'Senior', 'cargo': 'Consultor', 'salario_em_usd': '145900', 'residencia_do_funcionario': 'US', 'localizacao_da_empresa': 'US', 'tamanho_da_empresa': 'M', 'id': 58}, {'ano_de_trabalho': '2023', 'nivel_de_experiencia': 'Senior', 'cargo': 'Consultor', 'salario_em_usd': '128100', 'residencia_do_funcionario': 'US', 'localizacao_da_empresa': 'US', 'tamanho_da_empresa': 'M', 'id': 59}, {'ano_de_trabalho': '2023', 'nivel_de_experiencia': 'Senior', 'cargo': 'Praticante', 'salario_em_usd': '198800', 'residencia_do_funcionario': 'US', 'localizacao_da_empresa': 'US', 'tamanho_da_empresa': 'M', 'id': 60}, {'ano_de_trabalho': '2023', 'nivel_de_experiencia': 'Senior', 'cargo': 'Praticante', 'salario_em_usd': '122600', 'residencia_do_funcionario': 'US', 'localizacao_da_empresa': 'US', 'tamanho_da_empresa': 'M', 'id': 61}, {'ano_de_trabalho': '2023', 'nivel_de_experiencia': 'Senior', 'cargo': 'Consultor', 'salario_em_usd': '180000', 'residencia_do_funcionario': 'US', 'localizacao_da_empresa': 'US', 'tamanho_da_empresa': 'M', 'id': 62}, {'ano_de_trabalho': '2023', 'nivel_de_experiencia': 'Senior', 'cargo': 'Consultor', 'salario_em_usd': '137000', 'residencia_do_funcionario': 'US', 'localizacao_da_empresa': 'US', 'tamanho_da_empresa': 'M', 'id': 63}, {'ano_de_trabalho': '2023', 'nivel_de_experiencia': 'Executivo', 'cargo': 'Diretor', 'salario_em_usd': '247000', 'residencia_do_funcionario': 'US', 'localizacao_da_empresa': 'US', 'tamanho_da_empresa': 'M', 'id': 64}, {'ano_de_trabalho': '2023', 'nivel_de_experiencia': 'Executivo', 'cargo': 'Diretor', 'salario_em_usd': '118440', 'residencia_do_funcionario': 'US', 'localizacao_da_empresa': 'US', 'tamanho_da_empresa': 'M', 'id': 65}, {'ano_de_trabalho': '2023', 'nivel_de_experiencia': 'Senior', 'cargo': 'Gerente', 'salario_em_usd': '185000', 'residencia_do_funcionario': 'US', 'localizacao_da_empresa': 'US', 'tamanho_da_empresa': 'M', 'id': 66}, {'ano_de_trabalho': '2023', 'nivel_de_experiencia': 'Senior', 'cargo': 'Gerente', 'salario_em_usd': '152000', 'residencia_do_funcionario': 'US', 'localizacao_da_empresa': 'US', 'tamanho_da_empresa': 'M', 'id': 67}, {'ano_de_trabalho': '2023', 'nivel_de_experiencia': 'Analista', 'cargo': 'Consultor', 'salario_em_usd': '70132', 'residencia_do_funcionario': 'GB', 'localizacao_da_empresa': 'GB', 'tamanho_da_empresa': 'M', 'id': 68}, {'ano_de_trabalho': '2023', 'nivel_de_experiencia': 'Analista', 'cargo': 'Consultor', 'salario_em_usd': '51676', 'residencia_do_funcionario': 'GB', 'localizacao_da_empresa': 'GB', 'tamanho_da_empresa': 'M', 'id': 69}, {'ano_de_trabalho': '2023', 'nivel_de_experiencia': 'Executivo', 'cargo': 'Chefe', 'salario_em_usd': '131721', 'residencia_do_funcionario': 'NL', 'localizacao_da_empresa': 'NL', 'tamanho_da_empresa': 'L', 'id': 70}, {'ano_de_trabalho': '2023', 'nivel_de_experiencia': 'Senior', 'cargo': 'Gerente', 'salario_em_usd': '299500', 'residencia_do_funcionario': 'US', 'localizacao_da_empresa': 'US', 'tamanho_da_empresa': 'M', 'id': 71}, {'ano_de_trabalho': '2023', 'nivel_de_experiencia': 'Senior', 'cargo': 'Gerente', 'salario_em_usd': '245100', 'residencia_do_funcionario': 'US', 'localizacao_da_empresa': 'US', 'tamanho_da_empresa': 'M', 'id': 72}, {'ano_de_trabalho': '2023', 'nivel_de_experiencia': 'Senior', 'cargo': 'Gerente', 'salario_em_usd': '299500', 'residencia_do_funcionario': 'US', 'localizacao_da_empresa': 'US', 'tamanho_da_empresa': 'M', 'id': 73}, {'ano_de_trabalho': '2023', 'nivel_de_experiencia': 'Senior', 'cargo': 'Gerente', 'salario_em_usd': '245100', 'residencia_do_funcionario': 'US', 'localizacao_da_empresa': 'US', 'tamanho_da_empresa': 'M', 'id': 74}, {'ano_de_trabalho': '2023', 'nivel_de_experiencia': 'Junior', 'cargo': 'Engenheiro', 'salario_em_usd': '104024', 'residencia_do_funcionario': 'CH', 'localizacao_da_empresa': 'CH', 'tamanho_da_empresa': 'S', 'id': 75}, {'ano_de_trabalho': '2023', 'nivel_de_experiencia': 'Executivo', 'cargo': 'Chefe', 'salario_em_usd': '330000', 'residencia_do_funcionario': 'US', 'localizacao_da_empresa': 'US', 'tamanho_da_empresa': 'M', 'id': 76}, {'ano_de_trabalho': '2023', 'nivel_de_experiencia': 'Executivo', 'cargo': 'Chefe', 'salario_em_usd': '230000', 'residencia_do_funcionario': 'US', 'localizacao_da_empresa': 'US', 'tamanho_da_empresa': 'M', 'id': 77}, {'ano_de_trabalho': '2020', 'nivel_de_experiencia': 'Executivo', 'cargo': 'Diretor Executivo', 'salario_em_usd': '300000', 'residencia_do_funcionario': 'US', 'localizacao_da_empresa': 'US', 'tamanho_da_empresa': 'L', 'id': 78}, {'ano_de_trabalho': '2023', 'nivel_de_experiencia': 'Senior', 'cargo': 'Gerente', 'salario_em_usd': '299500', 'residencia_do_funcionario': 'US', 'localizacao_da_empresa': 'US', 'tamanho_da_empresa': 'M', 'id': 79}, {'ano_de_trabalho': '2023', 'nivel_de_experiencia': 'Senior', 'cargo': 'Gerente', 'salario_em_usd': '245100', 'residencia_do_funcionario': 'US', 'localizacao_da_empresa': 'US', 'tamanho_da_empresa': 'M', 'id': 80}, {'ano_de_trabalho': '2023', 'nivel_de_experiencia': 'Senior', 'cargo': 'Engenheiro', 'salario_em_usd': '266450', 'residencia_do_funcionario': 'US', 'localizacao_da_empresa': 'US', 'tamanho_da_empresa': 'M', 'id': 81}, {'ano_de_trabalho': '2023', 'nivel_de_experiencia': 'Senior', 'cargo': 'Engenheiro', 'salario_em_usd': '177700', 'residencia_do_funcionario': 'US', 'localizacao_da_empresa': 'US', 'tamanho_da_empresa': 'M', 'id': 82}, {'ano_de_trabalho': '2022', 'nivel_de_experiencia': 'Senior', 'cargo': 'Gerente', 'salario_em_usd': '190000', 'residencia_do_funcionario': 'US', 'localizacao_da_empresa': 'US', 'tamanho_da_empresa': 'L', 'id': 83}, {'ano_de_trabalho': '2023', 'nivel_de_experiencia': 'Analista', 'cargo': 'Consultor', 'salario_em_usd': '100000', 'residencia_do_funcionario': 'US', 'localizacao_da_empresa': 'US', 'tamanho_da_empresa': 'M', 'id': 84}, {'ano_de_trabalho': '2023', 'nivel_de_experiencia': 'Executivo', 'cargo': 'Diretor', 'salario_em_usd': '260000', 'residencia_do_funcionario': 'US', 'localizacao_da_empresa': 'US', 'tamanho_da_empresa': 'M', 'id': 85}, {'ano_de_trabalho': '2023', 'nivel_de_experiencia': 'Executivo', 'cargo': 'Diretor', 'salario_em_usd': '192000', 'residencia_do_funcionario': 'US', 'localizacao_da_empresa': 'US', 'tamanho_da_empresa': 'M', 'id': 86}, {'ano_de_trabalho': '2023', 'nivel_de_experiencia': 'Senior', 'cargo': 'Gerente', 'salario_em_usd': '255000', 'residencia_do_funcionario': 'US', 'localizacao_da_empresa': 'US', 'tamanho_da_empresa': 'M', 'id': 87}, {'ano_de_trabalho': '2023', 'nivel_de_experiencia': 'Senior', 'cargo': 'Gerente', 'salario_em_usd': '169000', 'residencia_do_funcionario': 'US', 'localizacao_da_empresa': 'US', 'tamanho_da_empresa': 'M', 'id': 88}, {'ano_de_trabalho': '2023', 'nivel_de_experiencia': 'Executivo', 'cargo': 'Diretor', 'salario_em_usd': '246080', 'residencia_do_funcionario': 'GB', 'localizacao_da_empresa': 'GB', 'tamanho_da_empresa': 'M', 'id': 89}, {'ano_de_trabalho': '2023', 'nivel_de_experiencia': 'Executivo', 'cargo': 'Diretor', 'salario_em_usd': '203016', 'residencia_do_funcionario': 'GB', 'localizacao_da_empresa': 'GB', 'tamanho_da_empresa': 'M', 'id': 90}, {'ano_de_trabalho': '2023', 'nivel_de_experiencia': 'Senior', 'cargo': 'Gerente', 'salario_em_usd': '328000', 'residencia_do_funcionario': 'US', 'localizacao_da_empresa': 'US', 'tamanho_da_empresa': 'M', 'id': 91}, {'ano_de_trabalho': '2023', 'nivel_de_experiencia': 'Senior', 'cargo': 'Gerente', 'salario_em_usd': '211000', 'residencia_do_funcionario': 'US', 'localizacao_da_empresa': 'US', 'tamanho_da_empresa': 'M', 'id': 92}, {'ano_de_trabalho': '2023', 'nivel_de_experiencia': 'Executivo', 'cargo': 'Diretor', 'salario_em_usd': '336400', 'residencia_do_funcionario': 'US', 'localizacao_da_empresa': 'US', 'tamanho_da_empresa': 'M', 'id': 93}, {'ano_de_trabalho': '2023', 'nivel_de_experiencia': 'Executivo', 'cargo': 'Diretor', 'salario_em_usd': '201900', 'residencia_do_funcionario': 'US', 'localizacao_da_empresa': 'US', 'tamanho_da_empresa': 'M', 'id': 94}, {'ano_de_trabalho': '2023', 'nivel_de_experiencia': 'Analista', 'cargo': 'Gerente', 'salario_em_usd': '270000', 'residencia_do_funcionario': 'US', 'localizacao_da_empresa': 'US', 'tamanho_da_empresa': 'M', 'id': 95}, {'ano_de_trabalho': '2023', 'nivel_de_experiencia': 'Analista', 'cargo': 'Gerente', 'salario_em_usd': '95000', 'residencia_do_funcionario': 'US', 'localizacao_da_empresa': 'US', 'tamanho_da_empresa': 'M', 'id': 96}, {'ano_de_trabalho': '2023', 'nivel_de_experiencia': 'Analista', 'cargo': 'Líder', 'salario_em_usd': '244000', 'residencia_do_funcionario': 'US', 'localizacao_da_empresa': 'US', 'tamanho_da_empresa': 'M', 'id': 97}, {'ano_de_trabalho': '2023', 'nivel_de_experiencia': 'Analista', 'cargo': 'Líder', 'salario_em_usd': '200000', 'residencia_do_funcionario': 'US', 'localizacao_da_empresa': 'US', 'tamanho_da_empresa': 'M', 'id': 98}, {'ano_de_trabalho': '2023', 'nivel_de_experiencia': 'Senior', 'cargo': 'Gerente', 'salario_em_usd': '299500', 'residencia_do_funcionario': 'US', 'localizacao_da_empresa': 'US', 'tamanho_da_empresa': 'M', 'id': 99}, {'ano_de_trabalho': '2023', 'nivel_de_experiencia': 'Senior', 'cargo': 'Gerente', 'salario_em_usd': '245100', 'residencia_do_funcionario': 'US', 'localizacao_da_empresa': 'US', 'tamanho_da_empresa': 'M', 'id': 100}, {'ano_de_trabalho': '2023', 'nivel_de_experiencia': 'Executivo', 'cargo': 'Diretor', 'salario_em_usd': '225000', 'residencia_do_funcionario': 'US', 'localizacao_da_empresa': 'US', 'tamanho_da_empresa': 'M', 'id': 101}, {'ano_de_trabalho': '2023', 'nivel_de_experiencia': 'Executivo', 'cargo': 'Diretor', 'salario_em_usd': '175000', 'residencia_do_funcionario': 'US', 'localizacao_da_empresa': 'US', 'tamanho_da_empresa': 'M', 'id': 102}, {'ano_de_trabalho': '2023', 'nivel_de_experiencia': 'Senior', 'cargo': 'Consultor', 'salario_em_usd': '189750', 'residencia_do_funcionario': 'US', 'localizacao_da_empresa': 'US', 'tamanho_da_empresa': 'M', 'id': 103}, {'ano_de_trabalho': '2023', 'nivel_de_experiencia': 'Senior', 'cargo': 'Consultor', 'salario_em_usd': '131100', 'residencia_do_funcionario': 'US', 'localizacao_da_empresa': 'US', 'tamanho_da_empresa': 'M', 'id': 104}, {'ano_de_trabalho': '2023', 'nivel_de_experiencia': 'Senior', 'cargo': 'Gerente', 'salario_em_usd': '191765', 'residencia_do_funcionario': 'US', 'localizacao_da_empresa': 'US', 'tamanho_da_empresa': 'M', 'id': 105}, {'ano_de_trabalho': '2023', 'nivel_de_experiencia': 'Senior', 'cargo': 'Gerente', 'salario_em_usd': '134236', 'residencia_do_funcionario': 'US', 'localizacao_da_empresa': 'US', 'tamanho_da_empresa': 'M', 'id': 106}, {'ano_de_trabalho': '2023', 'nivel_de_experiencia': 'Executivo', 'cargo': 'Diretor', 'salario_em_usd': '353200', 'residencia_do_funcionario': 'US', 'localizacao_da_empresa': 'US', 'tamanho_da_empresa': 'M', 'id': 107}, {'ano_de_trabalho': '2023', 'nivel_de_experiencia': 'Executivo', 'cargo': 'Diretor', 'salario_em_usd': '249300', 'residencia_do_funcionario': 'US', 'localizacao_da_empresa': 'US', 'tamanho_da_empresa': 'M', 'id': 108}, {'ano_de_trabalho': '2023', 'nivel_de_experiencia': 'Senior', 'cargo': 'Gerente', 'salario_em_usd': '299500', 'residencia_do_funcionario': 'US', 'localizacao_da_empresa': 'US', 'tamanho_da_empresa': 'M', 'id': 109}, {'ano_de_trabalho': '2023', 'nivel_de_experiencia': 'Senior', 'cargo': 'Gerente', 'salario_em_usd': '245100', 'residencia_do_funcionario': 'US', 'localizacao_da_empresa': 'US', 'tamanho_da_empresa': 'M', 'id': 110}, {'ano_de_trabalho': '2021', 'nivel_de_experiencia': 'Analista', 'cargo': 'Líder', 'salario_em_usd': '150000', 'residencia_do_funcionario': 'US', 'localizacao_da_empresa': 'US', 'tamanho_da_empresa': 'M', 'id': 111}, {'ano_de_trabalho': '2023', 'nivel_de_experiencia': 'Senior', 'cargo': 'Gerente', 'salario_em_usd': '299500', 'residencia_do_funcionario': 'US', 'localizacao_da_empresa': 'US', 'tamanho_da_empresa': 'M', 'id': 112}, {'ano_de_trabalho': '2023', 'nivel_de_experiencia': 'Senior', 'cargo': 'Gerente', 'salario_em_usd': '245100', 'residencia_do_funcionario': 'US', 'localizacao_da_empresa': 'US', 'tamanho_da_empresa': 'M', 'id': 113}, {'ano_de_trabalho': '2023', 'nivel_de_experiencia': 'Analista', 'cargo': 'Gerente', 'salario_em_usd': '104500', 'residencia_do_funcionario': 'US', 'localizacao_da_empresa': 'US', 'tamanho_da_empresa': 'M', 'id': 114}, {'ano_de_trabalho': '2023', 'nivel_de_experiencia': 'Analista', 'cargo': 'Gerente', 'salario_em_usd': '70000', 'residencia_do_funcionario': 'US', 'localizacao_da_empresa': 'US', 'tamanho_da_empresa': 'M', 'id': 115}, {'ano_de_trabalho': '2023', 'nivel_de_experiencia': 'Analista', 'cargo': 'Consultor', 'salario_em_usd': '90000', 'residencia_do_funcionario': 'US', 'localizacao_da_empresa': 'US', 'tamanho_da_empresa': 'M', 'id': 116}, {'ano_de_trabalho': '2023', 'nivel_de_experiencia': 'Analista', 'cargo': 'Consultor', 'salario_em_usd': '70000', 'residencia_do_funcionario': 'US', 'localizacao_da_empresa': 'US', 'tamanho_da_empresa': 'M', 'id': 117}, {'ano_de_trabalho': '2022', 'nivel_de_experiencia': 'Executivo', 'cargo': 'Gerente', 'salario_em_usd': '106000', 'residencia_do_funcionario': 'UZ', 'localizacao_da_empresa': 'RU', 'tamanho_da_empresa': 'L', 'id': 118}, {'ano_de_trabalho': '2023', 'nivel_de_experiencia': 'Senior', 'cargo': 'Gerente', 'salario_em_usd': '150000', 'residencia_do_funcionario': 'MX', 'localizacao_da_empresa': 'MX', 'tamanho_da_empresa': 'M', 'id': 119}, {'ano_de_trabalho': '2023', 'nivel_de_experiencia': 'Senior', 'cargo': 'Gerente', 'salario_em_usd': '90000', 'residencia_do_funcionario': 'MX', 'localizacao_da_empresa': 'MX', 'tamanho_da_empresa': 'M', 'id': 120}, {'ano_de_trabalho': '2023', 'nivel_de_experiencia': 'Senior', 'cargo': 'Consultor', 'salario_em_usd': '29301', 'residencia_do_funcionario': 'TH', 'localizacao_da_empresa': 'TH', 'tamanho_da_empresa': 'M', 'id': 121}, {'ano_de_trabalho': '2023', 'nivel_de_experiencia': 'Executivo', 'cargo': 'Chefe', 'salario_em_usd': '162288', 'residencia_do_funcionario': 'GB', 'localizacao_da_empresa': 'GB', 'tamanho_da_empresa': 'M', 'id': 122}, {'ano_de_trabalho': '2023', 'nivel_de_experiencia': 'Executivo', 'cargo': 'Chefe', 'salario_em_usd': '129058', 'residencia_do_funcionario': 'GB', 'localizacao_da_empresa': 'GB', 'tamanho_da_empresa': 'M', 'id': 123}, {'ano_de_trabalho': '2023', 'nivel_de_experiencia': 'Senior', 'cargo': 'Gerente', 'salario_em_usd': '175000', 'residencia_do_funcionario': 'US', 'localizacao_da_empresa': 'US', 'tamanho_da_empresa': 'M', 'id': 124}, {'ano_de_trabalho': '2023', 'nivel_de_experiencia': 'Senior', 'cargo': 'Gerente', 'salario_em_usd': '120000', 'residencia_do_funcionario': 'US', 'localizacao_da_empresa': 'US', 'tamanho_da_empresa': 'M', 'id': 125}, {'ano_de_trabalho': '2023', 'nivel_de_experiencia': 'Senior', 'cargo': 'Gerente', 'salario_em_usd': '299500', 'residencia_do_funcionario': 'US', 'localizacao_da_empresa': 'US', 'tamanho_da_empresa': 'M', 'id': 126}, {'ano_de_trabalho': '2023', 'nivel_de_experiencia': 'Senior', 'cargo': 'Gerente', 'salario_em_usd': '245100', 'residencia_do_funcionario': 'US', 'localizacao_da_empresa': 'US', 'tamanho_da_empresa': 'M', 'id': 127}, {'ano_de_trabalho': '2023', 'nivel_de_experiencia': 'Senior', 'cargo': 'Líder', 'salario_em_usd': '247500', 'residencia_do_funcionario': 'US', 'localizacao_da_empresa': 'US', 'tamanho_da_empresa': 'M', 'id': 128}, {'ano_de_trabalho': '2023', 'nivel_de_experiencia': 'Senior', 'cargo': 'Líder', 'salario_em_usd': '172200', 'residencia_do_funcionario': 'US', 'localizacao_da_empresa': 'US', 'tamanho_da_empresa': 'M', 'id': 129}, {'ano_de_trabalho': '2023', 'nivel_de_experiencia': 'Analista', 'cargo': 'Líder', 'salario_em_usd': '73824', 'residencia_do_funcionario': 'GB', 'localizacao_da_empresa': 'GB', 'tamanho_da_empresa': 'M', 'id': 130}, {'ano_de_trabalho': '2023', 'nivel_de_experiencia': 'Analista', 'cargo': 'Líder', 'salario_em_usd': '61520', 'residencia_do_funcionario': 'GB', 'localizacao_da_empresa': 'GB', 'tamanho_da_empresa': 'M', 'id': 131}, {'ano_de_trabalho': '2023', 'nivel_de_experiencia': 'Senior', 'cargo': 'Gerente', 'salario_em_usd': '231250', 'residencia_do_funcionario': 'US', 'localizacao_da_empresa': 'US', 'tamanho_da_empresa': 'M', 'id': 132}, {'ano_de_trabalho': '2023', 'nivel_de_experiencia': 'Senior', 'cargo': 'Gerente', 'salario_em_usd': '138750', 'residencia_do_funcionario': 'US', 'localizacao_da_empresa': 'US', 'tamanho_da_empresa': 'M', 'id': 133}, {'ano_de_trabalho': '2023', 'nivel_de_experiencia': 'Senior', 'cargo': 'Líder', 'salario_em_usd': '225900', 'residencia_do_funcionario': 'US', 'localizacao_da_empresa': 'US', 'tamanho_da_empresa': 'M', 'id': 134}, {'ano_de_trabalho': '2023', 'nivel_de_experiencia': 'Senior', 'cargo': 'Líder', 'salario_em_usd': '156400', 'residencia_do_funcionario': 'US', 'localizacao_da_empresa': 'US', 'tamanho_da_empresa': 'M', 'id': 135}, {'ano_de_trabalho': '2023', 'nivel_de_experiencia': 'Senior', 'cargo': 'Diretor', 'salario_em_usd': '125948', 'residencia_do_funcionario': 'CA', 'localizacao_da_empresa': 'CA', 'tamanho_da_empresa': 'M', 'id': 136}, {'ano_de_trabalho': '2023', 'nivel_de_experiencia': 'Executivo', 'cargo': 'Chefe', 'salario_em_usd': '314100', 'residencia_do_funcionario': 'US', 'localizacao_da_empresa': 'US', 'tamanho_da_empresa': 'M', 'id': 137}, {'ano_de_trabalho': '2023', 'nivel_de_experiencia': 'Executivo', 'cargo': 'Chefe', 'salario_em_usd': '195800', 'residencia_do_funcionario': 'US', 'localizacao_da_empresa': 'US', 'tamanho_da_empresa': 'M', 'id': 138}, {'ano_de_trabalho': '2023', 'nivel_de_experiencia': 'Analista', 'cargo': 'Chefe', 'salario_em_usd': '60805', 'residencia_do_funcionario': 'IN', 'localizacao_da_empresa': 'IN', 'tamanho_da_empresa': 'L', 'id': 139}, {'ano_de_trabalho': '2023', 'nivel_de_experiencia': 'Analista', 'cargo': 'Gerente', 'salario_em_usd': '220000', 'residencia_do_funcionario': 'US', 'localizacao_da_empresa': 'US', 'tamanho_da_empresa': 'M', 'id': 140}, {'ano_de_trabalho': '2023', 'nivel_de_experiencia': 'Analista', 'cargo': 'Gerente', 'salario_em_usd': '195000', 'residencia_do_funcionario': 'US', 'localizacao_da_empresa': 'US', 'tamanho_da_empresa': 'M', 'id': 141}, {'ano_de_trabalho': '2023', 'nivel_de_experiencia': 'Senior', 'cargo': 'Gerente', 'salario_em_usd': '299500', 'residencia_do_funcionario': 'US', 'localizacao_da_empresa': 'US', 'tamanho_da_empresa': 'M', 'id': 142}, {'ano_de_trabalho': '2023', 'nivel_de_experiencia': 'Senior', 'cargo': 'Gerente', 'salario_em_usd': '245100', 'residencia_do_funcionario': 'US', 'localizacao_da_empresa': 'US', 'tamanho_da_empresa': 'M', 'id': 143}, {'ano_de_trabalho': '2023', 'nivel_de_experiencia': 'Senior', 'cargo': 'Consultor', 'salario_em_usd': '122000', 'residencia_do_funcionario': 'US', 'localizacao_da_empresa': 'US', 'tamanho_da_empresa': 'M', 'id': 144}, {'ano_de_trabalho': '2023', 'nivel_de_experiencia': 'Senior', 'cargo': 'Consultor', 'salario_em_usd': '94000', 'residencia_do_funcionario': 'US', 'localizacao_da_empresa': 'US', 'tamanho_da_empresa': 'M', 'id': 145}, {'ano_de_trabalho': '2023', 'nivel_de_experiencia': 'Senior', 'cargo': 'Consultor', 'salario_em_usd': '145000', 'residencia_do_funcionario': 'US', 'localizacao_da_empresa': 'US', 'tamanho_da_empresa': 'M', 'id': 146}, {'ano_de_trabalho': '2023', 'nivel_de_experiencia': 'Senior', 'cargo': 'Consultor', 'salario_em_usd': '128000', 'residencia_do_funcionario': 'US', 'localizacao_da_empresa': 'US', 'tamanho_da_empresa': 'M', 'id': 147}, {'ano_de_trabalho': '2023', 'nivel_de_experiencia': 'Senior', 'cargo': 'Engenheiro', 'salario_em_usd': '140000', 'residencia_do_funcionario': 'US', 'localizacao_da_empresa': 'US', 'tamanho_da_empresa': 'M', 'id': 148}, {'ano_de_trabalho': '2023', 'nivel_de_experiencia': 'Senior', 'cargo': 'Engenheiro', 'salario_em_usd': '100000', 'residencia_do_funcionario': 'US', 'localizacao_da_empresa': 'US', 'tamanho_da_empresa': 'M', 'id': 149}, {'ano_de_trabalho': '2023', 'nivel_de_experiencia': 'Senior', 'cargo': 'Gerente', 'salario_em_usd': '297300', 'residencia_do_funcionario': 'US', 'localizacao_da_empresa': 'US', 'tamanho_da_empresa': 'M', 'id': 150}, {'ano_de_trabalho': '2023', 'nivel_de_experiencia': 'Senior', 'cargo': 'Gerente', 'salario_em_usd': '198200', 'residencia_do_funcionario': 'US', 'localizacao_da_empresa': 'US', 'tamanho_da_empresa': 'M', 'id': 151}, {'ano_de_trabalho': '2022', 'nivel_de_experiencia': 'Senior', 'cargo': 'Consultor', 'salario_em_usd': '122000', 'residencia_do_funcionario': 'US', 'localizacao_da_empresa': 'US', 'tamanho_da_empresa': 'M', 'id': 152}, {'ano_de_trabalho': '2022', 'nivel_de_experiencia': 'Senior', 'cargo': 'Consultor', 'salario_em_usd': '94500', 'residencia_do_funcionario': 'US', 'localizacao_da_empresa': 'US', 'tamanho_da_empresa': 'M', 'id': 153}, {'ano_de_trabalho': '2022', 'nivel_de_experiencia': 'Senior', 'cargo': 'Consultor', 'salario_em_usd': '145000', 'residencia_do_funcionario': 'US', 'localizacao_da_empresa': 'US', 'tamanho_da_empresa': 'M', 'id': 154}, {'ano_de_trabalho': '2022', 'nivel_de_experiencia': 'Senior', 'cargo': 'Consultor', 'salario_em_usd': '128000', 'residencia_do_funcionario': 'US', 'localizacao_da_empresa': 'US', 'tamanho_da_empresa': 'M', 'id': 155}, {'ano_de_trabalho': '2022', 'nivel_de_experiencia': 'Junior', 'cargo': 'Consultor', 'salario_em_usd': '24165', 'residencia_do_funcionario': 'IT', 'localizacao_da_empresa': 'IT', 'tamanho_da_empresa': 'M', 'id': 156}, {'ano_de_trabalho': '2022', 'nivel_de_experiencia': 'Senior', 'cargo': 'Gerente', 'salario_em_usd': '175000', 'residencia_do_funcionario': 'US', 'localizacao_da_empresa': 'US', 'tamanho_da_empresa': 'M', 'id': 157}, {'ano_de_trabalho': '2022', 'nivel_de_experiencia': 'Senior', 'cargo': 'Gerente', 'salario_em_usd': '120000', 'residencia_do_funcionario': 'US', 'localizacao_da_empresa': 'US', 'tamanho_da_empresa': 'M', 'id': 158}, {'ano_de_trabalho': '2022', 'nivel_de_experiencia': 'Analista', 'cargo': 'Consultor', 'salario_em_usd': '70186', 'residencia_do_funcionario': 'GB', 'localizacao_da_empresa': 'GB', 'tamanho_da_empresa': 'M', 'id': 159}, {'ano_de_trabalho': '2022', 'nivel_de_experiencia': 'Analista', 'cargo': 'Consultor', 'salario_em_usd': '51716', 'residencia_do_funcionario': 'GB', 'localizacao_da_empresa': 'GB', 'tamanho_da_empresa': 'M', 'id': 160}, {'ano_de_trabalho': '2022', 'nivel_de_experiencia': 'Junior', 'cargo': 'Consultor', 'salario_em_usd': '27317', 'residencia_do_funcionario': 'ES', 'localizacao_da_empresa': 'ES', 'tamanho_da_empresa': 'L', 'id': 161}, {'ano_de_trabalho': '2022', 'nivel_de_experiencia': 'Senior', 'cargo': 'Gerente', 'salario_em_usd': '299500', 'residencia_do_funcionario': 'US', 'localizacao_da_empresa': 'US', 'tamanho_da_empresa': 'M', 'id': 162}, {'ano_de_trabalho': '2022', 'nivel_de_experiencia': 'Senior', 'cargo': 'Gerente', 'salario_em_usd': '245100', 'residencia_do_funcionario': 'US', 'localizacao_da_empresa': 'US', 'tamanho_da_empresa': 'M', 'id': 163}, {'ano_de_trabalho': '2022', 'nivel_de_experiencia': 'Senior', 'cargo': 'Gerente', 'salario_em_usd': '247500', 'residencia_do_funcionario': 'US', 'localizacao_da_empresa': 'US', 'tamanho_da_empresa': 'M', 'id': 164}, {'ano_de_trabalho': '2022', 'nivel_de_experiencia': 'Senior', 'cargo': 'Gerente', 'salario_em_usd': '172200', 'residencia_do_funcionario': 'US', 'localizacao_da_empresa': 'US', 'tamanho_da_empresa': 'M', 'id': 165}, {'ano_de_trabalho': '2022', 'nivel_de_experiencia': 'Senior', 'cargo': 'Líder Técnico', 'salario_em_usd': '375000', 'residencia_do_funcionario': 'US', 'localizacao_da_empresa': 'US', 'tamanho_da_empresa': 'L', 'id': 166}, {'ano_de_trabalho': '2022', 'nivel_de_experiencia': 'Senior', 'cargo': 'Líder', 'salario_em_usd': '165000', 'residencia_do_funcionario': 'US', 'localizacao_da_empresa': 'US', 'tamanho_da_empresa': 'S', 'id': 167}, {'ano_de_trabalho': '2022', 'nivel_de_experiencia': 'Senior', 'cargo': 'Consultor', 'salario_em_usd': '139000', 'residencia_do_funcionario': 'US', 'localizacao_da_empresa': 'US', 'tamanho_da_empresa': 'M', 'id': 168}, {'ano_de_trabalho': '2022', 'nivel_de_experiencia': 'Senior', 'cargo': 'Consultor', 'salario_em_usd': '122000', 'residencia_do_funcionario': 'US', 'localizacao_da_empresa': 'US', 'tamanho_da_empresa': 'M', 'id': 169}, {'ano_de_trabalho': '2022', 'nivel_de_experiencia': 'Senior', 'cargo': 'Gerente', 'salario_em_usd': '243225', 'residencia_do_funcionario': 'US', 'localizacao_da_empresa': 'US', 'tamanho_da_empresa': 'M', 'id': 170}, {'ano_de_trabalho': '2022', 'nivel_de_experiencia': 'Senior', 'cargo': 'Gerente', 'salario_em_usd': '179775', 'residencia_do_funcionario': 'US', 'localizacao_da_empresa': 'US', 'tamanho_da_empresa': 'M', 'id': 171}, {'ano_de_trabalho': '2022', 'nivel_de_experiencia': 'Executivo', 'cargo': 'Gerente', 'salario_em_usd': '222640', 'residencia_do_funcionario': 'US', 'localizacao_da_empresa': 'US', 'tamanho_da_empresa': 'M', 'id': 172}, {'ano_de_trabalho': '2022', 'nivel_de_experiencia': 'Executivo', 'cargo': 'Gerente', 'salario_em_usd': '182160', 'residencia_do_funcionario': 'US', 'localizacao_da_empresa': 'US', 'tamanho_da_empresa': 'M', 'id': 173}, {'ano_de_trabalho': '2022', 'nivel_de_experiencia': 'Senior', 'cargo': 'Diretor', 'salario_em_usd': '57786', 'residencia_do_funcionario': 'FR', 'localizacao_da_empresa': 'FR', 'tamanho_da_empresa': 'L', 'id': 174}, {'ano_de_trabalho': '2022', 'nivel_de_experiencia': 'Analista', 'cargo': 'Gerente', 'salario_em_usd': '158000', 'residencia_do_funcionario': 'US', 'localizacao_da_empresa': 'US', 'tamanho_da_empresa': 'M', 'id': 175}, {'ano_de_trabalho': '2022', 'nivel_de_experiencia': 'Analista', 'cargo': 'Gerente', 'salario_em_usd': '134000', 'residencia_do_funcionario': 'US', 'localizacao_da_empresa': 'US', 'tamanho_da_empresa': 'M', 'id': 176}, {'ano_de_trabalho': '2022', 'nivel_de_experiencia': 'Senior', 'cargo': 'Gerente', 'salario_em_usd': '206000', 'residencia_do_funcionario': 'US', 'localizacao_da_empresa': 'US', 'tamanho_da_empresa': 'M', 'id': 177}, {'ano_de_trabalho': '2022', 'nivel_de_experiencia': 'Senior', 'cargo': 'Gerente', 'salario_em_usd': '175100', 'residencia_do_funcionario': 'US', 'localizacao_da_empresa': 'US', 'tamanho_da_empresa': 'M', 'id': 178}, {'ano_de_trabalho': '2022', 'nivel_de_experiencia': 'Senior', 'cargo': 'Gerente', 'salario_em_usd': '189500', 'residencia_do_funcionario': 'US', 'localizacao_da_empresa': 'US', 'tamanho_da_empresa': 'L', 'id': 179}, {'ano_de_trabalho': '2022', 'nivel_de_experiencia': 'Senior', 'cargo': 'Gerente', 'salario_em_usd': '140100', 'residencia_do_funcionario': 'US', 'localizacao_da_empresa': 'US', 'tamanho_da_empresa': 'L', 'id': 180}, {'ano_de_trabalho': '2022', 'nivel_de_experiencia': 'Executivo', 'cargo': 'Gerente', 'salario_em_usd': '260500', 'residencia_do_funcionario': 'US', 'localizacao_da_empresa': 'US', 'tamanho_da_empresa': 'M', 'id': 181}, {'ano_de_trabalho': '2022', 'nivel_de_experiencia': 'Executivo', 'cargo': 'Gerente', 'salario_em_usd': '175100', 'residencia_do_funcionario': 'US', 'localizacao_da_empresa': 'US', 'tamanho_da_empresa': 'M', 'id': 182}, {'ano_de_trabalho': '2022', 'nivel_de_experiencia': 'Senior', 'cargo': 'Gerente', 'salario_em_usd': '249260', 'residencia_do_funcionario': 'US', 'localizacao_da_empresa': 'US', 'tamanho_da_empresa': 'M', 'id': 183}, {'ano_de_trabalho': '2022', 'nivel_de_experiencia': 'Senior', 'cargo': 'Gerente', 'salario_em_usd': '185400', 'residencia_do_funcionario': 'US', 'localizacao_da_empresa': 'US', 'tamanho_da_empresa': 'M', 'id': 184}, {'ano_de_trabalho': '2022', 'nivel_de_experiencia': 'Senior', 'cargo': 'Gerente', 'salario_em_usd': '133766', 'residencia_do_funcionario': 'AU', 'localizacao_da_empresa': 'AU', 'tamanho_da_empresa': 'L', 'id': 185}, {'ano_de_trabalho': '2022', 'nivel_de_experiencia': 'Senior', 'cargo': 'Gerente', 'salario_em_usd': '300000', 'residencia_do_funcionario': 'US', 'localizacao_da_empresa': 'US', 'tamanho_da_empresa': 'M', 'id': 186}, {'ano_de_trabalho': '2022', 'nivel_de_experiencia': 'Senior', 'cargo': 'Gerente', 'salario_em_usd': '200000', 'residencia_do_funcionario': 'US', 'localizacao_da_empresa': 'US', 'tamanho_da_empresa': 'M', 'id': 187}, {'ano_de_trabalho': '2022', 'nivel_de_experiencia': 'Senior', 'cargo': 'Engenheiro', 'salario_em_usd': '60000', 'residencia_do_funcionario': 'AR', 'localizacao_da_empresa': 'MX', 'tamanho_da_empresa': 'L', 'id': 188}, {'ano_de_trabalho': '2022', 'nivel_de_experiencia': 'Analista', 'cargo': 'Gerente', 'salario_em_usd': '241000', 'residencia_do_funcionario': 'US', 'localizacao_da_empresa': 'US', 'tamanho_da_empresa': 'M', 'id': 189}, {'ano_de_trabalho': '2022', 'nivel_de_experiencia': 'Analista', 'cargo': 'Gerente', 'salario_em_usd': '159000', 'residencia_do_funcionario': 'US', 'localizacao_da_empresa': 'US', 'tamanho_da_empresa': 'M', 'id': 190}, {'ano_de_trabalho': '2022', 'nivel_de_experiencia': 'Senior', 'cargo': 'Gerente', 'salario_em_usd': '161342', 'residencia_do_funcionario': 'US', 'localizacao_da_empresa': 'US', 'tamanho_da_empresa': 'M', 'id': 191}, {'ano_de_trabalho': '2022', 'nivel_de_experiencia': 'Senior', 'cargo': 'Gerente', 'salario_em_usd': '137141', 'residencia_do_funcionario': 'US', 'localizacao_da_empresa': 'US', 'tamanho_da_empresa': 'M', 'id': 192}, {'ano_de_trabalho': '2022', 'nivel_de_experiencia': 'Executivo', 'cargo': 'Chefe', 'salario_em_usd': '224000', 'residencia_do_funcionario': 'US', 'localizacao_da_empresa': 'US', 'tamanho_da_empresa': 'M', 'id': 193}, {'ano_de_trabalho': '2022', 'nivel_de_experiencia': 'Executivo', 'cargo': 'Chefe', 'salario_em_usd': '167875', 'residencia_do_funcionario': 'US', 'localizacao_da_empresa': 'US', 'tamanho_da_empresa': 'M', 'id': 194}, {'ano_de_trabalho': '2022', 'nivel_de_experiencia': 'Executivo', 'cargo': 'Diretor', 'salario_em_usd': '192037', 'residencia_do_funcionario': 'CA', 'localizacao_da_empresa': 'CA', 'tamanho_da_empresa': 'L', 'id': 195}, {'ano_de_trabalho': '2022', 'nivel_de_experiencia': 'Senior', 'cargo': 'Gerente', 'salario_em_usd': '152500', 'residencia_do_funcionario': 'US', 'localizacao_da_empresa': 'US', 'tamanho_da_empresa': 'M', 'id': 196}, {'ano_de_trabalho': '2021', 'nivel_de_experiencia': 'Senior', 'cargo': 'Gerente', 'salario_em_usd': '240000', 'residencia_do_funcionario': 'US', 'localizacao_da_empresa': 'US', 'tamanho_da_empresa': 'L', 'id': 197}, {'ano_de_trabalho': '2021', 'nivel_de_experiencia': 'Executivo', 'cargo': 'Diretor', 'salario_em_usd': '250000', 'residencia_do_funcionario': 'US', 'localizacao_da_empresa': 'US', 'tamanho_da_empresa': 'L', 'id': 198}, {'ano_de_trabalho': '2021', 'nivel_de_experiencia': 'Executivo', 'cargo': 'Diretor', 'salario_em_usd': '130026', 'residencia_do_funcionario': 'DE', 'localizacao_da_empresa': 'DE', 'tamanho_da_empresa': 'M', 'id': 199}, {'ano_de_trabalho': '2021', 'nivel_de_experiencia': 'Junior', 'cargo': 'Consultor', 'salario_em_usd': '63831', 'residencia_do_funcionario': 'DE', 'localizacao_da_empresa': 'DE', 'tamanho_da_empresa': 'L', 'id': 200}, {'ano_de_trabalho': '2021', 'nivel_de_experiencia': 'Executivo', 'cargo': 'Chefe', 'salario_em_usd': '85000', 'residencia_do_funcionario': 'RU', 'localizacao_da_empresa': 'RU', 'tamanho_da_empresa': 'M', 'id': 201}, {'ano_de_trabalho': '2021', 'nivel_de_experiencia': 'Senior', 'cargo': 'Engenheiro', 'salario_em_usd': '127221', 'residencia_do_funcionario': 'CA', 'localizacao_da_empresa': 'CA', 'tamanho_da_empresa': 'L', 'id': 202}, {'ano_de_trabalho': '2021', 'nivel_de_experiencia': 'Senior', 'cargo': 'Gerente', 'salario_em_usd': '144000', 'residencia_do_funcionario': 'US', 'localizacao_da_empresa': 'US', 'tamanho_da_empresa': 'L', 'id': 203}, {'ano_de_trabalho': '2020', 'nivel_de_experiencia': 'Analista', 'cargo': 'Consultor', 'salario_em_usd': '103000', 'residencia_do_funcionario': 'US', 'localizacao_da_empresa': 'US', 'tamanho_da_empresa': 'L', 'id': 204}, {'ano_de_trabalho': '2021', 'nivel_de_experiencia': 'Executivo', 'cargo': 'Diretor', 'salario_em_usd': '153667', 'residencia_do_funcionario': 'IT', 'localizacao_da_empresa': 'PL', 'tamanho_da_empresa': 'L', 'id': 205}, {'ano_de_trabalho': '2021', 'nivel_de_experiencia': 'Junior', 'cargo': 'Consultor', 'salario_em_usd': '76833', 'residencia_do_funcionario': 'DE', 'localizacao_da_empresa': 'DE', 'tamanho_da_empresa': 'S', 'id': 206}, {'ano_de_trabalho': '2021', 'nivel_de_experiencia': 'Analista', 'cargo': 'Chefe', 'salario_em_usd': '110000', 'residencia_do_funcionario': 'US', 'localizacao_da_empresa': 'US', 'tamanho_da_empresa': 'S', 'id': 207}, {'ano_de_trabalho': '2021', 'nivel_de_experiencia': 'Junior', 'cargo': 'Consultor', 'salario_em_usd': '76833', 'residencia_do_funcionario': 'DE', 'localizacao_da_empresa': 'DE', 'tamanho_da_empresa': 'L', 'id': 208}, {'ano_de_trabalho': '2021', 'nivel_de_experiencia': 'Executivo', 'cargo': 'Diretor', 'salario_em_usd': '141846', 'residencia_do_funcionario': 'DE', 'localizacao_da_empresa': 'DE', 'tamanho_da_empresa': 'L', 'id': 209}, {'ano_de_trabalho': '2021', 'nivel_de_experiencia': 'Senior', 'cargo': 'Gerente', 'salario_em_usd': '54094', 'residencia_do_funcionario': 'IN', 'localizacao_da_empresa': 'US', 'tamanho_da_empresa': 'L', 'id': 210}, {'ano_de_trabalho': '2021', 'nivel_de_experiencia': 'Senior', 'cargo': 'Gerente', 'salario_em_usd': '174000', 'residencia_do_funcionario': 'US', 'localizacao_da_empresa': 'US', 'tamanho_da_empresa': 'L', 'id': 211}, {'ano_de_trabalho': '2021', 'nivel_de_experiencia': 'Executivo', 'cargo': 'Consultor', 'salario_em_usd': '69741', 'residencia_do_funcionario': 'FR', 'localizacao_da_empresa': 'ES', 'tamanho_da_empresa': 'S', 'id': 212}, {'ano_de_trabalho': '2021', 'nivel_de_experiencia': 'Junior', 'cargo': 'Consultor', 'salario_em_usd': '90000', 'residencia_do_funcionario': 'US', 'localizacao_da_empresa': 'US', 'tamanho_da_empresa': 'S', 'id': 213}, {'ano_de_trabalho': '2020', 'nivel_de_experiencia': 'Executivo', 'cargo': 'Diretor', 'salario_em_usd': '325000', 'residencia_do_funcionario': 'US', 'localizacao_da_empresa': 'US', 'tamanho_da_empresa': 'L', 'id': 214}, {'ano_de_trabalho': '2021', 'nivel_de_experiencia': 'Analista', 'cargo': 'Engenheiro', 'salario_em_usd': '40189', 'residencia_do_funcionario': 'GR', 'localizacao_da_empresa': 'GR', 'tamanho_da_empresa': 'M', 'id': 215}, {'ano_de_trabalho': '2021', 'nivel_de_experiencia': 'Senior', 'cargo': 'Gerente', 'salario_em_usd': '152000', 'residencia_do_funcionario': 'US', 'localizacao_da_empresa': 'FR', 'tamanho_da_empresa': 'L', 'id': 216}, {'ano_de_trabalho': '2020', 'nivel_de_experiencia': 'Senior', 'cargo': 'Gerente', 'salario_em_usd': '190200', 'residencia_do_funcionario': 'US', 'localizacao_da_empresa': 'US', 'tamanho_da_empresa': 'M', 'id': 217}, {'ano_de_trabalho': '2021', 'nivel_de_experiencia': 'Senior', 'cargo': 'Diretor', 'salario_em_usd': '168000', 'residencia_do_funcionario': 'JP', 'localizacao_da_empresa': 'JP', 'tamanho_da_empresa': 'S', 'id': 218}, {'ano_de_trabalho': '2021', 'nivel_de_experiencia': 'Senior', 'cargo': 'Gerente', 'salario_em_usd': '94665', 'residencia_do_funcionario': 'IN', 'localizacao_da_empresa': 'IN', 'tamanho_da_empresa': 'L', 'id': 219}]\n"
          ]
        }
      ],
      "source": [
        "def remover_info(d, *chaves):\n",
        "    return {k: v for k, v in d.items() if k not in chaves}\n",
        "\n",
        "chaves_a_remover = ['moeda_do_salario', 'trabalho_remoto', 'salario', 'tipo_de_emprego']\n",
        "\n",
        "\n",
        "dados_sem_chaves = list(map(lambda d: remover_info(d, *chaves_a_remover), dados))\n",
        "\n",
        "print(dados_sem_chaves)"
      ]
    },
    {
      "cell_type": "code",
      "execution_count": 5,
      "metadata": {
        "id": "75d3SjO8RDf3"
      },
      "outputs": [],
      "source": [
        "def inserir_dado(dados: list[dict], incremental: list[dict]) -> bool:\n",
        "    try:\n",
        "        novo_registro = {\n",
        "            'ano_de_trabalho': input('\\nAno da informação: \\n'),\n",
        "            'nivel_de_experiencia': input('Qual a experiência: \\n'),\n",
        "            'cargo': input('Qual a profissão: \\n'),\n",
        "            'salario_em_usd': input('Qual o salário em dolar: \\n'),\n",
        "            'residencia_do_funcionario': input('Qual a residência : \\n'),\n",
        "            'localizacao_da_empresa': input('Qual a localização da empresa: \\n'),\n",
        "            'tamanho_da_empresa': input('Quantos funcionários: \\n'),\n",
        "            'id': len(incremental) + 1\n",
        "        }\n",
        "\n",
        "        dados.append(novo_registro)\n",
        "        incremental.append({'id': len(incremental) + 1})\n",
        "\n",
        "        print(\"Registro inserido com sucesso.\")\n",
        "        return True\n",
        "    except Exception as e:\n",
        "        print(f\"Ocorreu um erro ao inserir o registro: {e}\")\n",
        "        return False"
      ]
    },
    {
      "cell_type": "code",
      "execution_count": 6,
      "metadata": {
        "id": "3ojcPhoZRDf4"
      },
      "outputs": [],
      "source": [
        "def atualizar_dado(dados):\n",
        "    while True:\n",
        "        try:\n",
        "            id_atualizado = int(input(\"Insira o ID que se deseja atualizar (ou digite 9 para voltar ao menu): \"))\n",
        "        except ValueError:\n",
        "            print(\"Por favor, insira um ID válido (número inteiro).\")\n",
        "            continue\n",
        "\n",
        "        if id_atualizado == 9:\n",
        "            print(\"Voltando para o menu principal.\")\n",
        "            return False\n",
        "\n",
        "        encontrado = False\n",
        "        for dado in dados:\n",
        "            if dado.get(\"id\") == id_atualizado:\n",
        "                print(\"Registro atual:\")\n",
        "                print(dado)\n",
        "\n",
        "                try:\n",
        "                    new_ano_de_trabalho = input(\"Entre com novo ano: \")\n",
        "                    new_nivel_de_experiencia = input(\"Entre com novo nivel de experiencia: \")\n",
        "                    new_cargo = input(\"Entre com novo cargo: \")\n",
        "                    new_salario_em_usd = input(\"Entre com novo salário em dolar: \")\n",
        "                    new_residencia_do_funcionario = input(\"Entre com a residência do funcionário: \")\n",
        "                    new_localizacao_da_empresa = input(\"Entre com localização da empresa: \")\n",
        "                    new_tamanho_da_empresa = input(\"Entre com tamanho da empresa: \")\n",
        "                except Exception as e:\n",
        "                    print(f\"Erro ao obter novos dados: {e}\")\n",
        "                    return False\n",
        "\n",
        "                # Atualizando o dict\n",
        "                dado[\"ano_de_trabalho\"] = new_ano_de_trabalho\n",
        "                dado[\"nivel_de_experiencia\"] = new_nivel_de_experiencia\n",
        "                dado[\"cargo\"] = new_cargo\n",
        "                dado[\"salario_em_usd\"] = new_salario_em_usd\n",
        "                dado[\"residencia_do_funcionario\"] = new_residencia_do_funcionario\n",
        "                dado[\"localizacao_da_empresa\"] = new_localizacao_da_empresa\n",
        "                dado[\"tamanho_da_empresa\"] = new_tamanho_da_empresa\n",
        "\n",
        "                print(\"Dicionário atualizado com sucesso.\")\n",
        "                encontrado = True\n",
        "                break\n",
        "\n",
        "        if not encontrado:\n",
        "            print(f\"Nenhum registro encontrado com o ID {id_atualizado}. Tente novamente.\")"
      ]
    },
    {
      "cell_type": "code",
      "execution_count": 7,
      "metadata": {
        "id": "h6VEf8ueRDf5"
      },
      "outputs": [],
      "source": [
        "def apagar_dado(dados):\n",
        "    while True:\n",
        "        try:\n",
        "            id_para_apagar = int(input(\"Qual ID deseja apagar (ou digite 9 para voltar ao menu): \"))\n",
        "        except ValueError:\n",
        "            print(\"Por favor, insira um ID válido (número inteiro).\")\n",
        "            continue\n",
        "\n",
        "        if id_para_apagar == 9:\n",
        "            print(\"Voltando para o menu principal.\")\n",
        "            return False\n",
        "\n",
        "        apagado = [dado for dado in dados if dado['id'] == id_para_apagar]\n",
        "\n",
        "        if len(apagado) == 0:\n",
        "            print('Não foi encontrado nenhum registro com o ID informado. Tente novamente.')\n",
        "        else:\n",
        "            print(f'Excluídos {len(apagado)} registros!')\n",
        "\n",
        "            # Modificando a lista original\n",
        "            dados[:] = [dic for dic in dados if dic['id'] != id_para_apagar]\n",
        "\n",
        "            return True"
      ]
    },
    {
      "cell_type": "code",
      "execution_count": 8,
      "metadata": {
        "id": "Wpx0bK1URDf5"
      },
      "outputs": [],
      "source": [
        "def valida_opcoes(valor: str, opcoes: list) -> bool:\n",
        "    # Verifica se o valor está presente na lista de opções.\n",
        "    return valor in opcoes"
      ]
    },
    {
      "cell_type": "code",
      "execution_count": 9,
      "metadata": {
        "id": "AEvrI4qXRDf6"
      },
      "outputs": [],
      "source": [
        "def obter_opcoes(opcoes, msg='Opções'):\n",
        "    # Construindo a mensagem com as opções disponíveis\n",
        "    msg = f\"\\n{msg} ({' | '.join([f'{key} - {value}' for key, value in opcoes.items()])}):\"\n",
        "\n",
        "    while True:\n",
        "        # Solicitando que o usuário insira uma opção\n",
        "        valor = input(msg).upper()\n",
        "\n",
        "        # Verificando se a opção inserida é válida usando a função valida_opcoes\n",
        "        if valida_opcoes(valor, opcoes.keys()):\n",
        "            break\n",
        "\n",
        "        # Se a opção não for válida, gerando uma mensagem de erro\n",
        "        msg = f'Entrada Inválida! As opções válidas são {\", \".join(opcoes.keys())}\\n' + msg\n",
        "\n",
        "    # Retornando a opção válida inserida pelo usuário\n",
        "    return valor"
      ]
    },
    {
      "cell_type": "code",
      "execution_count": 10,
      "metadata": {
        "id": "Jcqq6cpORDf7"
      },
      "outputs": [],
      "source": [
        "def obter_ano_de_trabalho(dados, msg='Anos') -> str:\n",
        "    anos = sorted(list(set(dado['ano_de_trabalho'] for dado in dados)))\n",
        "    while True:\n",
        "        try:\n",
        "            ano = input(f\"{msg} ({' | '.join(anos)}): \")\n",
        "            if ano in anos:\n",
        "                break\n",
        "            else:\n",
        "                raise ValueError('Entrada Inválida! Dado não está na lista.')\n",
        "        except ValueError as e:\n",
        "            print(f'Erro: {e}\\n')\n",
        "    return ano\n",
        "\n",
        "def obter_nivel_de_experiencia(dados, msg='Experiencias') -> str:\n",
        "    experiencias = sorted(list(set(dado['nivel_de_experiencia'] for dado in dados)))\n",
        "    while True:\n",
        "        try:\n",
        "            experiencia = input(f\"{msg} ({' | '.join(experiencias)}): \").title()\n",
        "            if experiencia in experiencias:\n",
        "                break\n",
        "            else:\n",
        "                raise ValueError('Entrada Inválida! Dado não está na lista.')\n",
        "        except ValueError as e:\n",
        "            print(f'Erro: {e}\\n')\n",
        "    return experiencia\n",
        "\n",
        "def obter_cargo(dados, msg='Cargo') -> str:\n",
        "    cargos = sorted(list(set(dado['cargo'] for dado in dados)))\n",
        "    while True:\n",
        "        try:\n",
        "            cargo = input(f\"{msg} ({' | '.join(cargos)}): \")\n",
        "            if cargo in cargos:\n",
        "                break\n",
        "            else:\n",
        "                raise ValueError('Entrada Inválida! Dado não está na lista.')\n",
        "        except ValueError as e:\n",
        "            print(f'Erro: {e}\\n')\n",
        "    return cargo\n",
        "\n",
        "def obter_residencia_do_funcionario(dados, msg='Residencia do Funcionario') -> str:\n",
        "    funcionarios = sorted(list(set(dado['residencia_do_funcionario'] for dado in dados)))\n",
        "    while True:\n",
        "        try:\n",
        "            funcionario = input(f\"{msg} ({' | '.join(funcionarios)}): \").upper()\n",
        "            if funcionario in funcionarios:\n",
        "                break\n",
        "            else:\n",
        "                raise ValueError('Entrada Inválida! Dado não está na lista.')\n",
        "        except ValueError as e:\n",
        "            print(f'Erro: {e}\\n')\n",
        "    return funcionario\n",
        "\n",
        "def obter_localizacao_da_empresa(dados, msg='Localizacao da Empresa') -> str:\n",
        "    empresas = sorted(list(set(dado['localizacao_da_empresa'] for dado in dados)))\n",
        "    while True:\n",
        "        try:\n",
        "            empresa = input(f\"{msg} ({' | '.join(empresas)}): \").upper()\n",
        "            if empresa in empresas:\n",
        "                break\n",
        "            else:\n",
        "                raise ValueError('Entrada Inválida! Dado não está na lista.')\n",
        "        except ValueError as e:\n",
        "            print(f'Erro: {e}\\n')\n",
        "    return empresa\n",
        "\n",
        "def obter_tamanho_da_empresa(dados, msg='tamanho_da_empresa') -> str:\n",
        "    tamanhos = sorted(list(set(dado['tamanho_da_empresa'] for dado in dados)))\n",
        "    while True:\n",
        "        try:\n",
        "            tamanho = input(f\"{msg} ({' | '.join(tamanhos)}): \").upper()\n",
        "            if tamanho in tamanhos:\n",
        "                break\n",
        "            else:\n",
        "                raise ValueError('Entrada Inválida! Dado não está na lista.')\n",
        "        except ValueError as e:\n",
        "            print(f'Erro: {e}\\n')\n",
        "    return tamanho"
      ]
    },
    {
      "cell_type": "code",
      "execution_count": 11,
      "metadata": {
        "id": "kZLUz0mvRDf8"
      },
      "outputs": [],
      "source": [
        "# filtrando por ano -> a saída de cada função será a entrada da próxima\n",
        "def filtro_ano_de_trabalho(item, opc) -> list[dict]:\n",
        "    try:\n",
        "        return [dado for dado in item if dado['ano_de_trabalho'] == opc]\n",
        "    except TypeError:\n",
        "        raise ValueError('Filtro de ano inválido.')\n",
        "    except Exception as e:\n",
        "        raise ValueError(f'Erro no filtro de ano: {e}')\n",
        "# |\n",
        "# v\n",
        "\n",
        "# filtra por nível de experiencia:\n",
        "def filtro_nivel_de_experiencia(item, opc) -> list[dict]:\n",
        "    try:\n",
        "        return [dado for dado in item if dado['nivel_de_experiencia'] == opc]\n",
        "    except TypeError:\n",
        "        raise ValueError('Filtro de ano inválido.')\n",
        "    except Exception as e:\n",
        "        raise ValueError(f'Erro no filtro de ano: {e}')\n",
        "\n",
        "# |\n",
        "# v\n",
        "\n",
        "# filtra por tipo de cargo\n",
        "def filtro_cargo(item, opc) -> list[dict]:\n",
        "    try:\n",
        "        return [dado for dado in item if dado['cargo'] == opc]\n",
        "    except TypeError:\n",
        "        raise ValueError('Filtro de ano inválido.')\n",
        "    except Exception as e:\n",
        "        raise ValueError(f'Erro no filtro de ano: {e}')\n",
        "\n",
        "# |\n",
        "# v\n",
        "\n",
        "# filtra por localização do funcionário\n",
        "def filtro_residencia_do_funcionario(item, opc) -> list[dict]:\n",
        "    try:\n",
        "        return [dado for dado in item if dado['residencia_do_funcionario'] == opc]\n",
        "    except TypeError:\n",
        "        raise ValueError('Filtro de localização inválido .')\n",
        "    except Exception as e:\n",
        "        raise ValueError(f'Erro no filtro de localização funcionário: {e}')\n",
        "# |\n",
        "# v\n",
        "\n",
        "# filtra por localização da empresa\n",
        "def filtro_localizacao_da_empresa(item, opc) -> list[dict]:\n",
        "    try:\n",
        "        return [dado for dado in item if dado['localizacao_da_empresa'] == opc]\n",
        "    except TypeError:\n",
        "        raise ValueError('Filtro de localização Empresa inválido .')\n",
        "    except Exception as e:\n",
        "        raise ValueError(f'Erro no filtro localização Empresa: {e}')\n",
        "\n",
        "# |\n",
        "# v\n",
        "\n",
        "# filtra por tamanho da empresa\n",
        "def filtro_tamanho_da_empresa(item, opc) -> list[dict]:\n",
        "    try:\n",
        "        return [dado for dado in item if dado['tamanho_da_empresa'] == opc]\n",
        "    except TypeError:\n",
        "        raise ValueError('Filtro de ano inválido.')\n",
        "    except Exception as e:\n",
        "        raise ValueError(f'Erro no filtro de ano: {e}')"
      ]
    },
    {
      "cell_type": "code",
      "source": [
        "def visualizar_dados(dados):\n",
        "    if not dados:\n",
        "        print(\"Não há dados para visualizar.\")\n",
        "        return\n",
        "\n",
        "    for registro in dados:\n",
        "        print(\"ID:\", registro[\"id\"])\n",
        "        print(\"Ano de Trabalho:\", registro[\"ano_de_trabalho\"])\n",
        "        print(\"Nível de Experiência:\", registro[\"nivel_de_experiencia\"])\n",
        "        print(\"Cargo:\", registro[\"cargo\"])\n",
        "        print(\"Salário em USD:\", registro[\"salario_em_usd\"])\n",
        "        print(\"Residência do Funcionário:\", registro[\"residencia_do_funcionario\"])\n",
        "        print(\"Localização da Empresa:\", registro[\"localizacao_da_empresa\"])\n",
        "        print(\"Tamanho da Empresa:\", registro[\"tamanho_da_empresa\"])\n",
        "        print(\"-\" * 30)"
      ],
      "metadata": {
        "id": "p9r80rt4xBDK"
      },
      "execution_count": 12,
      "outputs": []
    },
    {
      "cell_type": "code",
      "execution_count": 13,
      "metadata": {
        "id": "5luPqacQRDf9"
      },
      "outputs": [],
      "source": [
        "def salvar_dados_csv(dados:list[dict], path:str = 'salirios_novos.json') -> bool:\n",
        "    try:\n",
        "        with open(path, 'w') as arquivo:\n",
        "            arquivo.write(json.dumps(dados))\n",
        "            return True\n",
        "    except Exception:\n",
        "        return False"
      ]
    },
    {
      "cell_type": "code",
      "execution_count": 14,
      "metadata": {
        "id": "a9m3FEldRDf9"
      },
      "outputs": [],
      "source": [
        "def salvar_csv(id, resultado):\n",
        "    header = [['ID', 'Valor']]\n",
        "    data =   [[id, resultado]]\n",
        "    with open('estatisticas.csv', 'w', newline='', encoding='utf-8') as arquivo:\n",
        "        escritor = csv.writer(arquivo, delimiter=';', lineterminator='\\n')\n",
        "        escritor.writerows(header+data)"
      ]
    },
    {
      "cell_type": "code",
      "source": [
        "def encontrar_minimo(salario_atual, proximo_salario):\n",
        "    return min(salario_atual, proximo_salario)"
      ],
      "metadata": {
        "id": "O0FNm9dd5yYx"
      },
      "execution_count": 15,
      "outputs": []
    },
    {
      "cell_type": "code",
      "source": [
        "def encontrar_maximo(salario_atual, proximo_salario):\n",
        "    return max(salario_atual, proximo_salario)"
      ],
      "metadata": {
        "id": "VVvSBxcK52Gd"
      },
      "execution_count": 16,
      "outputs": []
    },
    {
      "cell_type": "code",
      "execution_count": 17,
      "metadata": {
        "id": "tlTlFAPWRDf-"
      },
      "outputs": [],
      "source": [
        "def menu():\n",
        "    opcao_entrada = {'1': 'Inserir', '2': 'Remover', '3': 'Atualizar', '4': 'Estatística', '9': 'Sair'}\n",
        "    item = int(obter_opcoes(opcao_entrada, 'Escolha a opcao'))\n",
        "\n",
        "    if item == 1:\n",
        "        inserir_dado(dados, incremental)\n",
        "        salvar_dados(dados, 'salarios.json')\n",
        "\n",
        "    elif item == 2:\n",
        "        visualizar_dados(dados)\n",
        "        apagar_dado(dados)\n",
        "        salvar_dados(dados, 'salarios.json')\n",
        "\n",
        "    elif item == 3:\n",
        "        visualizar_dados(dados)\n",
        "        atualizar_dado(dados)\n",
        "        salvar_dados(dados, 'salarios.json')\n",
        "\n",
        "    elif item == 4:\n",
        "\n",
        "        ano_de_trabalho = obter_ano_de_trabalho(dados)\n",
        "        dados_finais = filtro_ano_de_trabalho(dados, ano_de_trabalho)\n",
        "        contagem = len(dados_finais)\n",
        "        print(f'Número de registros do ano {ano_de_trabalho}: {contagem}')\n",
        "\n",
        "        nivel_de_experiencia = obter_nivel_de_experiencia(dados_finais)\n",
        "        dados_finais = filtro_nivel_de_experiencia(dados_finais, nivel_de_experiencia)\n",
        "        contagem = len(dados_finais)\n",
        "        print(f'Número de registros desse nível de experiência: {contagem}')\n",
        "\n",
        "        cargo = obter_cargo(dados_finais)\n",
        "        dados_finais = filtro_cargo(dados_finais, cargo)\n",
        "        contagem = len(dados_finais)\n",
        "        print(f'Número de registros desse cargo: {contagem}')\n",
        "\n",
        "        residencia_do_funcionario =obter_residencia_do_funcionario(dados_finais)\n",
        "        dados_finais = filtro_residencia_do_funcionario(dados_finais, residencia_do_funcionario)\n",
        "        contagem = len(dados_finais)\n",
        "        print(f'Número de registros de funcionários que moram nesse local: {contagem}')\n",
        "\n",
        "        localizacao_da_empresa =obter_localizacao_da_empresa(dados_finais)\n",
        "        dados_finais = filtro_localizacao_da_empresa(dados_finais, localizacao_da_empresa)\n",
        "        contagem = len(dados_finais)\n",
        "        print(f'Número de empresas sediadas nesse local: {contagem}')\n",
        "\n",
        "        tamanho_da_empresa = obter_tamanho_da_empresa(dados_finais)\n",
        "        dados_finais = filtro_tamanho_da_empresa(dados_finais, tamanho_da_empresa)\n",
        "        contagem = len(dados_finais)\n",
        "        print(f'Número de registros de empresas desse porte: {contagem}')\n",
        "\n",
        "        salarios = [(float(x['salario_em_usd']), x['id']) for x in dados_finais]\n",
        "        salarios_valor = [float(x['salario_em_usd']) for x in dados_finais]\n",
        "\n",
        "        media = sum(salarios_valor)/len(salarios_valor)\n",
        "        max_min = input(f'Voce deseja calcular o Max ou o Min? ').capitalize()\n",
        "        if max_min == 'Max':\n",
        "          resultado = reduce(encontrar_maximo, [salario for salario, _ in salarios])\n",
        "\n",
        "        elif max_min == 'Min':\n",
        "          resultado = reduce(encontrar_minimo, [salario for salario, _ in salarios])\n",
        "        else:\n",
        "          raise ValueError(\"Operação inválida. Use 'max' ou 'min'.\")\n",
        "\n",
        "        id_correspondente = next(id for salario, id in salarios if salario == resultado)\n",
        "        print(f\"Salário mínimo: {resultado:.2f} USD\")\n",
        "        print(f\"ID correspondente: {id_correspondente}\")\n",
        "        print(f'O {max_min} é {resultado:.2f} corresponde ao id {id_correspondente}, A média salarial é {media:.2f}')\n",
        "        salvar_csv(id_correspondente, resultado)\n",
        "\n",
        "\n",
        "    elif item == 9:\n",
        "        return False\n",
        "    return True"
      ]
    },
    {
      "cell_type": "code",
      "source": [
        "salarios = [(float(x['salario_em_usd']), x['id']) for x in dados]\n",
        "def encontrar_minimo(salario_atual, proximo_salario):\n",
        "    return min(salario_atual, proximo_salario)\n",
        "\n",
        "# Use a função reduce para encontrar o salário mínimo\n",
        "salario_minimo = reduce(encontrar_minimo, [salario for salario, _ in salarios])\n",
        "\n",
        "# Encontre o ID correspondente ao salário mínimo\n",
        "id_correspondente = next(id for salario, id in salarios if salario == salario_minimo)\n",
        "\n",
        "print(f\"Salário mínimo: {salario_minimo} USD\")\n",
        "print(f\"ID correspondente: {id_correspondente}\")"
      ],
      "metadata": {
        "colab": {
          "base_uri": "https://localhost:8080/"
        },
        "id": "pYNviv5K-oGT",
        "outputId": "34e44973-8660-4445-bbd8-bb435585fda8"
      },
      "execution_count": 18,
      "outputs": [
        {
          "output_type": "stream",
          "name": "stdout",
          "text": [
            "Salário mínimo: 24165.0 USD\n",
            "ID correspondente: 156\n"
          ]
        }
      ]
    },
    {
      "cell_type": "code",
      "execution_count": 19,
      "metadata": {
        "id": "vWq_gam0RDf_",
        "colab": {
          "base_uri": "https://localhost:8080/"
        },
        "outputId": "a45d5d1b-c853-4c17-84ab-c2530414bd08"
      },
      "outputs": [
        {
          "name": "stdout",
          "output_type": "stream",
          "text": [
            "\n",
            "Escolha a opcao (1 - Inserir | 2 - Remover | 3 - Atualizar | 4 - Estatística | 9 - Sair):4\n",
            "Anos (2020 | 2021 | 2022 | 2023): 2023\n",
            "Número de registros do ano 2023: 147\n",
            "Experiencias (Analista | Executivo | Junior | Senior): analista\n",
            "Número de registros desse nível de experiência: 29\n",
            "Cargo (Chefe | Consultor | Diretor | Engenheiro | Gerente | Líder): chefe\n",
            "Erro: Entrada Inválida! Dado não está na lista.\n",
            "\n",
            "Cargo (Chefe | Consultor | Diretor | Engenheiro | Gerente | Líder): Chefe\n",
            "Número de registros desse cargo: 1\n",
            "Residencia do Funcionario (IN): IN\n",
            "Número de registros de funcionários que moram nesse local: 1\n",
            "Localizacao da Empresa (IN): IN\n",
            "Número de empresas sediadas nesse local: 1\n",
            "tamanho_da_empresa (L): L\n",
            "Número de registros de empresas desse porte: 1\n",
            "Voce deseja calcular o Max ou o Min? max\n",
            "Salário mínimo: 60805.00 USD\n",
            "ID correspondente: 139\n",
            "O Max é 60805.00 corresponde ao id 139, A média salarial é 60805.00\n",
            "\n",
            "Deseja Sair (S - Sim | N - Não):s\n"
          ]
        }
      ],
      "source": [
        "while True:\n",
        "    item = menu()\n",
        "    salvar_dados(dados) #Salvandos os dados modificados\n",
        "    if item == False:\n",
        "        break\n",
        "    if obter_opcoes({'S': 'Sim', 'N': 'Não'}, 'Deseja Sair') == 'S':\n",
        "        break"
      ]
    },
    {
      "cell_type": "code",
      "source": [
        "def printar_csv(nome_arquivo):\n",
        "    try:\n",
        "        with open(nome_arquivo, 'r', newline='', encoding='utf-8') as arquivo:\n",
        "            leitor = csv.reader(arquivo, delimiter=';')\n",
        "            for linha in leitor:\n",
        "                print(linha)\n",
        "    except FileNotFoundError:\n",
        "        print(f'O arquivo {nome_arquivo} não foi encontrado.')\n",
        "    except Exception as e:\n",
        "        print(f'Erro ao abrir o arquivo: {e}')\n",
        "\n",
        "# Chamada da função para imprimir o conteúdo do arquivo CSV\n",
        "printar_csv('estatisticas.csv')"
      ],
      "metadata": {
        "colab": {
          "base_uri": "https://localhost:8080/"
        },
        "id": "3hSSBnlQX9VJ",
        "outputId": "541a922a-69c6-408c-89d6-f721d85b47ea"
      },
      "execution_count": 21,
      "outputs": [
        {
          "output_type": "stream",
          "name": "stdout",
          "text": [
            "['ID', 'Valor']\n",
            "['139', '60805.0']\n"
          ]
        }
      ]
    }
  ],
  "metadata": {
    "kernelspec": {
      "display_name": "Python 3",
      "language": "python",
      "name": "python3"
    },
    "language_info": {
      "codemirror_mode": {
        "name": "ipython",
        "version": 3
      },
      "file_extension": ".py",
      "mimetype": "text/x-python",
      "name": "python",
      "nbconvert_exporter": "python",
      "pygments_lexer": "ipython3",
      "version": "3.10.9"
    },
    "colab": {
      "provenance": []
    }
  },
  "nbformat": 4,
  "nbformat_minor": 0
}